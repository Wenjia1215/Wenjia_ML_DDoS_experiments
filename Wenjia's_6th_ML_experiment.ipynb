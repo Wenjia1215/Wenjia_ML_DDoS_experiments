{
  "cells": [
    {
      "cell_type": "markdown",
      "metadata": {
        "id": "view-in-github",
        "colab_type": "text"
      },
      "source": [
        "<a href=\"https://colab.research.google.com/github/Wenjia1215/Wenjia_ML_DDoS_experiments/blob/main/Wenjia's_6th_ML_experiment.ipynb\" target=\"_parent\"><img src=\"https://colab.research.google.com/assets/colab-badge.svg\" alt=\"Open In Colab\"/></a>"
      ]
    },
    {
      "cell_type": "code",
      "execution_count": null,
      "metadata": {
        "id": "R6-98C8WZPOX"
      },
      "outputs": [],
      "source": [
        ""
      ]
    },
    {
      "cell_type": "code",
      "execution_count": null,
      "metadata": {
        "id": "eYLEdtQZbjvd"
      },
      "outputs": [],
      "source": [
        ""
      ]
    },
    {
      "cell_type": "markdown",
      "metadata": {
        "id": "t1GA_tspxYXs"
      },
      "source": [
        "<h1><strong>Wenjia's 6th ML experiment</strong></h1>\n",
        "\n",
        "\n",
        "8/12/2022\n",
        "</br>calculate the mutual information score of every feature, and then choose high scored features to train the model.\n",
        "\n",
        "\n",
        "There is an error in the fifth experiment, the label is also put into X while calculating MI.\n",
        "\n",
        "This time it's correct."
      ]
    },
    {
      "cell_type": "markdown",
      "source": [
        "8/14/2022\n",
        "<br/>update:\n",
        "<br/>SVM, LR, KNN, every classifier is used to fit 3 models with 3 different feature sets.\n",
        "<br/>\n",
        "3*3 = 9"
      ],
      "metadata": {
        "id": "no7izo5DE4d1"
      }
    },
    {
      "cell_type": "markdown",
      "metadata": {
        "id": "I5ii-DoDAAo_"
      },
      "source": [
        "Goal: use Traffic data to predict which one is DDoS attack and which one is normal traffic.</br>\n",
        "Outline:</br>\n",
        "\n",
        "    1, Gathering Data\n",
        "\n",
        "    2, Preparing Data\n",
        "\n",
        "    3, Model Selection\n",
        "\n",
        "    4, Training\n",
        "\n",
        "    5, Evaluation\n",
        "\n",
        "    6, Parameter Tuning\n",
        "\n",
        "    7, Prediction"
      ]
    },
    {
      "cell_type": "markdown",
      "metadata": {
        "id": "3Bw3wRM68zzC"
      },
      "source": [
        "1, Gathering Data (Done by dataset lab)</br>\n",
        "2, Preparing Data "
      ]
    },
    {
      "cell_type": "code",
      "execution_count": null,
      "metadata": {
        "id": "xhlBH_Ry6dE-"
      },
      "outputs": [],
      "source": [
        "!gdown --id 1V9Kn7QL6knFDB1TRSIPqm0Jne5beDHZP"
      ]
    },
    {
      "cell_type": "code",
      "execution_count": null,
      "metadata": {
        "id": "DSZiOtcW7DCO"
      },
      "outputs": [],
      "source": [
        "import pandas as pd\n",
        "\n",
        "# see complete rows in pandas\n",
        "# use pd.set_option('max_colwidth', <width>) for column width & pd.set_option('max_rows', <rows>) for number of rows.\n",
        "\n",
        "pd.set_option('max_rows', 80)"
      ]
    },
    {
      "cell_type": "code",
      "execution_count": null,
      "metadata": {
        "id": "eqnXSKrr7xym"
      },
      "outputs": [],
      "source": [
        "file_path = '/content/Friday-WorkingHours-Afternoon-DDos.pcap_ISCX.csv'"
      ]
    },
    {
      "cell_type": "code",
      "execution_count": null,
      "metadata": {
        "id": "wGqJLBsK76xp"
      },
      "outputs": [],
      "source": [
        "ddos_data = pd.read_csv(file_path)"
      ]
    },
    {
      "cell_type": "code",
      "execution_count": null,
      "metadata": {
        "id": "4YVrGLN_8Arj"
      },
      "outputs": [],
      "source": [
        "\n",
        "ddos_data.head()"
      ]
    },
    {
      "cell_type": "code",
      "execution_count": null,
      "metadata": {
        "id": "t9Oc7k85bxUt"
      },
      "outputs": [],
      "source": [
        ""
      ]
    },
    {
      "cell_type": "code",
      "execution_count": null,
      "metadata": {
        "id": "w1vS1r1bJFTF"
      },
      "outputs": [],
      "source": [
        ""
      ]
    },
    {
      "cell_type": "markdown",
      "metadata": {
        "id": "DW5m8cg4y67y"
      },
      "source": [
        "Preprocess data</br>"
      ]
    },
    {
      "cell_type": "code",
      "execution_count": null,
      "metadata": {
        "id": "913oxdKnvLJD"
      },
      "outputs": [],
      "source": [
        "#data preprocessing\n",
        "# NaN\n",
        "# infinity\n",
        "\n",
        "# Deleted\n",
        "  # Flow ID\n",
        "  # Source IP\n",
        "  # Source Port\n",
        "  # Destination IP\n",
        "  # Timestamp\n",
        "  # Protocol"
      ]
    },
    {
      "cell_type": "markdown",
      "metadata": {
        "id": "vkV3cCBfJ1zI"
      },
      "source": [
        "**bold text**\n",
        "Replacing missing values"
      ]
    },
    {
      "cell_type": "code",
      "execution_count": null,
      "metadata": {
        "id": "yOqt3TSIML4Q"
      },
      "outputs": [],
      "source": [
        "ddos_data.isnull().sum().sum()"
      ]
    },
    {
      "cell_type": "code",
      "execution_count": null,
      "metadata": {
        "id": "Cu8zA3MfJ1gH"
      },
      "outputs": [],
      "source": [
        "ddos_data = ddos_data.fillna(ddos_data.median())"
      ]
    },
    {
      "cell_type": "code",
      "execution_count": null,
      "metadata": {
        "id": "CUTTpdDqPmRb"
      },
      "outputs": [],
      "source": [
        "ddos_data.isnull().sum().sum()"
      ]
    },
    {
      "cell_type": "markdown",
      "metadata": {
        "id": "ulki-ZomP0p2"
      },
      "source": [
        "  Replace Infinity values with \"0\"\n"
      ]
    },
    {
      "cell_type": "code",
      "execution_count": null,
      "metadata": {
        "id": "LLFEhiruP8zw"
      },
      "outputs": [],
      "source": [
        "import numpy as np\n",
        "ddos_data.isin([np.inf, -np.inf]).sum().sum()\n"
      ]
    },
    {
      "cell_type": "code",
      "execution_count": null,
      "metadata": {
        "id": "9pLIEbHnXug9"
      },
      "outputs": [],
      "source": [
        "ddos_data.replace([np.inf, -np.inf], 0, inplace=True)"
      ]
    },
    {
      "cell_type": "code",
      "execution_count": null,
      "metadata": {
        "id": "D5xIZTiAYG93"
      },
      "outputs": [],
      "source": [
        "ddos_data.isin([np.inf, -np.inf]).sum().sum()"
      ]
    },
    {
      "cell_type": "code",
      "execution_count": null,
      "metadata": {
        "id": "eMrMg93yadFV"
      },
      "outputs": [],
      "source": [
        "ddos_data = ddos_data.replace(to_replace = \"BENIGN\", value = 0)\n",
        "ddos_data = ddos_data.replace(to_replace = \"DDoS\", value = 1)"
      ]
    },
    {
      "cell_type": "markdown",
      "metadata": {
        "id": "1etULpX31j1S"
      },
      "source": [
        "To make sure all data meaningful,</br>\n",
        "Drop missing value again."
      ]
    },
    {
      "cell_type": "code",
      "execution_count": null,
      "metadata": {
        "id": "f6m-_NQ61jgu"
      },
      "outputs": [],
      "source": [
        "#count the total amount of row\n",
        "ddos_data.shape[0]"
      ]
    },
    {
      "cell_type": "code",
      "execution_count": null,
      "metadata": {
        "id": "GPhl6S1T6Crg"
      },
      "outputs": [],
      "source": [
        "# drop missings\n",
        "ddos_data = ddos_data.dropna(axis=0)"
      ]
    },
    {
      "cell_type": "code",
      "execution_count": null,
      "metadata": {
        "id": "Auu2wQ-E6XFA"
      },
      "outputs": [],
      "source": [
        "#count again\n",
        "ddos_data.shape[0]\n",
        "# the number is same, it proves that the data preprocess is efficient."
      ]
    },
    {
      "cell_type": "markdown",
      "metadata": {
        "id": "ru-SAieW3Dmt"
      },
      "source": [
        "Preprocess IP address<br/>\n",
        "To prevent having many features you have to encode IP addresses in your training data and treat new IP as unknown\n",
        "<br/> Hot encoding\n",
        "\n",
        "\n",
        "CIC-IDS2017"
      ]
    },
    {
      "cell_type": "code",
      "execution_count": null,
      "metadata": {
        "id": "zAir8Gw638bR"
      },
      "outputs": [],
      "source": [
        "# Pros:\n",
        "# 1, The model can more easily identify IP's that belong to the same subnet.\n",
        "# 2, The number of features remains small even for a large number of distinct IP addresses in your training data.\n",
        "# Reference: https://www.quora.com/How-can-I-deal-with-IP-addresses-in-machine-learning-algorithms-in-traffic-analysis-and-anomaly-detection"
      ]
    },
    {
      "cell_type": "code",
      "execution_count": null,
      "metadata": {
        "id": "O361q_5j3DKi"
      },
      "outputs": [],
      "source": [
        "# from sklearn import preprocessing\n",
        "# ip_encoder = preprocessing.LabelBinarizer()"
      ]
    },
    {
      "cell_type": "code",
      "execution_count": null,
      "metadata": {
        "id": "3_8X6jhB4Ntl"
      },
      "outputs": [],
      "source": [
        "# ip_encoder.fit_transform(ddos_data.Flow_ID)"
      ]
    },
    {
      "cell_type": "code",
      "execution_count": null,
      "metadata": {
        "id": "jtPXR6xRcMrS"
      },
      "outputs": [],
      "source": [
        "ddos_data.head()"
      ]
    },
    {
      "cell_type": "code",
      "execution_count": null,
      "metadata": {
        "id": "miDFVjOS-VFP"
      },
      "outputs": [],
      "source": [
        "list(ddos_data.columns)"
      ]
    },
    {
      "cell_type": "code",
      "execution_count": null,
      "metadata": {
        "id": "SWqINfMpWKIL"
      },
      "outputs": [],
      "source": [
        "y = ddos_data[' Label']\n",
        "# print(y)"
      ]
    },
    {
      "cell_type": "markdown",
      "metadata": {
        "id": "p1dSSoLZs-nT"
      },
      "source": [
        "Feature selection"
      ]
    },
    {
      "cell_type": "markdown",
      "metadata": {
        "id": "G1TstDFcZ_rM"
      },
      "source": [
        "# feature selection\n"
      ]
    },
    {
      "cell_type": "code",
      "execution_count": null,
      "metadata": {
        "id": "fpKnbadebzwv"
      },
      "outputs": [],
      "source": [
        "cols = []\n",
        "# for row in ddos_data:\n",
        "#         cols.append(row)\n",
        "        \n",
        "# print(cols)\n",
        "# print(len(cols))\n",
        "cols = list(ddos_data.columns)\n",
        "print(cols,'\\n',len(cols))"
      ]
    },
    {
      "cell_type": "code",
      "execution_count": null,
      "metadata": {
        "id": "4ZDyPHCPtCa0"
      },
      "outputs": [],
      "source": [
        "# calculate the mutual information score of every feature\n",
        "\n",
        "\n",
        "import matplotlib.pyplot as plt\n",
        "import numpy as np\n",
        "import pandas as pd\n",
        "import seaborn as sns\n",
        "from sklearn.feature_selection import mutual_info_regression\n",
        "\n",
        "# Set Matplotlib defaults\n",
        "plt.style.use(\"seaborn-whitegrid\")\n",
        "plt.rc(\"figure\", autolayout=True)\n",
        "plt.rc(\n",
        "    \"axes\",\n",
        "    labelweight=\"bold\",\n",
        "    labelsize=\"large\",\n",
        "    titleweight=\"bold\",\n",
        "    titlesize=14,\n",
        "    titlepad=10,\n",
        ")\n",
        "\n",
        "\n",
        "\n",
        "# Utility functions from Tutorial\n",
        "def make_mi_scores(X, y):\n",
        "    X = X.copy()\n",
        "    for colname in X.select_dtypes([\"object\", \"category\"]):\n",
        "        X[colname], _ = X[colname].factorize()\n",
        "    # All discrete features should now have integer dtypes\n",
        "    discrete_features = [pd.api.types.is_integer_dtype(t) for t in X.dtypes]\n",
        "    mi_scores = mutual_info_regression(X, y, discrete_features=discrete_features, random_state=0)\n",
        "    mi_scores = pd.Series(mi_scores, name=\"MI Scores\", index=X.columns)\n",
        "    mi_scores = mi_scores.sort_values(ascending=False)\n",
        "    return mi_scores\n",
        "\n",
        "\n",
        "def plot_mi_scores(scores):\n",
        "    scores = scores.sort_values(ascending=True)\n",
        "    width = np.arange(len(scores))\n",
        "    ticks = list(scores.index)\n",
        "    plt.barh(width, scores)\n",
        "    plt.yticks(width, ticks)\n",
        "    plt.title(\"Mutual Information Scores of All Features \")\n",
        "    # plt.annotate(label, # this is the text\n",
        "    #               (x,y), # these are the coordinates to position the label\n",
        "    #               textcoords=\"offset points\", # how to position the text\n",
        "    #               xytext=(0,10), # distance from text to points (x,y)\n",
        "    #               ha='center') # horizontal alignment can be left, right or center\n",
        "\n"
      ]
    },
    {
      "cell_type": "code",
      "execution_count": null,
      "metadata": {
        "id": "wiZPGi3bbceW"
      },
      "outputs": [],
      "source": [
        "# To start, let's review the meaning of mutual information by looking at a few features from this dataset.\n",
        "features = ['Fwd IAT Total']\n",
        "sns.relplot(\n",
        "    x=\"value\", y=\" Label\", col=\"variable\", data=ddos_data.melt(id_vars=\" Label\", value_vars=features), facet_kws=dict(sharex=False),\n",
        ");"
      ]
    },
    {
      "cell_type": "code",
      "source": [
        "\n",
        "features = [' Fwd Packet Length Max']\n",
        "sns.relplot(\n",
        "    x=\"value\", y=\" Label\", col=\"variable\", data=ddos_data.melt(id_vars=\" Label\", value_vars=features), facet_kws=dict(sharex=False),\n",
        ");"
      ],
      "metadata": {
        "id": "ffLa6hP4wUpT"
      },
      "execution_count": null,
      "outputs": []
    },
    {
      "cell_type": "code",
      "source": [
        "features = [' Active Std']\n",
        "sns.relplot(\n",
        "    x=\"value\", y=\" Label\", col=\"variable\", data=ddos_data.melt(id_vars=\" Label\", value_vars=features), facet_kws=dict(sharex=False),\n",
        ");"
      ],
      "metadata": {
        "id": "dq31mSbXwsMD"
      },
      "execution_count": null,
      "outputs": []
    },
    {
      "cell_type": "markdown",
      "metadata": {
        "id": "B2YIT_JVdwHM"
      },
      "source": [
        "1. The ddos dataset has seventy-eight features\n",
        "2. Identify the features with the most potential.\n",
        "\n",
        "3. Use the make_mi_scores function (introduced in the tutorial) to compute mutual information scores for the ddos features:"
      ]
    },
    {
      "cell_type": "code",
      "execution_count": null,
      "metadata": {
        "id": "O8oXxcy9dPaG"
      },
      "outputs": [],
      "source": [
        "#  = ddos_data\n",
        "X_allFeatures = ddos_data.drop(columns = ' Label')"
      ]
    },
    {
      "cell_type": "code",
      "source": [
        "mi_scores = make_mi_scores(X_allFeatures, y)"
      ],
      "metadata": {
        "id": "JvkIibwFH__7"
      },
      "execution_count": null,
      "outputs": []
    },
    {
      "cell_type": "code",
      "execution_count": null,
      "metadata": {
        "id": "1mLziqk97tyY"
      },
      "outputs": [],
      "source": [
        "\n",
        "# print all 78 features\n",
        "print(mi_scores.head(78))\n"
      ]
    },
    {
      "cell_type": "code",
      "source": [
        "\n",
        "f = open(\"MI_dictionary.txt\",\"w\")\n",
        "f. write( str(mi_scores) )\n",
        "f. close()"
      ],
      "metadata": {
        "id": "FO2C6k12qXz8"
      },
      "execution_count": null,
      "outputs": []
    },
    {
      "cell_type": "code",
      "execution_count": null,
      "metadata": {
        "id": "nfJruCz8eKaL"
      },
      "outputs": [],
      "source": [
        "plt.figure(dpi=90, figsize=(9, 14.5))\n",
        "plot_mi_scores(mi_scores.head(78))\n"
      ]
    },
    {
      "cell_type": "code",
      "execution_count": null,
      "metadata": {
        "id": "679Ol3b-wOoa"
      },
      "outputs": [],
      "source": [
        "# print(type(mi_scores)\n",
        "for k,v in mi_scores.items():\n",
        "  if v >= 0.5:\n",
        "    print(k)"
      ]
    },
    {
      "cell_type": "code",
      "execution_count": null,
      "metadata": {
        "id": "aiV4aifI_yYv"
      },
      "outputs": [],
      "source": [
        "# # using 16 features selected in paper \"Proceedings 2020, 63, 51; doi:10.3390/proceedings2020063051\"\n",
        "# target_features_1 = [' Destination Port','Total Length of Fwd Packets',' Total Length of Bwd Packets',' Fwd Packet Length Max',' Fwd Packet Length Mean','Bwd Packet Length Max',\n",
        "#                    ' Bwd Packet Length Mean',\n",
        "#                    ' Fwd Header Length', ' Bwd Header Length',' Average Packet Size',' Avg Fwd Segment Size',' Avg Bwd Segment Size',' Fwd Header Length',' Subflow Fwd Bytes',' Subflow Bwd Bytes',\n",
        "#                    'Init_Win_bytes_forward']"
      ]
    },
    {
      "cell_type": "code",
      "execution_count": null,
      "metadata": {
        "id": "SxA3Rv8v8RDG"
      },
      "outputs": [],
      "source": [
        "target_features_1 = []\n",
        "for k,v in mi_scores.items():\n",
        "  if v >= 0.5:\n",
        "    target_features_1.append(k)\n",
        "print(len(target_features_1))\n",
        "print(target_features_1)"
      ]
    },
    {
      "cell_type": "code",
      "source": [
        "# print(type(mi_scores)\n",
        "target_features_2 = []\n",
        "for k,v in mi_scores.items():\n",
        "  if v >= 0.2:\n",
        "    target_features_2.append(k)\n",
        "\n",
        "print(target_features_2)"
      ],
      "metadata": {
        "id": "K_bCFmyvczLS"
      },
      "execution_count": null,
      "outputs": []
    },
    {
      "cell_type": "code",
      "source": [
        "# target_feature_2 = [\n",
        "#     'Fwd IAT Total',                   \n",
        "#  'Fwd IAT Max',\n",
        "#  'Flow Duration',\n",
        "#  'Flow IAT Max',\n",
        "#  'Bwd IAT Max',\n",
        "# 'Bwd IAT Total',\n",
        "#  Subflow Fwd Bytes              0.660043\n",
        "# Total Length of Fwd Packets     0.660043\n",
        "#  Average Packet Size            0.561962\n",
        "#  Destination Port               0.560211\n",
        "#  Fwd Header Length              0.549934\n",
        "#  Fwd Header Length.1            0.549934\n",
        "#  Total Length of Bwd Packets    0.549766\n",
        "#  Subflow Bwd Bytes              0.549766\n",
        "#  Avg Bwd Segment Size           0.543892\n",
        "#  Bwd Packet Length Mean         0.541197\n",
        "# Bwd Packet Length Max           0.534044\n",
        "# Init_Win_bytes_forward          0.511645\n",
        "#  Fwd Packet Length Max          0.506397\n",
        "#  Fwd Packet Length Mean         0.489626\n",
        "#  Avg Fwd Segment Size           0.486742\n",
        "#  Bwd Header Length              0.481922\n",
        "#  Fwd IAT Mean                   0.448178\n",
        "#  Active Min                     0.443257\n",
        "#  Active Max                     0.438722\n",
        "#  Init_Win_bytes_backward        0.420977\n",
        "#  Total Fwd Packets              0.417196\n",
        "# Subflow Fwd Packets             0.417196\n",
        "#  act_data_pkt_fwd               0.406938\n",
        "#  Fwd IAT Std                    0.404124\n",
        "#  Packet Length Mean             0.394575\n",
        "#  Packet Length Variance         0.368877\n",
        "#  Packet Length Std              0.367918\n",
        "#  Bwd Packet Length Std          0.350168\n",
        "#  Fwd Packet Length Std          0.349950\n",
        "#  Bwd Packets/s                  0.342176\n",
        "#  Total Backward Packets         0.334701\n",
        "#  Subflow Bwd Packets            0.334701\n",
        "#  Bwd IAT Mean                   0.330619\n",
        "#  Bwd Packet Length Min          0.315814\n",
        "# Fwd Packets/s                   0.312244\n",
        "#  Max Packet Length              0.302470\n",
        "# Flow Bytes/s                    0.276330\n",
        "#  Flow IAT Std                   0.250023\n",
        "#  Flow IAT Mean                  0.242019\n",
        "#  Bwd IAT Std                    0.239326\n",
        "#  Flow Packets/s \n",
        "# ]"
      ],
      "metadata": {
        "id": "Xe-0BZe9Fx5M"
      },
      "execution_count": null,
      "outputs": []
    },
    {
      "cell_type": "code",
      "execution_count": null,
      "metadata": {
        "id": "VyVzfa2D8Uyn"
      },
      "outputs": [],
      "source": [
        "# features MI greater than 0.5\n",
        "X1 = ddos_data[target_features_1]\n",
        "# features MI greater than 0.2\n",
        "X2 = ddos_data[target_features_2]\n",
        "# all features\n",
        "X3 = X_allFeatures\n",
        "X3.head()"
      ]
    },
    {
      "cell_type": "code",
      "execution_count": null,
      "metadata": {
        "id": "x1UpEry2lbYg"
      },
      "outputs": [],
      "source": [
        "print(len(X1.columns), len(X1))\n",
        "print(len(X2.columns), len(X2))\n",
        "print(len(X3.columns), len(X3))"
      ]
    },
    {
      "cell_type": "code",
      "source": [
        "print(X1.columns)"
      ],
      "metadata": {
        "id": "n8JAE_xJGGIC"
      },
      "execution_count": null,
      "outputs": []
    },
    {
      "cell_type": "code",
      "source": [
        "X2.head()"
      ],
      "metadata": {
        "id": "ffQJxSlxhGrr"
      },
      "execution_count": null,
      "outputs": []
    },
    {
      "cell_type": "markdown",
      "metadata": {
        "id": "yQV9i3Qkmmza"
      },
      "source": [
        "4, Training\n"
      ]
    },
    {
      "cell_type": "markdown",
      "metadata": {
        "id": "RCqNAwx_JQda"
      },
      "source": [
        "Devide data to two part, one for training, one for testing(predicting)"
      ]
    },
    {
      "cell_type": "markdown",
      "metadata": {
        "id": "1fWCFyhwU8C4"
      },
      "source": [
        ""
      ]
    },
    {
      "cell_type": "code",
      "source": [
        "# split the data into validation data & training data, for both feature and target\n",
        "from sklearn.model_selection import train_test_split\n",
        "# split the data using feature set X1\n",
        "train_X1, validate_X1, train_y1, validate_y1 = train_test_split(X1, y, random_state = 0)"
      ],
      "metadata": {
        "id": "TPW692i71i-v"
      },
      "execution_count": null,
      "outputs": []
    },
    {
      "cell_type": "code",
      "execution_count": null,
      "metadata": {
        "id": "JQe0szQS8Hep"
      },
      "outputs": [],
      "source": [
        "# split the data using feature set X2\n",
        "train_X2, validate_X2, train_y2, validate_y2 = train_test_split(X2, y, random_state = 0)"
      ]
    },
    {
      "cell_type": "code",
      "source": [
        "# split the data using all features X3\n",
        "train_X3, validate_X3, train_y3, validate_y3 = train_test_split(X3, y, random_state = 0)"
      ],
      "metadata": {
        "id": "qQcy4do92B53"
      },
      "execution_count": null,
      "outputs": []
    },
    {
      "cell_type": "code",
      "source": [
        "print('x1:', train_X1)\n",
        "print('x2:', train_X2)\n",
        "print('x3:', train_X3)"
      ],
      "metadata": {
        "id": "4J6pS4Ab0nja"
      },
      "execution_count": null,
      "outputs": []
    },
    {
      "cell_type": "code",
      "execution_count": null,
      "metadata": {
        "id": "k9gd8k9JmC4G"
      },
      "outputs": [],
      "source": [
        "# define model\n",
        "from sklearn.tree import DecisionTreeRegressor\n",
        "ddos_model = DecisionTreeRegressor()\n",
        "# fit model\n",
        "ddos_model.fit(train_X1, train_y1)"
      ]
    },
    {
      "cell_type": "markdown",
      "metadata": {
        "id": "BIHcZ5jLmgdz"
      },
      "source": [
        "4.1 (Experimental) prediction"
      ]
    },
    {
      "cell_type": "code",
      "execution_count": null,
      "metadata": {
        "id": "mp3WL4gTmajO"
      },
      "outputs": [],
      "source": [
        "# # get predicted Label on validation data\n",
        "ddosLabel_prediction = ddos_model.predict(validate_X1)"
      ]
    },
    {
      "cell_type": "code",
      "execution_count": null,
      "metadata": {
        "id": "MX-jwqzbnMO8"
      },
      "outputs": [],
      "source": [
        "print(ddosLabel_prediction)\n",
        "len(ddosLabel_prediction)"
      ]
    },
    {
      "cell_type": "code",
      "execution_count": null,
      "metadata": {
        "id": "XUq-vXpynStf"
      },
      "outputs": [],
      "source": [
        "# Evaluate: Determine how accurate the model's predictions are\n",
        "# by using Mean Absolute Error\n",
        "from sklearn.metrics import mean_absolute_error\n",
        "mean_absolute_error(validate_y1, ddosLabel_prediction)"
      ]
    },
    {
      "cell_type": "markdown",
      "source": [
        "Using K-Nearest Neighbors (KNN)\n"
      ],
      "metadata": {
        "id": "TUE5RcgQZ4BN"
      }
    },
    {
      "cell_type": "code",
      "source": [
        "#Import knearest neighbors Classifier model\n",
        "from sklearn.neighbors import KNeighborsClassifier\n",
        "\n",
        "#Create KNN Classifier\n",
        "knn_model_1 = KNeighborsClassifier(n_neighbors=5)\n",
        "\n",
        "#Train the model using the training sets\n",
        "knn_model_1.fit(train_X1, train_y1)\n",
        "\n",
        "#Predict the response for test dataset\n",
        "y_pred_knn_1 = knn_model_1.predict(validate_X1)"
      ],
      "metadata": {
        "id": "GDFLBppOaCal"
      },
      "execution_count": null,
      "outputs": []
    },
    {
      "cell_type": "code",
      "source": [
        "mean_absolute_error(validate_y1, y_pred_knn_1)"
      ],
      "metadata": {
        "id": "XO0RAotG_bmd"
      },
      "execution_count": null,
      "outputs": []
    },
    {
      "cell_type": "markdown",
      "source": [
        "KNN X2 model"
      ],
      "metadata": {
        "id": "6hewJzpnEyK9"
      }
    },
    {
      "cell_type": "code",
      "source": [
        "\n",
        "\n",
        "#Create KNN Classifier\n",
        "knn_model_2 = KNeighborsClassifier(n_neighbors=5)\n",
        "\n",
        "#Train the model using the training sets\n",
        "knn_model_2.fit(train_X2, train_y2)\n",
        "\n",
        "#Predict the response for test dataset\n",
        "y_pred_knn_2 = knn_model_2.predict(validate_X2)\n",
        "\n",
        "#calculating MAE\n",
        "mean_absolute_error(validate_y2, y_pred_knn_2)"
      ],
      "metadata": {
        "id": "XJ9DVn95ExSK"
      },
      "execution_count": null,
      "outputs": []
    },
    {
      "cell_type": "markdown",
      "source": [
        "KNN X3 MODEL"
      ],
      "metadata": {
        "id": "BqtRkp319Dbj"
      }
    },
    {
      "cell_type": "code",
      "source": [
        "\n",
        "\n",
        "#Create KNN Classifier\n",
        "knn_model_3 = KNeighborsClassifier(n_neighbors=5)\n",
        "\n",
        "#Train the model using the training sets\n",
        "knn_model_3.fit(train_X3, train_y3)\n",
        "\n",
        "#Predict the response for test dataset\n",
        "y_pred_knn_3 = knn_model_3.predict(validate_X3)\n",
        "\n",
        "#calculating MAE\n",
        "mean_absolute_error(validate_y3, y_pred_knn_3)"
      ],
      "metadata": {
        "id": "v5yUZXh17Iw7"
      },
      "execution_count": null,
      "outputs": []
    },
    {
      "cell_type": "code",
      "source": [
        ""
      ],
      "metadata": {
        "id": "3CYbxkuLE87R"
      },
      "execution_count": null,
      "outputs": []
    },
    {
      "cell_type": "markdown",
      "source": [
        "Using SVM\n",
        "<br/>svm x1 model"
      ],
      "metadata": {
        "id": "siNJLf_AolOK"
      }
    },
    {
      "cell_type": "code",
      "source": [
        "#Import svm model\n",
        "from sklearn import svm\n",
        "\n",
        "#Create a svm Classifier\n",
        "svm_model_1 = svm.SVC(kernel='linear') # Linear Kernel\n",
        "\n",
        "#Train the model using the training sets\n",
        "svm_model_1.fit(train_X1, train_y1)\n",
        "\n",
        "#Predict the response for test dataset\n",
        "y_pred_svm_1 = svm_model_1.predict(validate_X1)"
      ],
      "metadata": {
        "id": "INVvA-jjonAN"
      },
      "execution_count": null,
      "outputs": []
    },
    {
      "cell_type": "code",
      "source": [
        "mean_absolute_error(validate_y1, y_pred_svm_1)"
      ],
      "metadata": {
        "id": "W7bsNdPM3fpi"
      },
      "execution_count": null,
      "outputs": []
    },
    {
      "cell_type": "markdown",
      "source": [
        "Using SVM\n",
        "<br/>svm X2 model\n"
      ],
      "metadata": {
        "id": "Ru8lWG8H9RD6"
      }
    },
    {
      "cell_type": "code",
      "source": [
        "#Create a svm Classifier\n",
        "svm_model_2 = svm.SVC(kernel='linear') # Linear Kernel\n",
        "\n",
        "#Train the model using the training sets\n",
        "svm_model_2.fit(train_X2, train_y2)\n",
        "\n",
        "#Predict the response for test dataset\n",
        "y_pred_svm_2 = svm_model_2.predict(validate_X2)\n",
        "mean_absolute_error(validate_y2, y_pred_svm_2)"
      ],
      "metadata": {
        "id": "VJIMV_Ur9QuK"
      },
      "execution_count": null,
      "outputs": []
    },
    {
      "cell_type": "markdown",
      "source": [
        "Using SVM\n",
        "<br/>svm X3 model\n"
      ],
      "metadata": {
        "id": "ESb_gd4F9WnY"
      }
    },
    {
      "cell_type": "code",
      "source": [
        "#Create a svm Classifier\n",
        "svm_model_3 = svm.SVC(kernel='linear') # Linear Kernel\n",
        "\n",
        "#Train the model using the training sets\n",
        "svm_model_3.fit(train_X3, train_y3)\n",
        "\n",
        "#Predict the response for test dataset\n",
        "y_pred_svm_3 = svm_model_3.predict(validate_X3)\n",
        "mean_absolute_error(validate_y3, y_pred_svm_3)"
      ],
      "metadata": {
        "colab": {
          "base_uri": "https://localhost:8080/",
          "height": 240
        },
        "id": "c6BpW6ME9X_e",
        "outputId": "d73b6889-ee17-4dbb-bdc7-a1860a02a061"
      },
      "execution_count": 1,
      "outputs": [
        {
          "output_type": "error",
          "ename": "NameError",
          "evalue": "ignored",
          "traceback": [
            "\u001b[0;31m---------------------------------------------------------------------------\u001b[0m",
            "\u001b[0;31mNameError\u001b[0m                                 Traceback (most recent call last)",
            "\u001b[0;32m<ipython-input-1-6ddc37369543>\u001b[0m in \u001b[0;36m<module>\u001b[0;34m()\u001b[0m\n\u001b[1;32m      1\u001b[0m \u001b[0;31m#Create a svm Classifier\u001b[0m\u001b[0;34m\u001b[0m\u001b[0;34m\u001b[0m\u001b[0;34m\u001b[0m\u001b[0m\n\u001b[0;32m----> 2\u001b[0;31m \u001b[0msvm_model_3\u001b[0m \u001b[0;34m=\u001b[0m \u001b[0msvm\u001b[0m\u001b[0;34m.\u001b[0m\u001b[0mSVC\u001b[0m\u001b[0;34m(\u001b[0m\u001b[0mkernel\u001b[0m\u001b[0;34m=\u001b[0m\u001b[0;34m'linear'\u001b[0m\u001b[0;34m)\u001b[0m \u001b[0;31m# Linear Kernel\u001b[0m\u001b[0;34m\u001b[0m\u001b[0;34m\u001b[0m\u001b[0m\n\u001b[0m\u001b[1;32m      3\u001b[0m \u001b[0;34m\u001b[0m\u001b[0m\n\u001b[1;32m      4\u001b[0m \u001b[0;31m#Train the model using the training sets\u001b[0m\u001b[0;34m\u001b[0m\u001b[0;34m\u001b[0m\u001b[0;34m\u001b[0m\u001b[0m\n\u001b[1;32m      5\u001b[0m \u001b[0msvm_model_3\u001b[0m\u001b[0;34m.\u001b[0m\u001b[0mfit\u001b[0m\u001b[0;34m(\u001b[0m\u001b[0mtrain_X3\u001b[0m\u001b[0;34m,\u001b[0m \u001b[0mtrain_y3\u001b[0m\u001b[0;34m)\u001b[0m\u001b[0;34m\u001b[0m\u001b[0;34m\u001b[0m\u001b[0m\n",
            "\u001b[0;31mNameError\u001b[0m: name 'svm' is not defined"
          ]
        }
      ]
    },
    {
      "cell_type": "markdown",
      "source": [
        "Using LogisticRegression\n",
        "<BR/>X1 MODEL"
      ],
      "metadata": {
        "id": "wJGwvxzF7CLo"
      }
    },
    {
      "cell_type": "code",
      "source": [
        "from sklearn.linear_model import LogisticRegression\n",
        "# all parameters not specified are set to their defaults\n",
        "LR_model_1 = LogisticRegression()\n",
        "LR_model_1.fit(train_X1, train_y1)\n",
        "LR_predictions_1 = LR_model_1.predict(validate_X1)\n",
        "mean_absolute_error(validate_y1, LR_predictions_1)"
      ],
      "metadata": {
        "id": "FlNJqh_lAEsk"
      },
      "execution_count": null,
      "outputs": []
    },
    {
      "cell_type": "markdown",
      "source": [
        "x2 MODEL"
      ],
      "metadata": {
        "id": "wCfJ93VbDxUp"
      }
    },
    {
      "cell_type": "code",
      "source": [
        "LR_model_2 = LogisticRegression()\n",
        "LR_model_2.fit(train_X2, train_y2)\n",
        "LR_predictions_2 = LR_model_2.predict(validate_X2)\n",
        "mean_absolute_error(validate_y1, LR_predictions_2)"
      ],
      "metadata": {
        "id": "OUkx8F7vD2ZN"
      },
      "execution_count": null,
      "outputs": []
    },
    {
      "cell_type": "markdown",
      "source": [
        "x3 MODEL"
      ],
      "metadata": {
        "id": "rK-Q7gmgD-ou"
      }
    },
    {
      "cell_type": "code",
      "source": [
        "LR_model_3 = LogisticRegression()\n",
        "LR_model_3.fit(train_X3, train_y3)\n",
        "LR_predictions_3 = LR_model_3.predict(validate_X3)\n",
        "mean_absolute_error(validate_y3, LR_predictions_3)"
      ],
      "metadata": {
        "id": "5f0gOSHkEB6S"
      },
      "execution_count": null,
      "outputs": []
    }
  ],
  "metadata": {
    "colab": {
      "collapsed_sections": [],
      "name": "Wenjia's 6th ML experiment.ipynb",
      "provenance": [],
      "authorship_tag": "ABX9TyPZHpH+/dAylvxqGX/gMx6U",
      "include_colab_link": true
    },
    "kernelspec": {
      "display_name": "Python 3",
      "name": "python3"
    },
    "language_info": {
      "name": "python"
    }
  },
  "nbformat": 4,
  "nbformat_minor": 0
}