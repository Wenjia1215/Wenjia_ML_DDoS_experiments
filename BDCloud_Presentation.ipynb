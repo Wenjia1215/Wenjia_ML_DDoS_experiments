{
  "cells": [
    {
      "cell_type": "markdown",
      "metadata": {
        "id": "view-in-github",
        "colab_type": "text"
      },
      "source": [
        "<a href=\"https://colab.research.google.com/github/Wenjia1215/Wenjia_ML_DDoS_experiments/blob/main/BDCloud_Presentation.ipynb\" target=\"_parent\"><img src=\"https://colab.research.google.com/assets/colab-badge.svg\" alt=\"Open In Colab\"/></a>"
      ]
    },
    {
      "cell_type": "markdown",
      "metadata": {
        "id": "t1GA_tspxYXs"
      },
      "source": [
        "<h1><strong>BDCloud Presentation</strong></h1>\n",
        "\n",
        "\n",
        "12/10/2022\n",
        "</br>\n",
        "<h1>Paper Title: Curse of Feature Selection: a Comparison Experiment of DDoS Detection Using Classification Techniques</h1>\n"
      ]
    },
    {
      "cell_type": "markdown",
      "source": [
        "\n",
        "<br/>Decision Tree (DT), k-Nearest Neighbors (KNN), Logistic Regression (LR), and Random Forest (RF), every classifier is used to fit 3 models with 3 different feature sets.\n",
        "<br/>\n",
        "4*3=12"
      ],
      "metadata": {
        "id": "no7izo5DE4d1"
      }
    },
    {
      "cell_type": "markdown",
      "metadata": {
        "id": "I5ii-DoDAAo_"
      },
      "source": [
        "Goal: use Traffic data to predict which one is DDoS attack and which one is normal traffic.</br>\n"
      ]
    },
    {
      "cell_type": "code",
      "execution_count": 1,
      "metadata": {
        "id": "xhlBH_Ry6dE-",
        "colab": {
          "base_uri": "https://localhost:8080/"
        },
        "outputId": "bdec7c01-565f-49a1-8b20-3d7af2281276"
      },
      "outputs": [
        {
          "output_type": "stream",
          "name": "stdout",
          "text": [
            "/usr/local/lib/python3.8/dist-packages/gdown/cli.py:127: FutureWarning: Option `--id` was deprecated in version 4.3.1 and will be removed in 5.0. You don't need to pass it anymore to use a file ID.\n",
            "  warnings.warn(\n",
            "Downloading...\n",
            "From: https://drive.google.com/uc?id=1V9Kn7QL6knFDB1TRSIPqm0Jne5beDHZP\n",
            "To: /content/Friday-WorkingHours-Afternoon-DDos.pcap_ISCX.csv\n",
            "100% 77.1M/77.1M [00:00<00:00, 198MB/s]\n"
          ]
        }
      ],
      "source": [
        "!gdown --id 1V9Kn7QL6knFDB1TRSIPqm0Jne5beDHZP"
      ]
    },
    {
      "cell_type": "code",
      "execution_count": 2,
      "metadata": {
        "id": "DSZiOtcW7DCO"
      },
      "outputs": [],
      "source": [
        "import pandas as pd\n",
        "\n",
        "# see complete rows in pandas\n",
        "# use pd.set_option('max_colwidth', <width>) for column width & pd.set_option('max_rows', <rows>) for number of rows.\n",
        "\n",
        "pd.set_option('max_rows', 80)"
      ]
    },
    {
      "cell_type": "code",
      "execution_count": 3,
      "metadata": {
        "id": "eqnXSKrr7xym"
      },
      "outputs": [],
      "source": [
        "file_path = '/content/Friday-WorkingHours-Afternoon-DDos.pcap_ISCX.csv'"
      ]
    },
    {
      "cell_type": "code",
      "execution_count": 4,
      "metadata": {
        "id": "wGqJLBsK76xp"
      },
      "outputs": [],
      "source": [
        "ddos_data = pd.read_csv(file_path)"
      ]
    },
    {
      "cell_type": "code",
      "execution_count": 5,
      "metadata": {
        "id": "4YVrGLN_8Arj",
        "colab": {
          "base_uri": "https://localhost:8080/",
          "height": 332
        },
        "outputId": "90f8e1a9-d803-4ce6-b90c-6ae6d0cd3a45"
      },
      "outputs": [
        {
          "output_type": "execute_result",
          "data": {
            "text/plain": [
              "    Destination Port   Flow Duration   Total Fwd Packets  \\\n",
              "0              54865               3                   2   \n",
              "1              55054             109                   1   \n",
              "2              55055              52                   1   \n",
              "3              46236              34                   1   \n",
              "4              54863               3                   2   \n",
              "\n",
              "    Total Backward Packets  Total Length of Fwd Packets  \\\n",
              "0                        0                           12   \n",
              "1                        1                            6   \n",
              "2                        1                            6   \n",
              "3                        1                            6   \n",
              "4                        0                           12   \n",
              "\n",
              "    Total Length of Bwd Packets   Fwd Packet Length Max  \\\n",
              "0                             0                       6   \n",
              "1                             6                       6   \n",
              "2                             6                       6   \n",
              "3                             6                       6   \n",
              "4                             0                       6   \n",
              "\n",
              "    Fwd Packet Length Min   Fwd Packet Length Mean   Fwd Packet Length Std  \\\n",
              "0                       6                      6.0                     0.0   \n",
              "1                       6                      6.0                     0.0   \n",
              "2                       6                      6.0                     0.0   \n",
              "3                       6                      6.0                     0.0   \n",
              "4                       6                      6.0                     0.0   \n",
              "\n",
              "   ...   min_seg_size_forward  Active Mean   Active Std   Active Max  \\\n",
              "0  ...                     20          0.0          0.0            0   \n",
              "1  ...                     20          0.0          0.0            0   \n",
              "2  ...                     20          0.0          0.0            0   \n",
              "3  ...                     20          0.0          0.0            0   \n",
              "4  ...                     20          0.0          0.0            0   \n",
              "\n",
              "    Active Min  Idle Mean   Idle Std   Idle Max   Idle Min   Label  \n",
              "0            0        0.0        0.0          0          0  BENIGN  \n",
              "1            0        0.0        0.0          0          0  BENIGN  \n",
              "2            0        0.0        0.0          0          0  BENIGN  \n",
              "3            0        0.0        0.0          0          0  BENIGN  \n",
              "4            0        0.0        0.0          0          0  BENIGN  \n",
              "\n",
              "[5 rows x 79 columns]"
            ],
            "text/html": [
              "\n",
              "  <div id=\"df-899b85db-2d4b-4de5-abba-00301c2d3168\">\n",
              "    <div class=\"colab-df-container\">\n",
              "      <div>\n",
              "<style scoped>\n",
              "    .dataframe tbody tr th:only-of-type {\n",
              "        vertical-align: middle;\n",
              "    }\n",
              "\n",
              "    .dataframe tbody tr th {\n",
              "        vertical-align: top;\n",
              "    }\n",
              "\n",
              "    .dataframe thead th {\n",
              "        text-align: right;\n",
              "    }\n",
              "</style>\n",
              "<table border=\"1\" class=\"dataframe\">\n",
              "  <thead>\n",
              "    <tr style=\"text-align: right;\">\n",
              "      <th></th>\n",
              "      <th>Destination Port</th>\n",
              "      <th>Flow Duration</th>\n",
              "      <th>Total Fwd Packets</th>\n",
              "      <th>Total Backward Packets</th>\n",
              "      <th>Total Length of Fwd Packets</th>\n",
              "      <th>Total Length of Bwd Packets</th>\n",
              "      <th>Fwd Packet Length Max</th>\n",
              "      <th>Fwd Packet Length Min</th>\n",
              "      <th>Fwd Packet Length Mean</th>\n",
              "      <th>Fwd Packet Length Std</th>\n",
              "      <th>...</th>\n",
              "      <th>min_seg_size_forward</th>\n",
              "      <th>Active Mean</th>\n",
              "      <th>Active Std</th>\n",
              "      <th>Active Max</th>\n",
              "      <th>Active Min</th>\n",
              "      <th>Idle Mean</th>\n",
              "      <th>Idle Std</th>\n",
              "      <th>Idle Max</th>\n",
              "      <th>Idle Min</th>\n",
              "      <th>Label</th>\n",
              "    </tr>\n",
              "  </thead>\n",
              "  <tbody>\n",
              "    <tr>\n",
              "      <th>0</th>\n",
              "      <td>54865</td>\n",
              "      <td>3</td>\n",
              "      <td>2</td>\n",
              "      <td>0</td>\n",
              "      <td>12</td>\n",
              "      <td>0</td>\n",
              "      <td>6</td>\n",
              "      <td>6</td>\n",
              "      <td>6.0</td>\n",
              "      <td>0.0</td>\n",
              "      <td>...</td>\n",
              "      <td>20</td>\n",
              "      <td>0.0</td>\n",
              "      <td>0.0</td>\n",
              "      <td>0</td>\n",
              "      <td>0</td>\n",
              "      <td>0.0</td>\n",
              "      <td>0.0</td>\n",
              "      <td>0</td>\n",
              "      <td>0</td>\n",
              "      <td>BENIGN</td>\n",
              "    </tr>\n",
              "    <tr>\n",
              "      <th>1</th>\n",
              "      <td>55054</td>\n",
              "      <td>109</td>\n",
              "      <td>1</td>\n",
              "      <td>1</td>\n",
              "      <td>6</td>\n",
              "      <td>6</td>\n",
              "      <td>6</td>\n",
              "      <td>6</td>\n",
              "      <td>6.0</td>\n",
              "      <td>0.0</td>\n",
              "      <td>...</td>\n",
              "      <td>20</td>\n",
              "      <td>0.0</td>\n",
              "      <td>0.0</td>\n",
              "      <td>0</td>\n",
              "      <td>0</td>\n",
              "      <td>0.0</td>\n",
              "      <td>0.0</td>\n",
              "      <td>0</td>\n",
              "      <td>0</td>\n",
              "      <td>BENIGN</td>\n",
              "    </tr>\n",
              "    <tr>\n",
              "      <th>2</th>\n",
              "      <td>55055</td>\n",
              "      <td>52</td>\n",
              "      <td>1</td>\n",
              "      <td>1</td>\n",
              "      <td>6</td>\n",
              "      <td>6</td>\n",
              "      <td>6</td>\n",
              "      <td>6</td>\n",
              "      <td>6.0</td>\n",
              "      <td>0.0</td>\n",
              "      <td>...</td>\n",
              "      <td>20</td>\n",
              "      <td>0.0</td>\n",
              "      <td>0.0</td>\n",
              "      <td>0</td>\n",
              "      <td>0</td>\n",
              "      <td>0.0</td>\n",
              "      <td>0.0</td>\n",
              "      <td>0</td>\n",
              "      <td>0</td>\n",
              "      <td>BENIGN</td>\n",
              "    </tr>\n",
              "    <tr>\n",
              "      <th>3</th>\n",
              "      <td>46236</td>\n",
              "      <td>34</td>\n",
              "      <td>1</td>\n",
              "      <td>1</td>\n",
              "      <td>6</td>\n",
              "      <td>6</td>\n",
              "      <td>6</td>\n",
              "      <td>6</td>\n",
              "      <td>6.0</td>\n",
              "      <td>0.0</td>\n",
              "      <td>...</td>\n",
              "      <td>20</td>\n",
              "      <td>0.0</td>\n",
              "      <td>0.0</td>\n",
              "      <td>0</td>\n",
              "      <td>0</td>\n",
              "      <td>0.0</td>\n",
              "      <td>0.0</td>\n",
              "      <td>0</td>\n",
              "      <td>0</td>\n",
              "      <td>BENIGN</td>\n",
              "    </tr>\n",
              "    <tr>\n",
              "      <th>4</th>\n",
              "      <td>54863</td>\n",
              "      <td>3</td>\n",
              "      <td>2</td>\n",
              "      <td>0</td>\n",
              "      <td>12</td>\n",
              "      <td>0</td>\n",
              "      <td>6</td>\n",
              "      <td>6</td>\n",
              "      <td>6.0</td>\n",
              "      <td>0.0</td>\n",
              "      <td>...</td>\n",
              "      <td>20</td>\n",
              "      <td>0.0</td>\n",
              "      <td>0.0</td>\n",
              "      <td>0</td>\n",
              "      <td>0</td>\n",
              "      <td>0.0</td>\n",
              "      <td>0.0</td>\n",
              "      <td>0</td>\n",
              "      <td>0</td>\n",
              "      <td>BENIGN</td>\n",
              "    </tr>\n",
              "  </tbody>\n",
              "</table>\n",
              "<p>5 rows × 79 columns</p>\n",
              "</div>\n",
              "      <button class=\"colab-df-convert\" onclick=\"convertToInteractive('df-899b85db-2d4b-4de5-abba-00301c2d3168')\"\n",
              "              title=\"Convert this dataframe to an interactive table.\"\n",
              "              style=\"display:none;\">\n",
              "        \n",
              "  <svg xmlns=\"http://www.w3.org/2000/svg\" height=\"24px\"viewBox=\"0 0 24 24\"\n",
              "       width=\"24px\">\n",
              "    <path d=\"M0 0h24v24H0V0z\" fill=\"none\"/>\n",
              "    <path d=\"M18.56 5.44l.94 2.06.94-2.06 2.06-.94-2.06-.94-.94-2.06-.94 2.06-2.06.94zm-11 1L8.5 8.5l.94-2.06 2.06-.94-2.06-.94L8.5 2.5l-.94 2.06-2.06.94zm10 10l.94 2.06.94-2.06 2.06-.94-2.06-.94-.94-2.06-.94 2.06-2.06.94z\"/><path d=\"M17.41 7.96l-1.37-1.37c-.4-.4-.92-.59-1.43-.59-.52 0-1.04.2-1.43.59L10.3 9.45l-7.72 7.72c-.78.78-.78 2.05 0 2.83L4 21.41c.39.39.9.59 1.41.59.51 0 1.02-.2 1.41-.59l7.78-7.78 2.81-2.81c.8-.78.8-2.07 0-2.86zM5.41 20L4 18.59l7.72-7.72 1.47 1.35L5.41 20z\"/>\n",
              "  </svg>\n",
              "      </button>\n",
              "      \n",
              "  <style>\n",
              "    .colab-df-container {\n",
              "      display:flex;\n",
              "      flex-wrap:wrap;\n",
              "      gap: 12px;\n",
              "    }\n",
              "\n",
              "    .colab-df-convert {\n",
              "      background-color: #E8F0FE;\n",
              "      border: none;\n",
              "      border-radius: 50%;\n",
              "      cursor: pointer;\n",
              "      display: none;\n",
              "      fill: #1967D2;\n",
              "      height: 32px;\n",
              "      padding: 0 0 0 0;\n",
              "      width: 32px;\n",
              "    }\n",
              "\n",
              "    .colab-df-convert:hover {\n",
              "      background-color: #E2EBFA;\n",
              "      box-shadow: 0px 1px 2px rgba(60, 64, 67, 0.3), 0px 1px 3px 1px rgba(60, 64, 67, 0.15);\n",
              "      fill: #174EA6;\n",
              "    }\n",
              "\n",
              "    [theme=dark] .colab-df-convert {\n",
              "      background-color: #3B4455;\n",
              "      fill: #D2E3FC;\n",
              "    }\n",
              "\n",
              "    [theme=dark] .colab-df-convert:hover {\n",
              "      background-color: #434B5C;\n",
              "      box-shadow: 0px 1px 3px 1px rgba(0, 0, 0, 0.15);\n",
              "      filter: drop-shadow(0px 1px 2px rgba(0, 0, 0, 0.3));\n",
              "      fill: #FFFFFF;\n",
              "    }\n",
              "  </style>\n",
              "\n",
              "      <script>\n",
              "        const buttonEl =\n",
              "          document.querySelector('#df-899b85db-2d4b-4de5-abba-00301c2d3168 button.colab-df-convert');\n",
              "        buttonEl.style.display =\n",
              "          google.colab.kernel.accessAllowed ? 'block' : 'none';\n",
              "\n",
              "        async function convertToInteractive(key) {\n",
              "          const element = document.querySelector('#df-899b85db-2d4b-4de5-abba-00301c2d3168');\n",
              "          const dataTable =\n",
              "            await google.colab.kernel.invokeFunction('convertToInteractive',\n",
              "                                                     [key], {});\n",
              "          if (!dataTable) return;\n",
              "\n",
              "          const docLinkHtml = 'Like what you see? Visit the ' +\n",
              "            '<a target=\"_blank\" href=https://colab.research.google.com/notebooks/data_table.ipynb>data table notebook</a>'\n",
              "            + ' to learn more about interactive tables.';\n",
              "          element.innerHTML = '';\n",
              "          dataTable['output_type'] = 'display_data';\n",
              "          await google.colab.output.renderOutput(dataTable, element);\n",
              "          const docLink = document.createElement('div');\n",
              "          docLink.innerHTML = docLinkHtml;\n",
              "          element.appendChild(docLink);\n",
              "        }\n",
              "      </script>\n",
              "    </div>\n",
              "  </div>\n",
              "  "
            ]
          },
          "metadata": {},
          "execution_count": 5
        }
      ],
      "source": [
        "\n",
        "ddos_data.head()"
      ]
    },
    {
      "cell_type": "code",
      "execution_count": 5,
      "metadata": {
        "id": "t9Oc7k85bxUt"
      },
      "outputs": [],
      "source": []
    },
    {
      "cell_type": "code",
      "execution_count": 5,
      "metadata": {
        "id": "w1vS1r1bJFTF"
      },
      "outputs": [],
      "source": []
    },
    {
      "cell_type": "markdown",
      "metadata": {
        "id": "DW5m8cg4y67y"
      },
      "source": [
        "Preprocess data</br>"
      ]
    },
    {
      "cell_type": "code",
      "execution_count": 6,
      "metadata": {
        "id": "913oxdKnvLJD"
      },
      "outputs": [],
      "source": [
        "#data preprocessing\n",
        "# NaN\n",
        "# infinity\n",
        "\n",
        "# Deleted\n",
        "  # Flow ID\n",
        "  # Source IP\n",
        "  # Source Port\n",
        "  # Destination IP\n",
        "  # Timestamp\n",
        "  # Protocol"
      ]
    },
    {
      "cell_type": "markdown",
      "metadata": {
        "id": "vkV3cCBfJ1zI"
      },
      "source": [
        "**bold text**\n",
        "Replacing missing values"
      ]
    },
    {
      "cell_type": "code",
      "execution_count": 7,
      "metadata": {
        "id": "yOqt3TSIML4Q",
        "colab": {
          "base_uri": "https://localhost:8080/"
        },
        "outputId": "9000b08e-251c-4aff-8bf0-9d4d7aeabba4"
      },
      "outputs": [
        {
          "output_type": "execute_result",
          "data": {
            "text/plain": [
              "4"
            ]
          },
          "metadata": {},
          "execution_count": 7
        }
      ],
      "source": [
        "ddos_data.isnull().sum().sum()"
      ]
    },
    {
      "cell_type": "code",
      "execution_count": 8,
      "metadata": {
        "id": "Cu8zA3MfJ1gH",
        "colab": {
          "base_uri": "https://localhost:8080/"
        },
        "outputId": "72b9a9b2-d718-4fa2-9f38-53926a850316"
      },
      "outputs": [
        {
          "output_type": "stream",
          "name": "stderr",
          "text": [
            "<ipython-input-8-bd3994a4c951>:1: FutureWarning: Dropping of nuisance columns in DataFrame reductions (with 'numeric_only=None') is deprecated; in a future version this will raise TypeError.  Select only valid columns before calling the reduction.\n",
            "  ddos_data = ddos_data.fillna(ddos_data.median())\n"
          ]
        }
      ],
      "source": [
        "ddos_data = ddos_data.fillna(ddos_data.median())"
      ]
    },
    {
      "cell_type": "code",
      "execution_count": 9,
      "metadata": {
        "id": "CUTTpdDqPmRb",
        "colab": {
          "base_uri": "https://localhost:8080/"
        },
        "outputId": "2e9860e8-223d-42f5-b5b1-6a21caafd8c7"
      },
      "outputs": [
        {
          "output_type": "execute_result",
          "data": {
            "text/plain": [
              "0"
            ]
          },
          "metadata": {},
          "execution_count": 9
        }
      ],
      "source": [
        "ddos_data.isnull().sum().sum()"
      ]
    },
    {
      "cell_type": "markdown",
      "metadata": {
        "id": "ulki-ZomP0p2"
      },
      "source": [
        "  Replace Infinity values with \"0\"\n"
      ]
    },
    {
      "cell_type": "code",
      "execution_count": 10,
      "metadata": {
        "id": "LLFEhiruP8zw",
        "colab": {
          "base_uri": "https://localhost:8080/"
        },
        "outputId": "29c3a962-1caa-4f97-f53f-3fedaa64f19f"
      },
      "outputs": [
        {
          "output_type": "execute_result",
          "data": {
            "text/plain": [
              "64"
            ]
          },
          "metadata": {},
          "execution_count": 10
        }
      ],
      "source": [
        "import numpy as np\n",
        "ddos_data.isin([np.inf, -np.inf]).sum().sum()\n"
      ]
    },
    {
      "cell_type": "code",
      "execution_count": 11,
      "metadata": {
        "id": "9pLIEbHnXug9"
      },
      "outputs": [],
      "source": [
        "ddos_data.replace([np.inf, -np.inf], 0, inplace=True)"
      ]
    },
    {
      "cell_type": "code",
      "execution_count": 12,
      "metadata": {
        "id": "D5xIZTiAYG93",
        "colab": {
          "base_uri": "https://localhost:8080/"
        },
        "outputId": "d691f8fd-685e-4fbd-9527-89fa3de59a60"
      },
      "outputs": [
        {
          "output_type": "execute_result",
          "data": {
            "text/plain": [
              "0"
            ]
          },
          "metadata": {},
          "execution_count": 12
        }
      ],
      "source": [
        "ddos_data.isin([np.inf, -np.inf]).sum().sum()"
      ]
    },
    {
      "cell_type": "code",
      "execution_count": 13,
      "metadata": {
        "id": "eMrMg93yadFV"
      },
      "outputs": [],
      "source": [
        "ddos_data = ddos_data.replace(to_replace = \"BENIGN\", value = 0)\n",
        "ddos_data = ddos_data.replace(to_replace = \"DDoS\", value = 1)"
      ]
    },
    {
      "cell_type": "markdown",
      "metadata": {
        "id": "1etULpX31j1S"
      },
      "source": [
        "To make sure all data meaningful,</br>\n",
        "Drop missing value again."
      ]
    },
    {
      "cell_type": "code",
      "execution_count": 14,
      "metadata": {
        "id": "f6m-_NQ61jgu",
        "colab": {
          "base_uri": "https://localhost:8080/"
        },
        "outputId": "1b24bdfb-b22f-41d1-cf1e-eb364f3b7204"
      },
      "outputs": [
        {
          "output_type": "execute_result",
          "data": {
            "text/plain": [
              "225745"
            ]
          },
          "metadata": {},
          "execution_count": 14
        }
      ],
      "source": [
        "#count the total amount of row\n",
        "ddos_data.shape[0]"
      ]
    },
    {
      "cell_type": "code",
      "execution_count": 15,
      "metadata": {
        "id": "GPhl6S1T6Crg"
      },
      "outputs": [],
      "source": [
        "# drop missings\n",
        "ddos_data = ddos_data.dropna(axis=0)"
      ]
    },
    {
      "cell_type": "code",
      "execution_count": 16,
      "metadata": {
        "id": "Auu2wQ-E6XFA",
        "colab": {
          "base_uri": "https://localhost:8080/"
        },
        "outputId": "61400ed1-ad4d-46d4-e0fd-2aae1ffc765a"
      },
      "outputs": [
        {
          "output_type": "execute_result",
          "data": {
            "text/plain": [
              "225745"
            ]
          },
          "metadata": {},
          "execution_count": 16
        }
      ],
      "source": [
        "#count again\n",
        "ddos_data.shape[0]\n",
        "# the number is same, it proves that the data preprocess is efficient."
      ]
    },
    {
      "cell_type": "markdown",
      "metadata": {
        "id": "ru-SAieW3Dmt"
      },
      "source": [
        "Preprocess IP address<br/>\n",
        "To prevent having many features you have to encode IP addresses in your training data and treat new IP as unknown\n",
        "<br/> Hot encoding\n",
        "\n",
        "\n",
        "CIC-IDS2017"
      ]
    },
    {
      "cell_type": "code",
      "execution_count": 17,
      "metadata": {
        "id": "zAir8Gw638bR"
      },
      "outputs": [],
      "source": [
        "# Pros:\n",
        "# 1, The model can more easily identify IP's that belong to the same subnet.\n",
        "# 2, The number of features remains small even for a large number of distinct IP addresses in your training data.\n",
        "# Reference: https://www.quora.com/How-can-I-deal-with-IP-addresses-in-machine-learning-algorithms-in-traffic-analysis-and-anomaly-detection"
      ]
    },
    {
      "cell_type": "code",
      "execution_count": 18,
      "metadata": {
        "id": "O361q_5j3DKi"
      },
      "outputs": [],
      "source": [
        "# from sklearn import preprocessing\n",
        "# ip_encoder = preprocessing.LabelBinarizer()"
      ]
    },
    {
      "cell_type": "code",
      "execution_count": 19,
      "metadata": {
        "id": "3_8X6jhB4Ntl"
      },
      "outputs": [],
      "source": [
        "# ip_encoder.fit_transform(ddos_data.Flow_ID)"
      ]
    },
    {
      "cell_type": "code",
      "execution_count": 20,
      "metadata": {
        "id": "jtPXR6xRcMrS",
        "colab": {
          "base_uri": "https://localhost:8080/",
          "height": 332
        },
        "outputId": "b26bb3f3-2798-4951-a4be-a87e637883d8"
      },
      "outputs": [
        {
          "output_type": "execute_result",
          "data": {
            "text/plain": [
              "    Destination Port   Flow Duration   Total Fwd Packets  \\\n",
              "0              54865               3                   2   \n",
              "1              55054             109                   1   \n",
              "2              55055              52                   1   \n",
              "3              46236              34                   1   \n",
              "4              54863               3                   2   \n",
              "\n",
              "    Total Backward Packets  Total Length of Fwd Packets  \\\n",
              "0                        0                           12   \n",
              "1                        1                            6   \n",
              "2                        1                            6   \n",
              "3                        1                            6   \n",
              "4                        0                           12   \n",
              "\n",
              "    Total Length of Bwd Packets   Fwd Packet Length Max  \\\n",
              "0                             0                       6   \n",
              "1                             6                       6   \n",
              "2                             6                       6   \n",
              "3                             6                       6   \n",
              "4                             0                       6   \n",
              "\n",
              "    Fwd Packet Length Min   Fwd Packet Length Mean   Fwd Packet Length Std  \\\n",
              "0                       6                      6.0                     0.0   \n",
              "1                       6                      6.0                     0.0   \n",
              "2                       6                      6.0                     0.0   \n",
              "3                       6                      6.0                     0.0   \n",
              "4                       6                      6.0                     0.0   \n",
              "\n",
              "   ...   min_seg_size_forward  Active Mean   Active Std   Active Max  \\\n",
              "0  ...                     20          0.0          0.0            0   \n",
              "1  ...                     20          0.0          0.0            0   \n",
              "2  ...                     20          0.0          0.0            0   \n",
              "3  ...                     20          0.0          0.0            0   \n",
              "4  ...                     20          0.0          0.0            0   \n",
              "\n",
              "    Active Min  Idle Mean   Idle Std   Idle Max   Idle Min   Label  \n",
              "0            0        0.0        0.0          0          0       0  \n",
              "1            0        0.0        0.0          0          0       0  \n",
              "2            0        0.0        0.0          0          0       0  \n",
              "3            0        0.0        0.0          0          0       0  \n",
              "4            0        0.0        0.0          0          0       0  \n",
              "\n",
              "[5 rows x 79 columns]"
            ],
            "text/html": [
              "\n",
              "  <div id=\"df-f1eb400f-3d5c-4c5e-8903-8d32642afe08\">\n",
              "    <div class=\"colab-df-container\">\n",
              "      <div>\n",
              "<style scoped>\n",
              "    .dataframe tbody tr th:only-of-type {\n",
              "        vertical-align: middle;\n",
              "    }\n",
              "\n",
              "    .dataframe tbody tr th {\n",
              "        vertical-align: top;\n",
              "    }\n",
              "\n",
              "    .dataframe thead th {\n",
              "        text-align: right;\n",
              "    }\n",
              "</style>\n",
              "<table border=\"1\" class=\"dataframe\">\n",
              "  <thead>\n",
              "    <tr style=\"text-align: right;\">\n",
              "      <th></th>\n",
              "      <th>Destination Port</th>\n",
              "      <th>Flow Duration</th>\n",
              "      <th>Total Fwd Packets</th>\n",
              "      <th>Total Backward Packets</th>\n",
              "      <th>Total Length of Fwd Packets</th>\n",
              "      <th>Total Length of Bwd Packets</th>\n",
              "      <th>Fwd Packet Length Max</th>\n",
              "      <th>Fwd Packet Length Min</th>\n",
              "      <th>Fwd Packet Length Mean</th>\n",
              "      <th>Fwd Packet Length Std</th>\n",
              "      <th>...</th>\n",
              "      <th>min_seg_size_forward</th>\n",
              "      <th>Active Mean</th>\n",
              "      <th>Active Std</th>\n",
              "      <th>Active Max</th>\n",
              "      <th>Active Min</th>\n",
              "      <th>Idle Mean</th>\n",
              "      <th>Idle Std</th>\n",
              "      <th>Idle Max</th>\n",
              "      <th>Idle Min</th>\n",
              "      <th>Label</th>\n",
              "    </tr>\n",
              "  </thead>\n",
              "  <tbody>\n",
              "    <tr>\n",
              "      <th>0</th>\n",
              "      <td>54865</td>\n",
              "      <td>3</td>\n",
              "      <td>2</td>\n",
              "      <td>0</td>\n",
              "      <td>12</td>\n",
              "      <td>0</td>\n",
              "      <td>6</td>\n",
              "      <td>6</td>\n",
              "      <td>6.0</td>\n",
              "      <td>0.0</td>\n",
              "      <td>...</td>\n",
              "      <td>20</td>\n",
              "      <td>0.0</td>\n",
              "      <td>0.0</td>\n",
              "      <td>0</td>\n",
              "      <td>0</td>\n",
              "      <td>0.0</td>\n",
              "      <td>0.0</td>\n",
              "      <td>0</td>\n",
              "      <td>0</td>\n",
              "      <td>0</td>\n",
              "    </tr>\n",
              "    <tr>\n",
              "      <th>1</th>\n",
              "      <td>55054</td>\n",
              "      <td>109</td>\n",
              "      <td>1</td>\n",
              "      <td>1</td>\n",
              "      <td>6</td>\n",
              "      <td>6</td>\n",
              "      <td>6</td>\n",
              "      <td>6</td>\n",
              "      <td>6.0</td>\n",
              "      <td>0.0</td>\n",
              "      <td>...</td>\n",
              "      <td>20</td>\n",
              "      <td>0.0</td>\n",
              "      <td>0.0</td>\n",
              "      <td>0</td>\n",
              "      <td>0</td>\n",
              "      <td>0.0</td>\n",
              "      <td>0.0</td>\n",
              "      <td>0</td>\n",
              "      <td>0</td>\n",
              "      <td>0</td>\n",
              "    </tr>\n",
              "    <tr>\n",
              "      <th>2</th>\n",
              "      <td>55055</td>\n",
              "      <td>52</td>\n",
              "      <td>1</td>\n",
              "      <td>1</td>\n",
              "      <td>6</td>\n",
              "      <td>6</td>\n",
              "      <td>6</td>\n",
              "      <td>6</td>\n",
              "      <td>6.0</td>\n",
              "      <td>0.0</td>\n",
              "      <td>...</td>\n",
              "      <td>20</td>\n",
              "      <td>0.0</td>\n",
              "      <td>0.0</td>\n",
              "      <td>0</td>\n",
              "      <td>0</td>\n",
              "      <td>0.0</td>\n",
              "      <td>0.0</td>\n",
              "      <td>0</td>\n",
              "      <td>0</td>\n",
              "      <td>0</td>\n",
              "    </tr>\n",
              "    <tr>\n",
              "      <th>3</th>\n",
              "      <td>46236</td>\n",
              "      <td>34</td>\n",
              "      <td>1</td>\n",
              "      <td>1</td>\n",
              "      <td>6</td>\n",
              "      <td>6</td>\n",
              "      <td>6</td>\n",
              "      <td>6</td>\n",
              "      <td>6.0</td>\n",
              "      <td>0.0</td>\n",
              "      <td>...</td>\n",
              "      <td>20</td>\n",
              "      <td>0.0</td>\n",
              "      <td>0.0</td>\n",
              "      <td>0</td>\n",
              "      <td>0</td>\n",
              "      <td>0.0</td>\n",
              "      <td>0.0</td>\n",
              "      <td>0</td>\n",
              "      <td>0</td>\n",
              "      <td>0</td>\n",
              "    </tr>\n",
              "    <tr>\n",
              "      <th>4</th>\n",
              "      <td>54863</td>\n",
              "      <td>3</td>\n",
              "      <td>2</td>\n",
              "      <td>0</td>\n",
              "      <td>12</td>\n",
              "      <td>0</td>\n",
              "      <td>6</td>\n",
              "      <td>6</td>\n",
              "      <td>6.0</td>\n",
              "      <td>0.0</td>\n",
              "      <td>...</td>\n",
              "      <td>20</td>\n",
              "      <td>0.0</td>\n",
              "      <td>0.0</td>\n",
              "      <td>0</td>\n",
              "      <td>0</td>\n",
              "      <td>0.0</td>\n",
              "      <td>0.0</td>\n",
              "      <td>0</td>\n",
              "      <td>0</td>\n",
              "      <td>0</td>\n",
              "    </tr>\n",
              "  </tbody>\n",
              "</table>\n",
              "<p>5 rows × 79 columns</p>\n",
              "</div>\n",
              "      <button class=\"colab-df-convert\" onclick=\"convertToInteractive('df-f1eb400f-3d5c-4c5e-8903-8d32642afe08')\"\n",
              "              title=\"Convert this dataframe to an interactive table.\"\n",
              "              style=\"display:none;\">\n",
              "        \n",
              "  <svg xmlns=\"http://www.w3.org/2000/svg\" height=\"24px\"viewBox=\"0 0 24 24\"\n",
              "       width=\"24px\">\n",
              "    <path d=\"M0 0h24v24H0V0z\" fill=\"none\"/>\n",
              "    <path d=\"M18.56 5.44l.94 2.06.94-2.06 2.06-.94-2.06-.94-.94-2.06-.94 2.06-2.06.94zm-11 1L8.5 8.5l.94-2.06 2.06-.94-2.06-.94L8.5 2.5l-.94 2.06-2.06.94zm10 10l.94 2.06.94-2.06 2.06-.94-2.06-.94-.94-2.06-.94 2.06-2.06.94z\"/><path d=\"M17.41 7.96l-1.37-1.37c-.4-.4-.92-.59-1.43-.59-.52 0-1.04.2-1.43.59L10.3 9.45l-7.72 7.72c-.78.78-.78 2.05 0 2.83L4 21.41c.39.39.9.59 1.41.59.51 0 1.02-.2 1.41-.59l7.78-7.78 2.81-2.81c.8-.78.8-2.07 0-2.86zM5.41 20L4 18.59l7.72-7.72 1.47 1.35L5.41 20z\"/>\n",
              "  </svg>\n",
              "      </button>\n",
              "      \n",
              "  <style>\n",
              "    .colab-df-container {\n",
              "      display:flex;\n",
              "      flex-wrap:wrap;\n",
              "      gap: 12px;\n",
              "    }\n",
              "\n",
              "    .colab-df-convert {\n",
              "      background-color: #E8F0FE;\n",
              "      border: none;\n",
              "      border-radius: 50%;\n",
              "      cursor: pointer;\n",
              "      display: none;\n",
              "      fill: #1967D2;\n",
              "      height: 32px;\n",
              "      padding: 0 0 0 0;\n",
              "      width: 32px;\n",
              "    }\n",
              "\n",
              "    .colab-df-convert:hover {\n",
              "      background-color: #E2EBFA;\n",
              "      box-shadow: 0px 1px 2px rgba(60, 64, 67, 0.3), 0px 1px 3px 1px rgba(60, 64, 67, 0.15);\n",
              "      fill: #174EA6;\n",
              "    }\n",
              "\n",
              "    [theme=dark] .colab-df-convert {\n",
              "      background-color: #3B4455;\n",
              "      fill: #D2E3FC;\n",
              "    }\n",
              "\n",
              "    [theme=dark] .colab-df-convert:hover {\n",
              "      background-color: #434B5C;\n",
              "      box-shadow: 0px 1px 3px 1px rgba(0, 0, 0, 0.15);\n",
              "      filter: drop-shadow(0px 1px 2px rgba(0, 0, 0, 0.3));\n",
              "      fill: #FFFFFF;\n",
              "    }\n",
              "  </style>\n",
              "\n",
              "      <script>\n",
              "        const buttonEl =\n",
              "          document.querySelector('#df-f1eb400f-3d5c-4c5e-8903-8d32642afe08 button.colab-df-convert');\n",
              "        buttonEl.style.display =\n",
              "          google.colab.kernel.accessAllowed ? 'block' : 'none';\n",
              "\n",
              "        async function convertToInteractive(key) {\n",
              "          const element = document.querySelector('#df-f1eb400f-3d5c-4c5e-8903-8d32642afe08');\n",
              "          const dataTable =\n",
              "            await google.colab.kernel.invokeFunction('convertToInteractive',\n",
              "                                                     [key], {});\n",
              "          if (!dataTable) return;\n",
              "\n",
              "          const docLinkHtml = 'Like what you see? Visit the ' +\n",
              "            '<a target=\"_blank\" href=https://colab.research.google.com/notebooks/data_table.ipynb>data table notebook</a>'\n",
              "            + ' to learn more about interactive tables.';\n",
              "          element.innerHTML = '';\n",
              "          dataTable['output_type'] = 'display_data';\n",
              "          await google.colab.output.renderOutput(dataTable, element);\n",
              "          const docLink = document.createElement('div');\n",
              "          docLink.innerHTML = docLinkHtml;\n",
              "          element.appendChild(docLink);\n",
              "        }\n",
              "      </script>\n",
              "    </div>\n",
              "  </div>\n",
              "  "
            ]
          },
          "metadata": {},
          "execution_count": 20
        }
      ],
      "source": [
        "ddos_data.head()"
      ]
    },
    {
      "cell_type": "code",
      "execution_count": 21,
      "metadata": {
        "id": "miDFVjOS-VFP",
        "colab": {
          "base_uri": "https://localhost:8080/"
        },
        "outputId": "2be2847c-80fd-4554-9ee5-589b098a3f6e"
      },
      "outputs": [
        {
          "output_type": "execute_result",
          "data": {
            "text/plain": [
              "[' Destination Port',\n",
              " ' Flow Duration',\n",
              " ' Total Fwd Packets',\n",
              " ' Total Backward Packets',\n",
              " 'Total Length of Fwd Packets',\n",
              " ' Total Length of Bwd Packets',\n",
              " ' Fwd Packet Length Max',\n",
              " ' Fwd Packet Length Min',\n",
              " ' Fwd Packet Length Mean',\n",
              " ' Fwd Packet Length Std',\n",
              " 'Bwd Packet Length Max',\n",
              " ' Bwd Packet Length Min',\n",
              " ' Bwd Packet Length Mean',\n",
              " ' Bwd Packet Length Std',\n",
              " 'Flow Bytes/s',\n",
              " ' Flow Packets/s',\n",
              " ' Flow IAT Mean',\n",
              " ' Flow IAT Std',\n",
              " ' Flow IAT Max',\n",
              " ' Flow IAT Min',\n",
              " 'Fwd IAT Total',\n",
              " ' Fwd IAT Mean',\n",
              " ' Fwd IAT Std',\n",
              " ' Fwd IAT Max',\n",
              " ' Fwd IAT Min',\n",
              " 'Bwd IAT Total',\n",
              " ' Bwd IAT Mean',\n",
              " ' Bwd IAT Std',\n",
              " ' Bwd IAT Max',\n",
              " ' Bwd IAT Min',\n",
              " 'Fwd PSH Flags',\n",
              " ' Bwd PSH Flags',\n",
              " ' Fwd URG Flags',\n",
              " ' Bwd URG Flags',\n",
              " ' Fwd Header Length',\n",
              " ' Bwd Header Length',\n",
              " 'Fwd Packets/s',\n",
              " ' Bwd Packets/s',\n",
              " ' Min Packet Length',\n",
              " ' Max Packet Length',\n",
              " ' Packet Length Mean',\n",
              " ' Packet Length Std',\n",
              " ' Packet Length Variance',\n",
              " 'FIN Flag Count',\n",
              " ' SYN Flag Count',\n",
              " ' RST Flag Count',\n",
              " ' PSH Flag Count',\n",
              " ' ACK Flag Count',\n",
              " ' URG Flag Count',\n",
              " ' CWE Flag Count',\n",
              " ' ECE Flag Count',\n",
              " ' Down/Up Ratio',\n",
              " ' Average Packet Size',\n",
              " ' Avg Fwd Segment Size',\n",
              " ' Avg Bwd Segment Size',\n",
              " ' Fwd Header Length.1',\n",
              " 'Fwd Avg Bytes/Bulk',\n",
              " ' Fwd Avg Packets/Bulk',\n",
              " ' Fwd Avg Bulk Rate',\n",
              " ' Bwd Avg Bytes/Bulk',\n",
              " ' Bwd Avg Packets/Bulk',\n",
              " 'Bwd Avg Bulk Rate',\n",
              " 'Subflow Fwd Packets',\n",
              " ' Subflow Fwd Bytes',\n",
              " ' Subflow Bwd Packets',\n",
              " ' Subflow Bwd Bytes',\n",
              " 'Init_Win_bytes_forward',\n",
              " ' Init_Win_bytes_backward',\n",
              " ' act_data_pkt_fwd',\n",
              " ' min_seg_size_forward',\n",
              " 'Active Mean',\n",
              " ' Active Std',\n",
              " ' Active Max',\n",
              " ' Active Min',\n",
              " 'Idle Mean',\n",
              " ' Idle Std',\n",
              " ' Idle Max',\n",
              " ' Idle Min',\n",
              " ' Label']"
            ]
          },
          "metadata": {},
          "execution_count": 21
        }
      ],
      "source": [
        "list(ddos_data.columns)"
      ]
    },
    {
      "cell_type": "code",
      "execution_count": 22,
      "metadata": {
        "id": "SWqINfMpWKIL"
      },
      "outputs": [],
      "source": [
        "y = ddos_data[' Label']\n",
        "# print(y)"
      ]
    },
    {
      "cell_type": "markdown",
      "metadata": {
        "id": "p1dSSoLZs-nT"
      },
      "source": [
        "Feature selection"
      ]
    },
    {
      "cell_type": "markdown",
      "metadata": {
        "id": "G1TstDFcZ_rM"
      },
      "source": [
        "# feature selection\n"
      ]
    },
    {
      "cell_type": "code",
      "execution_count": 23,
      "metadata": {
        "id": "fpKnbadebzwv",
        "colab": {
          "base_uri": "https://localhost:8080/"
        },
        "outputId": "b28207ca-3b36-4484-ffec-e290fa812832"
      },
      "outputs": [
        {
          "output_type": "stream",
          "name": "stdout",
          "text": [
            "[' Destination Port', ' Flow Duration', ' Total Fwd Packets', ' Total Backward Packets', 'Total Length of Fwd Packets', ' Total Length of Bwd Packets', ' Fwd Packet Length Max', ' Fwd Packet Length Min', ' Fwd Packet Length Mean', ' Fwd Packet Length Std', 'Bwd Packet Length Max', ' Bwd Packet Length Min', ' Bwd Packet Length Mean', ' Bwd Packet Length Std', 'Flow Bytes/s', ' Flow Packets/s', ' Flow IAT Mean', ' Flow IAT Std', ' Flow IAT Max', ' Flow IAT Min', 'Fwd IAT Total', ' Fwd IAT Mean', ' Fwd IAT Std', ' Fwd IAT Max', ' Fwd IAT Min', 'Bwd IAT Total', ' Bwd IAT Mean', ' Bwd IAT Std', ' Bwd IAT Max', ' Bwd IAT Min', 'Fwd PSH Flags', ' Bwd PSH Flags', ' Fwd URG Flags', ' Bwd URG Flags', ' Fwd Header Length', ' Bwd Header Length', 'Fwd Packets/s', ' Bwd Packets/s', ' Min Packet Length', ' Max Packet Length', ' Packet Length Mean', ' Packet Length Std', ' Packet Length Variance', 'FIN Flag Count', ' SYN Flag Count', ' RST Flag Count', ' PSH Flag Count', ' ACK Flag Count', ' URG Flag Count', ' CWE Flag Count', ' ECE Flag Count', ' Down/Up Ratio', ' Average Packet Size', ' Avg Fwd Segment Size', ' Avg Bwd Segment Size', ' Fwd Header Length.1', 'Fwd Avg Bytes/Bulk', ' Fwd Avg Packets/Bulk', ' Fwd Avg Bulk Rate', ' Bwd Avg Bytes/Bulk', ' Bwd Avg Packets/Bulk', 'Bwd Avg Bulk Rate', 'Subflow Fwd Packets', ' Subflow Fwd Bytes', ' Subflow Bwd Packets', ' Subflow Bwd Bytes', 'Init_Win_bytes_forward', ' Init_Win_bytes_backward', ' act_data_pkt_fwd', ' min_seg_size_forward', 'Active Mean', ' Active Std', ' Active Max', ' Active Min', 'Idle Mean', ' Idle Std', ' Idle Max', ' Idle Min', ' Label'] \n",
            " 79\n"
          ]
        }
      ],
      "source": [
        "cols = []\n",
        "# for row in ddos_data:\n",
        "#         cols.append(row)\n",
        "        \n",
        "# print(cols)\n",
        "# print(len(cols))\n",
        "cols = list(ddos_data.columns)\n",
        "print(cols,'\\n',len(cols))"
      ]
    },
    {
      "cell_type": "code",
      "execution_count": 24,
      "metadata": {
        "id": "4ZDyPHCPtCa0"
      },
      "outputs": [],
      "source": [
        "# calculate the mutual information score of every feature\n",
        "\n",
        "\n",
        "import matplotlib.pyplot as plt\n",
        "import numpy as np\n",
        "import pandas as pd\n",
        "import seaborn as sns\n",
        "from sklearn.feature_selection import mutual_info_regression\n",
        "\n",
        "# Set Matplotlib defaults\n",
        "plt.style.use(\"seaborn-whitegrid\")\n",
        "plt.rc(\"figure\", autolayout=True)\n",
        "plt.rc(\n",
        "    \"axes\",\n",
        "    labelweight=\"bold\",\n",
        "    labelsize=\"large\",\n",
        "    titleweight=\"bold\",\n",
        "    titlesize=14,\n",
        "    titlepad=10,\n",
        ")\n",
        "\n",
        "\n",
        "\n",
        "# Utility functions from Tutorial\n",
        "def make_mi_scores(X, y):\n",
        "    X = X.copy()\n",
        "    for colname in X.select_dtypes([\"object\", \"category\"]):\n",
        "        X[colname], _ = X[colname].factorize()\n",
        "    # All discrete features should now have integer dtypes\n",
        "    discrete_features = [pd.api.types.is_integer_dtype(t) for t in X.dtypes]\n",
        "    mi_scores = mutual_info_regression(X, y, discrete_features=discrete_features, random_state=0)\n",
        "    mi_scores = pd.Series(mi_scores, name=\"MI Scores\", index=X.columns)\n",
        "    mi_scores = mi_scores.sort_values(ascending=False)\n",
        "    return mi_scores\n",
        "\n",
        "\n",
        "def plot_mi_scores(scores):\n",
        "    scores = scores.sort_values(ascending=True)\n",
        "    width = np.arange(len(scores))\n",
        "    ticks = list(scores.index)\n",
        "    plt.barh(width, scores)\n",
        "    plt.yticks(width, ticks)\n",
        "    plt.title(\"Mutual Information Scores of All Features \")\n",
        "    # plt.annotate(label, # this is the text\n",
        "    #               (x,y), # these are the coordinates to position the label\n",
        "    #               textcoords=\"offset points\", # how to position the text\n",
        "    #               xytext=(0,10), # distance from text to points (x,y)\n",
        "    #               ha='center') # horizontal alignment can be left, right or center\n",
        "\n"
      ]
    },
    {
      "cell_type": "markdown",
      "metadata": {
        "id": "B2YIT_JVdwHM"
      },
      "source": [
        "1. The ddos dataset has seventy-eight features\n",
        "2. Identify the features with the most potential.\n",
        "\n",
        "3. Use the make_mi_scores function (introduced in the tutorial) to compute mutual information scores for the ddos features:"
      ]
    },
    {
      "cell_type": "code",
      "execution_count": 25,
      "metadata": {
        "id": "O8oXxcy9dPaG"
      },
      "outputs": [],
      "source": [
        "#  = ddos_data\n",
        "X_allFeatures = ddos_data.drop(columns = ' Label')"
      ]
    },
    {
      "cell_type": "code",
      "source": [
        "mi_scores = make_mi_scores(X_allFeatures, y)"
      ],
      "metadata": {
        "id": "nMNGCd2ZQQLq"
      },
      "execution_count": 29,
      "outputs": []
    },
    {
      "cell_type": "markdown",
      "source": [
        "Google Colab could lose connection once in a while and it takes forever to calculate MI scores. <br/>\n",
        "Save all the MI info here for checking."
      ],
      "metadata": {
        "id": "eOhvrY7n3jDa"
      }
    },
    {
      "cell_type": "code",
      "source": [
        "## saving MI scores here\n",
        "\n",
        "mi_scores_save = {'Fwd IAT Total': 1.418770,' Fwd IAT Max': 1.406533, ' Flow Duration':1.054842,' Flow IAT Max': 0.762656, ' Bwd IAT Max':0.751763, 'Bwd IAT Total': 0.728302,\n",
        "             'Total Length of Fwd Packets': 0.660043,' Subflow Fwd Bytes': 0.660043, ' Average Packet Size': 0.561962,' Destination Port': 0.560211,\n",
        "             ' Fwd Header Length': 0.549934, ' Fwd Header Length.1': 0.549934, ' Subflow Bwd Bytes':0.549766, ' Total Length of Bwd Packets': 0.549766, ' Avg Bwd Segment Size': 0.543892, \n",
        "             ' Bwd Packet Length Mean': 0.541197, 'Bwd Packet Length Max': 0.534044, \n",
        "             'Init_Win_bytes_forward': 0.511645, ' Fwd Packet Length Max':0.506397, ' Fwd Packet Length Mean': 0.489626, ' Avg Fwd Segment Size': 0.486742, ' Bwd Header Length': 0.481922,\n",
        "             ' Fwd IAT Mean': 0.448178,' Active Min': 0.443257, \n",
        "            ' Active Max': 0.438722,' Init_Win_bytes_backward': 0.420977,' Total Fwd Packets': 0.417196,'Subflow Fwd Packets': 0.417196, ' act_data_pkt_fwd': 0.406938,' Fwd IAT Std': 0.404124,\n",
        "            ' Packet Length Mean': 0.394575,' Packet Length Variance': 0.368877,' Packet Length Std': 0.367918,' Bwd Packet Length Std': 0.350168,' Fwd Packet Length Std': 0.349950,' Bwd Packets/s': 0.342176,\n",
        "            ' Total Backward Packets': 0.334701,' Subflow Bwd Packets': 0.334701,' Bwd IAT Mean': 0.330619,' Bwd Packet Length Min': 0.315814,'Fwd Packets/s': 0.312244,' Max Packet Length': 0.302470,\n",
        "             'Flow Bytes/s': 0.276330, ' Flow IAT Std': 0.250023,' Flow IAT Mean': 0.242019,' Bwd IAT Std': 0.239326,' Flow Packets/s': 0.236759,' Fwd IAT Min': 0.194920,' Bwd IAT Min': 0.193494, 'Active Mean': 0.178753,\n",
        "            ' Fwd Packet Length Min': 0.178090, ' URG Flag Count': 0.174085, ' Min Packet Length': 0.160995,' Down/Up Ratio': 0.156501,' min_seg_size_forward': 0.151758,' Idle Min': 0.111512, ' Idle Max': 0.087672,\n",
        "            ' SYN Flag Count': 0.071036, 'Fwd PSH Flags': 0.071036,' Flow IAT Min': 0.062931, 'Idle Mean': 0.061611, ' PSH Flag Count': 0.054747, 'FIN Flag Count': 0.043360,' ECE Flag Count': 0.041845,\n",
        "            ' RST Flag Count': 0.041845,' Fwd Avg Packets/Bulk': 0.041752,' CWE Flag Count': 0.041752, 'Fwd Avg Bytes/Bulk': 0.041752,' Bwd URG Flags': 0.041752,' Fwd URG Flags': 0.041752,' Bwd PSH Flags': 0.041752,\n",
        "             'Bwd Avg Bulk Rate': 0.041752,\n",
        "            ' Bwd Avg Bytes/Bulk': 0.041752,' Fwd Avg Bulk Rate': 0.041752,' Bwd Avg Packets/Bulk': 0.041752,' ACK Flag Count': 0.027938,' Idle Std': 0.024116,' Active Std': 0.023413}"
      ],
      "metadata": {
        "id": "xJ255hl6pirH"
      },
      "execution_count": 30,
      "outputs": []
    },
    {
      "cell_type": "code",
      "execution_count": 31,
      "metadata": {
        "id": "1mLziqk97tyY",
        "colab": {
          "base_uri": "https://localhost:8080/"
        },
        "outputId": "28270ed4-e89e-4f4a-b886-8fd4239c53f7"
      },
      "outputs": [
        {
          "output_type": "stream",
          "name": "stdout",
          "text": [
            "Fwd IAT Total                   1.418770\n",
            " Fwd IAT Max                    1.406533\n",
            " Flow Duration                  1.054842\n",
            " Flow IAT Max                   0.762656\n",
            " Bwd IAT Max                    0.751763\n",
            "Bwd IAT Total                   0.728302\n",
            "Total Length of Fwd Packets     0.660043\n",
            " Subflow Fwd Bytes              0.660043\n",
            " Average Packet Size            0.561962\n",
            " Destination Port               0.560211\n",
            " Fwd Header Length              0.549934\n",
            " Fwd Header Length.1            0.549934\n",
            " Subflow Bwd Bytes              0.549766\n",
            " Total Length of Bwd Packets    0.549766\n",
            " Avg Bwd Segment Size           0.543892\n",
            " Bwd Packet Length Mean         0.541197\n",
            "Bwd Packet Length Max           0.534044\n",
            "Init_Win_bytes_forward          0.511645\n",
            " Fwd Packet Length Max          0.506397\n",
            " Fwd Packet Length Mean         0.489626\n",
            " Avg Fwd Segment Size           0.486742\n",
            " Bwd Header Length              0.481922\n",
            " Fwd IAT Mean                   0.448178\n",
            " Active Min                     0.443257\n",
            " Active Max                     0.438722\n",
            " Init_Win_bytes_backward        0.420977\n",
            " Total Fwd Packets              0.417196\n",
            "Subflow Fwd Packets             0.417196\n",
            " act_data_pkt_fwd               0.406938\n",
            " Fwd IAT Std                    0.404124\n",
            " Packet Length Mean             0.394575\n",
            " Packet Length Variance         0.368877\n",
            " Packet Length Std              0.367918\n",
            " Bwd Packet Length Std          0.350168\n",
            " Fwd Packet Length Std          0.349950\n",
            " Bwd Packets/s                  0.342176\n",
            " Total Backward Packets         0.334701\n",
            " Subflow Bwd Packets            0.334701\n",
            " Bwd IAT Mean                   0.330619\n",
            " Bwd Packet Length Min          0.315814\n",
            "Fwd Packets/s                   0.312244\n",
            " Max Packet Length              0.302470\n",
            "Flow Bytes/s                    0.276330\n",
            " Flow IAT Std                   0.250023\n",
            " Flow IAT Mean                  0.242019\n",
            " Bwd IAT Std                    0.239326\n",
            " Flow Packets/s                 0.236759\n",
            " Fwd IAT Min                    0.194920\n",
            " Bwd IAT Min                    0.193494\n",
            "Active Mean                     0.178753\n",
            " Fwd Packet Length Min          0.178090\n",
            " URG Flag Count                 0.174085\n",
            " Min Packet Length              0.160995\n",
            " Down/Up Ratio                  0.156501\n",
            " min_seg_size_forward           0.151758\n",
            " Idle Min                       0.111512\n",
            " Idle Max                       0.087672\n",
            " SYN Flag Count                 0.071036\n",
            "Fwd PSH Flags                   0.071036\n",
            " Flow IAT Min                   0.062931\n",
            "Idle Mean                       0.061611\n",
            " PSH Flag Count                 0.054747\n",
            "FIN Flag Count                  0.043360\n",
            " ECE Flag Count                 0.041845\n",
            " RST Flag Count                 0.041845\n",
            " Fwd Avg Packets/Bulk           0.041752\n",
            " CWE Flag Count                 0.041752\n",
            "Fwd Avg Bytes/Bulk              0.041752\n",
            " Bwd URG Flags                  0.041752\n",
            " Fwd URG Flags                  0.041752\n",
            " Bwd PSH Flags                  0.041752\n",
            "Bwd Avg Bulk Rate               0.041752\n",
            " Bwd Avg Bytes/Bulk             0.041752\n",
            " Fwd Avg Bulk Rate              0.041752\n",
            " Bwd Avg Packets/Bulk           0.041752\n",
            " ACK Flag Count                 0.027938\n",
            " Idle Std                       0.024116\n",
            " Active Std                     0.023413\n",
            "Name: MI Scores, dtype: float64\n"
          ]
        }
      ],
      "source": [
        "\n",
        "# print all 78 features\n",
        "print(mi_scores.head(78))\n",
        "#"
      ]
    },
    {
      "cell_type": "code",
      "execution_count": 32,
      "metadata": {
        "id": "nfJruCz8eKaL",
        "colab": {
          "base_uri": "https://localhost:8080/",
          "height": 1000
        },
        "outputId": "d5190b34-ccad-41b5-c33c-ebc83559f350"
      },
      "outputs": [
        {
          "output_type": "display_data",
          "data": {
            "text/plain": [
              "<Figure size 810x1305 with 1 Axes>"
            ],
            "image/png": "[encoded data removed]"
          },
          "metadata": {}
        }
      ],
      "source": [
        "plt.figure(dpi=90, figsize=(9, 14.5))\n",
        "plot_mi_scores(mi_scores.head(78))\n"
      ]
    },
    {
      "cell_type": "code",
      "execution_count": 33,
      "metadata": {
        "id": "679Ol3b-wOoa",
        "colab": {
          "base_uri": "https://localhost:8080/"
        },
        "outputId": "79054a99-0ca5-4f34-c5a5-8d52cd669a35"
      },
      "outputs": [
        {
          "output_type": "stream",
          "name": "stdout",
          "text": [
            "Fwd IAT Total\n",
            " Fwd IAT Max\n",
            " Flow Duration\n",
            " Flow IAT Max\n",
            " Bwd IAT Max\n",
            "Bwd IAT Total\n",
            "Total Length of Fwd Packets\n",
            " Subflow Fwd Bytes\n",
            " Average Packet Size\n",
            " Destination Port\n",
            " Fwd Header Length\n",
            " Fwd Header Length.1\n",
            " Subflow Bwd Bytes\n",
            " Total Length of Bwd Packets\n",
            " Avg Bwd Segment Size\n",
            " Bwd Packet Length Mean\n",
            "Bwd Packet Length Max\n",
            "Init_Win_bytes_forward\n",
            " Fwd Packet Length Max\n"
          ]
        }
      ],
      "source": [
        "# print(type(mi_scores)\n",
        "for k,v in mi_scores.items():\n",
        "  if v >= 0.5:\n",
        "    print(k)"
      ]
    },
    {
      "cell_type": "code",
      "execution_count": 34,
      "metadata": {
        "id": "aiV4aifI_yYv"
      },
      "outputs": [],
      "source": [
        "# # using 16 features selected in paper \"Proceedings 2020, 63, 51; doi:10.3390/proceedings2020063051\"\n",
        "# target_features_1 = [' Destination Port','Total Length of Fwd Packets',' Total Length of Bwd Packets',' Fwd Packet Length Max',' Fwd Packet Length Mean','Bwd Packet Length Max',\n",
        "#                    ' Bwd Packet Length Mean',\n",
        "#                    ' Fwd Header Length', ' Bwd Header Length',' Average Packet Size',' Avg Fwd Segment Size',' Avg Bwd Segment Size',' Fwd Header Length',' Subflow Fwd Bytes',' Subflow Bwd Bytes',\n",
        "#                    'Init_Win_bytes_forward']"
      ]
    },
    {
      "cell_type": "code",
      "execution_count": 35,
      "metadata": {
        "id": "SxA3Rv8v8RDG",
        "colab": {
          "base_uri": "https://localhost:8080/"
        },
        "outputId": "13f2c94c-ec55-4da4-9810-4a7982a285b7"
      },
      "outputs": [
        {
          "output_type": "stream",
          "name": "stdout",
          "text": [
            "19\n",
            "['Fwd IAT Total', ' Fwd IAT Max', ' Flow Duration', ' Flow IAT Max', ' Bwd IAT Max', 'Bwd IAT Total', 'Total Length of Fwd Packets', ' Subflow Fwd Bytes', ' Average Packet Size', ' Destination Port', ' Fwd Header Length', ' Fwd Header Length.1', ' Subflow Bwd Bytes', ' Total Length of Bwd Packets', ' Avg Bwd Segment Size', ' Bwd Packet Length Mean', 'Bwd Packet Length Max', 'Init_Win_bytes_forward', ' Fwd Packet Length Max']\n"
          ]
        }
      ],
      "source": [
        "target_features_1 = []\n",
        "for k,v in mi_scores.items():\n",
        "  if v >= 0.5:\n",
        "    target_features_1.append(k)\n",
        "print(len(target_features_1))\n",
        "print(target_features_1)"
      ]
    },
    {
      "cell_type": "code",
      "source": [
        "# print(type(mi_scores)\n",
        "target_features_2 = []\n",
        "for k,v in mi_scores.items():\n",
        "  if v >= 0.2:\n",
        "    target_features_2.append(k)\n",
        "\n",
        "print(target_features_2)"
      ],
      "metadata": {
        "id": "K_bCFmyvczLS",
        "colab": {
          "base_uri": "https://localhost:8080/"
        },
        "outputId": "b532c7ad-e4be-4639-fbf1-065302afbd7c"
      },
      "execution_count": 36,
      "outputs": [
        {
          "output_type": "stream",
          "name": "stdout",
          "text": [
            "['Fwd IAT Total', ' Fwd IAT Max', ' Flow Duration', ' Flow IAT Max', ' Bwd IAT Max', 'Bwd IAT Total', 'Total Length of Fwd Packets', ' Subflow Fwd Bytes', ' Average Packet Size', ' Destination Port', ' Fwd Header Length', ' Fwd Header Length.1', ' Subflow Bwd Bytes', ' Total Length of Bwd Packets', ' Avg Bwd Segment Size', ' Bwd Packet Length Mean', 'Bwd Packet Length Max', 'Init_Win_bytes_forward', ' Fwd Packet Length Max', ' Fwd Packet Length Mean', ' Avg Fwd Segment Size', ' Bwd Header Length', ' Fwd IAT Mean', ' Active Min', ' Active Max', ' Init_Win_bytes_backward', ' Total Fwd Packets', 'Subflow Fwd Packets', ' act_data_pkt_fwd', ' Fwd IAT Std', ' Packet Length Mean', ' Packet Length Variance', ' Packet Length Std', ' Bwd Packet Length Std', ' Fwd Packet Length Std', ' Bwd Packets/s', ' Total Backward Packets', ' Subflow Bwd Packets', ' Bwd IAT Mean', ' Bwd Packet Length Min', 'Fwd Packets/s', ' Max Packet Length', 'Flow Bytes/s', ' Flow IAT Std', ' Flow IAT Mean', ' Bwd IAT Std', ' Flow Packets/s']\n"
          ]
        }
      ]
    },
    {
      "cell_type": "code",
      "source": [
        "# target_feature_2 = [\n",
        "#     'Fwd IAT Total',                   \n",
        "#  'Fwd IAT Max',\n",
        "#  'Flow Duration',\n",
        "#  'Flow IAT Max',\n",
        "#  'Bwd IAT Max',\n",
        "# 'Bwd IAT Total',\n",
        "#  Subflow Fwd Bytes              0.660043\n",
        "# Total Length of Fwd Packets     0.660043\n",
        "#  Average Packet Size            0.561962\n",
        "#  Destination Port               0.560211\n",
        "#  Fwd Header Length              0.549934\n",
        "#  Fwd Header Length.1            0.549934\n",
        "#  Total Length of Bwd Packets    0.549766\n",
        "#  Subflow Bwd Bytes              0.549766\n",
        "#  Avg Bwd Segment Size           0.543892\n",
        "#  Bwd Packet Length Mean         0.541197\n",
        "# Bwd Packet Length Max           0.534044\n",
        "# Init_Win_bytes_forward          0.511645\n",
        "#  Fwd Packet Length Max          0.506397\n",
        "#  Fwd Packet Length Mean         0.489626\n",
        "#  Avg Fwd Segment Size           0.486742\n",
        "#  Bwd Header Length              0.481922\n",
        "#  Fwd IAT Mean                   0.448178\n",
        "#  Active Min                     0.443257\n",
        "#  Active Max                     0.438722\n",
        "#  Init_Win_bytes_backward        0.420977\n",
        "#  Total Fwd Packets              0.417196\n",
        "# Subflow Fwd Packets             0.417196\n",
        "#  act_data_pkt_fwd               0.406938\n",
        "#  Fwd IAT Std                    0.404124\n",
        "#  Packet Length Mean             0.394575\n",
        "#  Packet Length Variance         0.368877\n",
        "#  Packet Length Std              0.367918\n",
        "#  Bwd Packet Length Std          0.350168\n",
        "#  Fwd Packet Length Std          0.349950\n",
        "#  Bwd Packets/s                  0.342176\n",
        "#  Total Backward Packets         0.334701\n",
        "#  Subflow Bwd Packets            0.334701\n",
        "#  Bwd IAT Mean                   0.330619\n",
        "#  Bwd Packet Length Min          0.315814\n",
        "# Fwd Packets/s                   0.312244\n",
        "#  Max Packet Length              0.302470\n",
        "# Flow Bytes/s                    0.276330\n",
        "#  Flow IAT Std                   0.250023\n",
        "#  Flow IAT Mean                  0.242019\n",
        "#  Bwd IAT Std                    0.239326\n",
        "#  Flow Packets/s \n",
        "# ]"
      ],
      "metadata": {
        "id": "Xe-0BZe9Fx5M",
        "colab": {
          "base_uri": "https://localhost:8080/",
          "height": 133
        },
        "outputId": "fe81d54f-876a-4a3f-b7e2-3e527464680c"
      },
      "execution_count": 37,
      "outputs": [
        {
          "output_type": "error",
          "ename": "SyntaxError",
          "evalue": "ignored",
          "traceback": [
            "\u001b[0;36m  File \u001b[0;32m\"<ipython-input-37-4913666cd975>\"\u001b[0;36m, line \u001b[0;32m8\u001b[0m\n\u001b[0;31m    Subflow Fwd Bytes              0.660043\u001b[0m\n\u001b[0m            ^\u001b[0m\n\u001b[0;31mSyntaxError\u001b[0m\u001b[0;31m:\u001b[0m invalid syntax\n"
          ]
        }
      ]
    },
    {
      "cell_type": "code",
      "execution_count": 38,
      "metadata": {
        "id": "VyVzfa2D8Uyn"
      },
      "outputs": [],
      "source": [
        "# features MI greater than 0.5\n",
        "X1 = ddos_data[target_features_1]\n",
        "# features MI greater than 0.2\n",
        "X2 = ddos_data[target_features_2]\n",
        "# all features\n",
        "X3 = X_allFeatures\n",
        "# X3.head()"
      ]
    },
    {
      "cell_type": "code",
      "execution_count": 39,
      "metadata": {
        "id": "x1UpEry2lbYg"
      },
      "outputs": [],
      "source": [
        "# print(len(X1.columns), len(X1))\n",
        "# print(len(X2.columns), len(X2))\n",
        "# print(len(X3.columns), len(X3))"
      ]
    },
    {
      "cell_type": "code",
      "source": [
        "# print(X1.columns)"
      ],
      "metadata": {
        "id": "n8JAE_xJGGIC"
      },
      "execution_count": 40,
      "outputs": []
    },
    {
      "cell_type": "code",
      "source": [
        "X2.head()"
      ],
      "metadata": {
        "id": "ffQJxSlxhGrr",
        "colab": {
          "base_uri": "https://localhost:8080/",
          "height": 332
        },
        "outputId": "1254eb48-9a1b-4fe2-dd21-693ca2d60125"
      },
      "execution_count": 41,
      "outputs": [
        {
          "output_type": "execute_result",
          "data": {
            "text/plain": [
              "   Fwd IAT Total   Fwd IAT Max   Flow Duration   Flow IAT Max   Bwd IAT Max  \\\n",
              "0              3             3               3              3             0   \n",
              "1              0             0             109            109             0   \n",
              "2              0             0              52             52             0   \n",
              "3              0             0              34             34             0   \n",
              "4              3             3               3              3             0   \n",
              "\n",
              "   Bwd IAT Total  Total Length of Fwd Packets   Subflow Fwd Bytes  \\\n",
              "0              0                           12                  12   \n",
              "1              0                            6                   6   \n",
              "2              0                            6                   6   \n",
              "3              0                            6                   6   \n",
              "4              0                           12                  12   \n",
              "\n",
              "    Average Packet Size   Destination Port  ...   Subflow Bwd Packets  \\\n",
              "0                   9.0              54865  ...                     0   \n",
              "1                   9.0              55054  ...                     1   \n",
              "2                   9.0              55055  ...                     1   \n",
              "3                   9.0              46236  ...                     1   \n",
              "4                   9.0              54863  ...                     0   \n",
              "\n",
              "    Bwd IAT Mean   Bwd Packet Length Min  Fwd Packets/s   Max Packet Length  \\\n",
              "0            0.0                       0  666666.666700                   6   \n",
              "1            0.0                       6    9174.311927                   6   \n",
              "2            0.0                       6   19230.769230                   6   \n",
              "3            0.0                       6   29411.764710                   6   \n",
              "4            0.0                       0  666666.666700                   6   \n",
              "\n",
              "   Flow Bytes/s   Flow IAT Std   Flow IAT Mean   Bwd IAT Std   Flow Packets/s  \n",
              "0  4.000000e+06            0.0             3.0           0.0     666666.66670  \n",
              "1  1.100917e+05            0.0           109.0           0.0      18348.62385  \n",
              "2  2.307692e+05            0.0            52.0           0.0      38461.53846  \n",
              "3  3.529412e+05            0.0            34.0           0.0      58823.52941  \n",
              "4  4.000000e+06            0.0             3.0           0.0     666666.66670  \n",
              "\n",
              "[5 rows x 47 columns]"
            ],
            "text/html": [
              "\n",
              "  <div id=\"df-c3dead8d-8ead-46da-82e5-9db8e015116c\">\n",
              "    <div class=\"colab-df-container\">\n",
              "      <div>\n",
              "<style scoped>\n",
              "    .dataframe tbody tr th:only-of-type {\n",
              "        vertical-align: middle;\n",
              "    }\n",
              "\n",
              "    .dataframe tbody tr th {\n",
              "        vertical-align: top;\n",
              "    }\n",
              "\n",
              "    .dataframe thead th {\n",
              "        text-align: right;\n",
              "    }\n",
              "</style>\n",
              "<table border=\"1\" class=\"dataframe\">\n",
              "  <thead>\n",
              "    <tr style=\"text-align: right;\">\n",
              "      <th></th>\n",
              "      <th>Fwd IAT Total</th>\n",
              "      <th>Fwd IAT Max</th>\n",
              "      <th>Flow Duration</th>\n",
              "      <th>Flow IAT Max</th>\n",
              "      <th>Bwd IAT Max</th>\n",
              "      <th>Bwd IAT Total</th>\n",
              "      <th>Total Length of Fwd Packets</th>\n",
              "      <th>Subflow Fwd Bytes</th>\n",
              "      <th>Average Packet Size</th>\n",
              "      <th>Destination Port</th>\n",
              "      <th>...</th>\n",
              "      <th>Subflow Bwd Packets</th>\n",
              "      <th>Bwd IAT Mean</th>\n",
              "      <th>Bwd Packet Length Min</th>\n",
              "      <th>Fwd Packets/s</th>\n",
              "      <th>Max Packet Length</th>\n",
              "      <th>Flow Bytes/s</th>\n",
              "      <th>Flow IAT Std</th>\n",
              "      <th>Flow IAT Mean</th>\n",
              "      <th>Bwd IAT Std</th>\n",
              "      <th>Flow Packets/s</th>\n",
              "    </tr>\n",
              "  </thead>\n",
              "  <tbody>\n",
              "    <tr>\n",
              "      <th>0</th>\n",
              "      <td>3</td>\n",
              "      <td>3</td>\n",
              "      <td>3</td>\n",
              "      <td>3</td>\n",
              "      <td>0</td>\n",
              "      <td>0</td>\n",
              "      <td>12</td>\n",
              "      <td>12</td>\n",
              "      <td>9.0</td>\n",
              "      <td>54865</td>\n",
              "      <td>...</td>\n",
              "      <td>0</td>\n",
              "      <td>0.0</td>\n",
              "      <td>0</td>\n",
              "      <td>666666.666700</td>\n",
              "      <td>6</td>\n",
              "      <td>4.000000e+06</td>\n",
              "      <td>0.0</td>\n",
              "      <td>3.0</td>\n",
              "      <td>0.0</td>\n",
              "      <td>666666.66670</td>\n",
              "    </tr>\n",
              "    <tr>\n",
              "      <th>1</th>\n",
              "      <td>0</td>\n",
              "      <td>0</td>\n",
              "      <td>109</td>\n",
              "      <td>109</td>\n",
              "      <td>0</td>\n",
              "      <td>0</td>\n",
              "      <td>6</td>\n",
              "      <td>6</td>\n",
              "      <td>9.0</td>\n",
              "      <td>55054</td>\n",
              "      <td>...</td>\n",
              "      <td>1</td>\n",
              "      <td>0.0</td>\n",
              "      <td>6</td>\n",
              "      <td>9174.311927</td>\n",
              "      <td>6</td>\n",
              "      <td>1.100917e+05</td>\n",
              "      <td>0.0</td>\n",
              "      <td>109.0</td>\n",
              "      <td>0.0</td>\n",
              "      <td>18348.62385</td>\n",
              "    </tr>\n",
              "    <tr>\n",
              "      <th>2</th>\n",
              "      <td>0</td>\n",
              "      <td>0</td>\n",
              "      <td>52</td>\n",
              "      <td>52</td>\n",
              "      <td>0</td>\n",
              "      <td>0</td>\n",
              "      <td>6</td>\n",
              "      <td>6</td>\n",
              "      <td>9.0</td>\n",
              "      <td>55055</td>\n",
              "      <td>...</td>\n",
              "      <td>1</td>\n",
              "      <td>0.0</td>\n",
              "      <td>6</td>\n",
              "      <td>19230.769230</td>\n",
              "      <td>6</td>\n",
              "      <td>2.307692e+05</td>\n",
              "      <td>0.0</td>\n",
              "      <td>52.0</td>\n",
              "      <td>0.0</td>\n",
              "      <td>38461.53846</td>\n",
              "    </tr>\n",
              "    <tr>\n",
              "      <th>3</th>\n",
              "      <td>0</td>\n",
              "      <td>0</td>\n",
              "      <td>34</td>\n",
              "      <td>34</td>\n",
              "      <td>0</td>\n",
              "      <td>0</td>\n",
              "      <td>6</td>\n",
              "      <td>6</td>\n",
              "      <td>9.0</td>\n",
              "      <td>46236</td>\n",
              "      <td>...</td>\n",
              "      <td>1</td>\n",
              "      <td>0.0</td>\n",
              "      <td>6</td>\n",
              "      <td>29411.764710</td>\n",
              "      <td>6</td>\n",
              "      <td>3.529412e+05</td>\n",
              "      <td>0.0</td>\n",
              "      <td>34.0</td>\n",
              "      <td>0.0</td>\n",
              "      <td>58823.52941</td>\n",
              "    </tr>\n",
              "    <tr>\n",
              "      <th>4</th>\n",
              "      <td>3</td>\n",
              "      <td>3</td>\n",
              "      <td>3</td>\n",
              "      <td>3</td>\n",
              "      <td>0</td>\n",
              "      <td>0</td>\n",
              "      <td>12</td>\n",
              "      <td>12</td>\n",
              "      <td>9.0</td>\n",
              "      <td>54863</td>\n",
              "      <td>...</td>\n",
              "      <td>0</td>\n",
              "      <td>0.0</td>\n",
              "      <td>0</td>\n",
              "      <td>666666.666700</td>\n",
              "      <td>6</td>\n",
              "      <td>4.000000e+06</td>\n",
              "      <td>0.0</td>\n",
              "      <td>3.0</td>\n",
              "      <td>0.0</td>\n",
              "      <td>666666.66670</td>\n",
              "    </tr>\n",
              "  </tbody>\n",
              "</table>\n",
              "<p>5 rows × 47 columns</p>\n",
              "</div>\n",
              "      <button class=\"colab-df-convert\" onclick=\"convertToInteractive('df-c3dead8d-8ead-46da-82e5-9db8e015116c')\"\n",
              "              title=\"Convert this dataframe to an interactive table.\"\n",
              "              style=\"display:none;\">\n",
              "        \n",
              "  <svg xmlns=\"http://www.w3.org/2000/svg\" height=\"24px\"viewBox=\"0 0 24 24\"\n",
              "       width=\"24px\">\n",
              "    <path d=\"M0 0h24v24H0V0z\" fill=\"none\"/>\n",
              "    <path d=\"M18.56 5.44l.94 2.06.94-2.06 2.06-.94-2.06-.94-.94-2.06-.94 2.06-2.06.94zm-11 1L8.5 8.5l.94-2.06 2.06-.94-2.06-.94L8.5 2.5l-.94 2.06-2.06.94zm10 10l.94 2.06.94-2.06 2.06-.94-2.06-.94-.94-2.06-.94 2.06-2.06.94z\"/><path d=\"M17.41 7.96l-1.37-1.37c-.4-.4-.92-.59-1.43-.59-.52 0-1.04.2-1.43.59L10.3 9.45l-7.72 7.72c-.78.78-.78 2.05 0 2.83L4 21.41c.39.39.9.59 1.41.59.51 0 1.02-.2 1.41-.59l7.78-7.78 2.81-2.81c.8-.78.8-2.07 0-2.86zM5.41 20L4 18.59l7.72-7.72 1.47 1.35L5.41 20z\"/>\n",
              "  </svg>\n",
              "      </button>\n",
              "      \n",
              "  <style>\n",
              "    .colab-df-container {\n",
              "      display:flex;\n",
              "      flex-wrap:wrap;\n",
              "      gap: 12px;\n",
              "    }\n",
              "\n",
              "    .colab-df-convert {\n",
              "      background-color: #E8F0FE;\n",
              "      border: none;\n",
              "      border-radius: 50%;\n",
              "      cursor: pointer;\n",
              "      display: none;\n",
              "      fill: #1967D2;\n",
              "      height: 32px;\n",
              "      padding: 0 0 0 0;\n",
              "      width: 32px;\n",
              "    }\n",
              "\n",
              "    .colab-df-convert:hover {\n",
              "      background-color: #E2EBFA;\n",
              "      box-shadow: 0px 1px 2px rgba(60, 64, 67, 0.3), 0px 1px 3px 1px rgba(60, 64, 67, 0.15);\n",
              "      fill: #174EA6;\n",
              "    }\n",
              "\n",
              "    [theme=dark] .colab-df-convert {\n",
              "      background-color: #3B4455;\n",
              "      fill: #D2E3FC;\n",
              "    }\n",
              "\n",
              "    [theme=dark] .colab-df-convert:hover {\n",
              "      background-color: #434B5C;\n",
              "      box-shadow: 0px 1px 3px 1px rgba(0, 0, 0, 0.15);\n",
              "      filter: drop-shadow(0px 1px 2px rgba(0, 0, 0, 0.3));\n",
              "      fill: #FFFFFF;\n",
              "    }\n",
              "  </style>\n",
              "\n",
              "      <script>\n",
              "        const buttonEl =\n",
              "          document.querySelector('#df-c3dead8d-8ead-46da-82e5-9db8e015116c button.colab-df-convert');\n",
              "        buttonEl.style.display =\n",
              "          google.colab.kernel.accessAllowed ? 'block' : 'none';\n",
              "\n",
              "        async function convertToInteractive(key) {\n",
              "          const element = document.querySelector('#df-c3dead8d-8ead-46da-82e5-9db8e015116c');\n",
              "          const dataTable =\n",
              "            await google.colab.kernel.invokeFunction('convertToInteractive',\n",
              "                                                     [key], {});\n",
              "          if (!dataTable) return;\n",
              "\n",
              "          const docLinkHtml = 'Like what you see? Visit the ' +\n",
              "            '<a target=\"_blank\" href=https://colab.research.google.com/notebooks/data_table.ipynb>data table notebook</a>'\n",
              "            + ' to learn more about interactive tables.';\n",
              "          element.innerHTML = '';\n",
              "          dataTable['output_type'] = 'display_data';\n",
              "          await google.colab.output.renderOutput(dataTable, element);\n",
              "          const docLink = document.createElement('div');\n",
              "          docLink.innerHTML = docLinkHtml;\n",
              "          element.appendChild(docLink);\n",
              "        }\n",
              "      </script>\n",
              "    </div>\n",
              "  </div>\n",
              "  "
            ]
          },
          "metadata": {},
          "execution_count": 41
        }
      ]
    },
    {
      "cell_type": "markdown",
      "metadata": {
        "id": "yQV9i3Qkmmza"
      },
      "source": [
        "4, Training\n"
      ]
    },
    {
      "cell_type": "markdown",
      "metadata": {
        "id": "RCqNAwx_JQda"
      },
      "source": [
        "Devide data to two part, one for training, one for testing(predicting)"
      ]
    },
    {
      "cell_type": "markdown",
      "metadata": {
        "id": "1fWCFyhwU8C4"
      },
      "source": []
    },
    {
      "cell_type": "code",
      "source": [
        "# # split the data into validation data & training data, for both feature and target\n",
        "from sklearn.model_selection import train_test_split\n",
        "# # split the data using feature set X1\n",
        "train_X1, validate_X1, train_y1, validate_y1 = train_test_split(X1, y, random_state = 0)"
      ],
      "metadata": {
        "id": "TPW692i71i-v"
      },
      "execution_count": 42,
      "outputs": []
    },
    {
      "cell_type": "code",
      "execution_count": 43,
      "metadata": {
        "id": "JQe0szQS8Hep"
      },
      "outputs": [],
      "source": [
        "# split the data using feature set X2\n",
        "train_X2, validate_X2, train_y2, validate_y2 = train_test_split(X2, y, random_state = 0)"
      ]
    },
    {
      "cell_type": "code",
      "source": [
        "# split the data using all features X3\n",
        "train_X3, validate_X3, train_y3, validate_y3 = train_test_split(X3, y, random_state = 0)"
      ],
      "metadata": {
        "id": "qQcy4do92B53"
      },
      "execution_count": 44,
      "outputs": []
    },
    {
      "cell_type": "code",
      "source": [
        "print('x1:', len(train_X1))\n",
        "print('x2:', len(train_X2))\n",
        "print('x3:', len(train_X3))\n",
        "print('x1.column:', len(train_X1.columns))\n",
        "print('x2.column:', len(train_X2.columns))\n",
        "print('x3.column:', len(train_X3.columns))"
      ],
      "metadata": {
        "id": "4J6pS4Ab0nja",
        "colab": {
          "base_uri": "https://localhost:8080/"
        },
        "outputId": "fb3e1dc3-af5c-4669-8865-3871ee84da7d"
      },
      "execution_count": 45,
      "outputs": [
        {
          "output_type": "stream",
          "name": "stdout",
          "text": [
            "x1: 169308\n",
            "x2: 169308\n",
            "x3: 169308\n",
            "x1.column: 19\n",
            "x2.column: 47\n",
            "x3.column: 78\n"
          ]
        }
      ]
    },
    {
      "cell_type": "markdown",
      "metadata": {
        "id": "BIHcZ5jLmgdz"
      },
      "source": [
        "4.1 (Experimental) prediction"
      ]
    },
    {
      "cell_type": "code",
      "source": [
        "print('train_y2', len(train_y2))\n",
        "print('train_y3', len(train_y3))"
      ],
      "metadata": {
        "id": "bGtRoJPD_uH_",
        "colab": {
          "base_uri": "https://localhost:8080/"
        },
        "outputId": "663abb81-d35a-480f-f984-19997be88dc9"
      },
      "execution_count": 46,
      "outputs": [
        {
          "output_type": "stream",
          "name": "stdout",
          "text": [
            "train_y2 169308\n",
            "train_y3 169308\n"
          ]
        }
      ]
    },
    {
      "cell_type": "markdown",
      "source": [],
      "metadata": {
        "id": "EAz60sUR_t4Q"
      }
    },
    {
      "cell_type": "markdown",
      "source": [
        "Using K-Nearest Neighbors (KNN)\n"
      ],
      "metadata": {
        "id": "TUE5RcgQZ4BN"
      }
    },
    {
      "cell_type": "code",
      "source": [
        "#Import knearest neighbors Classifier model\n",
        "from sklearn.neighbors import KNeighborsClassifier\n",
        "from sklearn.metrics import mean_absolute_error\n",
        "\n",
        "#Create KNN Classifier\n",
        "knn_model_1 = KNeighborsClassifier(n_neighbors=3)\n",
        "\n",
        "#Train the model using the training sets\n",
        "knn_model_1.fit(train_X1, train_y1)\n",
        "\n",
        "#Predict the response for test dataset\n",
        "y_pred_knn_1 = knn_model_1.predict(validate_X1)\n",
        "mean_absolute_error(validate_y1, y_pred_knn_1)"
      ],
      "metadata": {
        "id": "GDFLBppOaCal",
        "colab": {
          "base_uri": "https://localhost:8080/"
        },
        "outputId": "5416c724-04e4-4e37-e257-af1c8d8e38be"
      },
      "execution_count": 48,
      "outputs": [
        {
          "output_type": "execute_result",
          "data": {
            "text/plain": [
              "0.0047486577954179"
            ]
          },
          "metadata": {},
          "execution_count": 48
        }
      ]
    },
    {
      "cell_type": "code",
      "source": [],
      "metadata": {
        "id": "XO0RAotG_bmd"
      },
      "execution_count": 48,
      "outputs": []
    },
    {
      "cell_type": "markdown",
      "source": [
        "KNN X2 model"
      ],
      "metadata": {
        "id": "6hewJzpnEyK9"
      }
    },
    {
      "cell_type": "code",
      "source": [
        "from sklearn.metrics import mean_absolute_error\n",
        "\n",
        "\n",
        "# Create KNN Classifier\n",
        "knn_model_2 = KNeighborsClassifier(n_neighbors=3)\n",
        "\n",
        "#Train the model using the training sets\n",
        "knn_model_2.fit(train_X2, train_y2)\n",
        "\n",
        "#Predict the response for test dataset\n",
        "y_pred_knn_2 = knn_model_2.predict(validate_X2)\n",
        "\n",
        "#calculating MAE\n",
        "mean_absolute_error(validate_y2, y_pred_knn_2)"
      ],
      "metadata": {
        "id": "XJ9DVn95ExSK",
        "colab": {
          "base_uri": "https://localhost:8080/"
        },
        "outputId": "6b3bf62e-15ec-4706-b384-ce1d0f4bb5a0"
      },
      "execution_count": 49,
      "outputs": [
        {
          "output_type": "execute_result",
          "data": {
            "text/plain": [
              "0.002285734535854138"
            ]
          },
          "metadata": {},
          "execution_count": 49
        }
      ]
    },
    {
      "cell_type": "markdown",
      "source": [
        "KNN X3 MODEL"
      ],
      "metadata": {
        "id": "BqtRkp319Dbj"
      }
    },
    {
      "cell_type": "code",
      "source": [
        "\n",
        "from sklearn.metrics import mean_absolute_error\n",
        "\n",
        "#Create KNN Classifier\n",
        "knn_model_3 = KNeighborsClassifier(n_neighbors=5)\n",
        "\n",
        "#Train the model using the training sets\n",
        "knn_model_3.fit(train_X3, train_y3)\n",
        "\n",
        "#Predict the response for test dataset\n",
        "y_pred_knn_3 = knn_model_3.predict(validate_X3)\n",
        "\n",
        "#calculating MAE\n",
        "mean_absolute_error(validate_y3, y_pred_knn_3)"
      ],
      "metadata": {
        "id": "v5yUZXh17Iw7"
      },
      "execution_count": null,
      "outputs": []
    },
    {
      "cell_type": "code",
      "source": [],
      "metadata": {
        "id": "3CYbxkuLE87R"
      },
      "execution_count": null,
      "outputs": []
    },
    {
      "cell_type": "markdown",
      "source": [
        "Using SVM\n",
        "<br/>svm x1 model"
      ],
      "metadata": {
        "id": "siNJLf_AolOK"
      }
    },
    {
      "cell_type": "code",
      "source": [
        "#Import svm model\n",
        "from sklearn import svm\n",
        "\n",
        "#Create a svm Classifier\n",
        "svm_model_1 = svm.SVC(kernel='linear') # Linear Kernel\n",
        "\n",
        "#Train the model using the training sets\n",
        "svm_model_1.fit(train_X1, train_y1)\n",
        "\n",
        "#Predict the response for test dataset\n",
        "y_pred_svm_1 = svm_model_1.predict(validate_X1)\n",
        "\n",
        "mean_absolute_error(validate_y1, y_pred_svm_1)"
      ],
      "metadata": {
        "id": "INVvA-jjonAN"
      },
      "execution_count": null,
      "outputs": []
    },
    {
      "cell_type": "code",
      "source": [],
      "metadata": {
        "id": "W7bsNdPM3fpi"
      },
      "execution_count": null,
      "outputs": []
    },
    {
      "cell_type": "markdown",
      "source": [
        "\n",
        "<br/>svm X2 model\n"
      ],
      "metadata": {
        "id": "Ru8lWG8H9RD6"
      }
    },
    {
      "cell_type": "code",
      "source": [
        "#Create a svm Classifier\n",
        "svm_model_2 = svm.SVC(kernel='linear') # Linear Kernel\n",
        "\n",
        "#Train the model using the training sets\n",
        "svm_model_2.fit(train_X2, train_y2)\n",
        "\n",
        "#Predict the response for test dataset\n",
        "y_pred_svm_2 = svm_model_2.predict(validate_X2)\n",
        "mean_absolute_error(validate_y2, y_pred_svm_2)"
      ],
      "metadata": {
        "id": "VJIMV_Ur9QuK"
      },
      "execution_count": null,
      "outputs": []
    },
    {
      "cell_type": "markdown",
      "source": [
        "\n",
        "<br/>svm X3 model\n"
      ],
      "metadata": {
        "id": "ESb_gd4F9WnY"
      }
    },
    {
      "cell_type": "code",
      "source": [
        "#Create a svm Classifier\n",
        "svm_model_3 = svm.SVC(kernel='linear') # Linear Kernel\n",
        "\n",
        "#Train the model using the training sets\n",
        "svm_model_3.fit(train_X3, train_y3)\n",
        "\n",
        "#Predict the response for test dataset\n",
        "y_pred_svm_3 = svm_model_3.predict(validate_X3)\n",
        "mean_absolute_error(validate_y3, y_pred_svm_3)"
      ],
      "metadata": {
        "id": "c6BpW6ME9X_e"
      },
      "execution_count": null,
      "outputs": []
    },
    {
      "cell_type": "markdown",
      "source": [
        "Using LogisticRegression\n",
        "<BR/>X1 MODEL"
      ],
      "metadata": {
        "id": "wJGwvxzF7CLo"
      }
    },
    {
      "cell_type": "code",
      "source": [
        "from sklearn.linear_model import LogisticRegression\n",
        "# all parameters not specified are set to their defaults\n",
        "LR_model_1 = LogisticRegression(solver='lbfgs', max_iter=1000)\n",
        "LR_model_1.fit(train_X1, train_y1)\n",
        "LR_predictions_1 = LR_model_1.predict(validate_X1)\n",
        "mean_absolute_error(validate_y1, LR_predictions_1)"
      ],
      "metadata": {
        "id": "FlNJqh_lAEsk"
      },
      "execution_count": null,
      "outputs": []
    },
    {
      "cell_type": "markdown",
      "source": [
        "x2 MODEL"
      ],
      "metadata": {
        "id": "wCfJ93VbDxUp"
      }
    },
    {
      "cell_type": "code",
      "source": [
        "LR_model_2 = LogisticRegression()\n",
        "LR_model_2.fit(train_X2, train_y2)\n",
        "LR_predictions_2 = LR_model_2.predict(validate_X2)\n",
        "mean_absolute_error(validate_y1, LR_predictions_2)"
      ],
      "metadata": {
        "id": "OUkx8F7vD2ZN"
      },
      "execution_count": null,
      "outputs": []
    },
    {
      "cell_type": "code",
      "source": [],
      "metadata": {
        "id": "19Vnm11i2v7U"
      },
      "execution_count": null,
      "outputs": []
    },
    {
      "cell_type": "markdown",
      "source": [
        "x3 MODEL"
      ],
      "metadata": {
        "id": "rK-Q7gmgD-ou"
      }
    },
    {
      "cell_type": "code",
      "source": [
        "LR_model_3 = LogisticRegression()\n",
        "LR_model_3.fit(train_X3, train_y3)\n",
        "LR_predictions_3 = LR_model_3.predict(validate_X3)\n",
        "mean_absolute_error(validate_y3, LR_predictions_3)"
      ],
      "metadata": {
        "id": "5f0gOSHkEB6S"
      },
      "execution_count": null,
      "outputs": []
    },
    {
      "cell_type": "code",
      "source": [
        "from sklearn.ensemble import RandomForestRegressor\n",
        "from sklearn.metrics import mean_absolute_error\n",
        "forest_model1 = RandomForestRegressor(random_state=1)\n",
        "forest_model1.fit(train_X1, train_y1)\n",
        "RF_prediction_1 = forest_model1.predict(validate_X1)\n",
        "mean_absolute_error(validate_y1, RF_prediction_1)"
      ],
      "metadata": {
        "id": "QzsiaBD-jZrY"
      },
      "execution_count": null,
      "outputs": []
    },
    {
      "cell_type": "code",
      "source": [
        "\n",
        "forest_model2 = RandomForestRegressor(random_state=1)\n",
        "forest_model2.fit(train_X2, train_y2)\n",
        "RF_prediction_2 = forest_model2.predict(validate_X2)\n",
        "mean_absolute_error(validate_y2, RF_prediction_2)"
      ],
      "metadata": {
        "id": "0P1AxDZ-32l-"
      },
      "execution_count": null,
      "outputs": []
    },
    {
      "cell_type": "code",
      "source": [
        "forest_model3 = RandomForestRegressor(random_state=1)\n",
        "forest_model3.fit(train_X3, train_y3)\n",
        "RF_prediction_3 = forest_model3.predict(validate_X3)\n",
        "mean_absolute_error(validate_y3, RF_prediction_3)"
      ],
      "metadata": {
        "id": "2-Y6prts53a_"
      },
      "execution_count": null,
      "outputs": []
    },
    {
      "cell_type": "code",
      "source": [],
      "metadata": {
        "id": "qUvXcoLE6Nbs"
      },
      "execution_count": null,
      "outputs": []
    }
  ],
  "metadata": {
    "colab": {
      "provenance": [],
      "include_colab_link": true
    },
    "kernelspec": {
      "display_name": "Python 3",
      "name": "python3"
    },
    "language_info": {
      "name": "python"
    }
  },
  "nbformat": 4,
  "nbformat_minor": 0
}