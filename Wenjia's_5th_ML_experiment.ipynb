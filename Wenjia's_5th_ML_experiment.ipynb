{
  "cells": [
    {
      "cell_type": "markdown",
      "metadata": {
        "id": "view-in-github",
        "colab_type": "text"
      },
      "source": [
        "<a href=\"https://colab.research.google.com/github/Wenjia1215/Wenjia_ML_DDoS_experiments/blob/main/Wenjia's_5th_ML_experiment.ipynb\" target=\"_parent\"><img src=\"https://colab.research.google.com/assets/colab-badge.svg\" alt=\"Open In Colab\"/></a>"
      ]
    },
    {
      "cell_type": "code",
      "execution_count": null,
      "metadata": {
        "id": "R6-98C8WZPOX"
      },
      "outputs": [],
      "source": [
        ""
      ]
    },
    {
      "cell_type": "code",
      "execution_count": null,
      "metadata": {
        "id": "eYLEdtQZbjvd"
      },
      "outputs": [],
      "source": [
        ""
      ]
    },
    {
      "cell_type": "markdown",
      "metadata": {
        "id": "t1GA_tspxYXs"
      },
      "source": [
        "<h1><strong>Wenjia's 5th ML experiment</strong></h1>\n",
        "\n",
        "\n",
        "8/12/2022\n",
        "</br>calculate the mutual information score of every feature, and then choose high scored features to train the model.\n"
      ]
    },
    {
      "cell_type": "markdown",
      "metadata": {
        "id": "I5ii-DoDAAo_"
      },
      "source": [
        "Goal: use Traffic data to predict which one is DDoS attack and which one is normal traffic.</br>\n",
        "Outline:</br>\n",
        "\n",
        "    1, Gathering Data\n",
        "\n",
        "    2, Preparing Data\n",
        "\n",
        "    3, Model Selection\n",
        "\n",
        "    4, Training\n",
        "\n",
        "    5, Evaluation\n",
        "\n",
        "    6, Parameter Tuning\n",
        "\n",
        "    7, Prediction"
      ]
    },
    {
      "cell_type": "markdown",
      "metadata": {
        "id": "3Bw3wRM68zzC"
      },
      "source": [
        "1, Gathering Data (Done by dataset lab)</br>\n",
        "2, Preparing Data "
      ]
    },
    {
      "cell_type": "code",
      "execution_count": null,
      "metadata": {
        "colab": {
          "base_uri": "https://localhost:8080/"
        },
        "id": "xhlBH_Ry6dE-",
        "outputId": "e7e7f127-ae68-4df5-cabe-b95e3a432fec"
      },
      "outputs": [
        {
          "name": "stdout",
          "output_type": "stream",
          "text": [
            "/usr/local/lib/python3.7/dist-packages/gdown/cli.py:131: FutureWarning: Option `--id` was deprecated in version 4.3.1 and will be removed in 5.0. You don't need to pass it anymore to use a file ID.\n",
            "  category=FutureWarning,\n",
            "Downloading...\n",
            "From: https://drive.google.com/uc?id=1V9Kn7QL6knFDB1TRSIPqm0Jne5beDHZP\n",
            "To: /content/Friday-WorkingHours-Afternoon-DDos.pcap_ISCX.csv\n",
            "100% 77.1M/77.1M [00:01<00:00, 57.1MB/s]\n"
          ]
        }
      ],
      "source": [
        "!gdown --id 1V9Kn7QL6knFDB1TRSIPqm0Jne5beDHZP"
      ]
    },
    {
      "cell_type": "code",
      "execution_count": null,
      "metadata": {
        "id": "DSZiOtcW7DCO"
      },
      "outputs": [],
      "source": [
        "import pandas as pd\n",
        "\n",
        "# see complete rows in pandas\n",
        "# use pd.set_option('max_colwidth', <width>) for column width & pd.set_option('max_rows', <rows>) for number of rows.\n",
        "\n",
        "pd.set_option('max_rows', 80)"
      ]
    },
    {
      "cell_type": "code",
      "execution_count": null,
      "metadata": {
        "id": "eqnXSKrr7xym"
      },
      "outputs": [],
      "source": [
        "file_path = '/content/Friday-WorkingHours-Afternoon-DDos.pcap_ISCX.csv'"
      ]
    },
    {
      "cell_type": "code",
      "execution_count": null,
      "metadata": {
        "id": "wGqJLBsK76xp"
      },
      "outputs": [],
      "source": [
        "ddos_data = pd.read_csv(file_path)"
      ]
    },
    {
      "cell_type": "code",
      "execution_count": null,
      "metadata": {
        "colab": {
          "base_uri": "https://localhost:8080/",
          "height": 332
        },
        "id": "4YVrGLN_8Arj",
        "outputId": "785bc846-b146-452a-aed4-413864459a07"
      },
      "outputs": [
        {
          "data": {
            "text/html": [
              "\n",
              "  <div id=\"df-ca3da2ae-abce-4968-8202-fa52257defbc\">\n",
              "    <div class=\"colab-df-container\">\n",
              "      <div>\n",
              "<style scoped>\n",
              "    .dataframe tbody tr th:only-of-type {\n",
              "        vertical-align: middle;\n",
              "    }\n",
              "\n",
              "    .dataframe tbody tr th {\n",
              "        vertical-align: top;\n",
              "    }\n",
              "\n",
              "    .dataframe thead th {\n",
              "        text-align: right;\n",
              "    }\n",
              "</style>\n",
              "<table border=\"1\" class=\"dataframe\">\n",
              "  <thead>\n",
              "    <tr style=\"text-align: right;\">\n",
              "      <th></th>\n",
              "      <th>Destination Port</th>\n",
              "      <th>Flow Duration</th>\n",
              "      <th>Total Fwd Packets</th>\n",
              "      <th>Total Backward Packets</th>\n",
              "      <th>Total Length of Fwd Packets</th>\n",
              "      <th>Total Length of Bwd Packets</th>\n",
              "      <th>Fwd Packet Length Max</th>\n",
              "      <th>Fwd Packet Length Min</th>\n",
              "      <th>Fwd Packet Length Mean</th>\n",
              "      <th>Fwd Packet Length Std</th>\n",
              "      <th>...</th>\n",
              "      <th>min_seg_size_forward</th>\n",
              "      <th>Active Mean</th>\n",
              "      <th>Active Std</th>\n",
              "      <th>Active Max</th>\n",
              "      <th>Active Min</th>\n",
              "      <th>Idle Mean</th>\n",
              "      <th>Idle Std</th>\n",
              "      <th>Idle Max</th>\n",
              "      <th>Idle Min</th>\n",
              "      <th>Label</th>\n",
              "    </tr>\n",
              "  </thead>\n",
              "  <tbody>\n",
              "    <tr>\n",
              "      <th>0</th>\n",
              "      <td>54865</td>\n",
              "      <td>3</td>\n",
              "      <td>2</td>\n",
              "      <td>0</td>\n",
              "      <td>12</td>\n",
              "      <td>0</td>\n",
              "      <td>6</td>\n",
              "      <td>6</td>\n",
              "      <td>6.0</td>\n",
              "      <td>0.0</td>\n",
              "      <td>...</td>\n",
              "      <td>20</td>\n",
              "      <td>0.0</td>\n",
              "      <td>0.0</td>\n",
              "      <td>0</td>\n",
              "      <td>0</td>\n",
              "      <td>0.0</td>\n",
              "      <td>0.0</td>\n",
              "      <td>0</td>\n",
              "      <td>0</td>\n",
              "      <td>BENIGN</td>\n",
              "    </tr>\n",
              "    <tr>\n",
              "      <th>1</th>\n",
              "      <td>55054</td>\n",
              "      <td>109</td>\n",
              "      <td>1</td>\n",
              "      <td>1</td>\n",
              "      <td>6</td>\n",
              "      <td>6</td>\n",
              "      <td>6</td>\n",
              "      <td>6</td>\n",
              "      <td>6.0</td>\n",
              "      <td>0.0</td>\n",
              "      <td>...</td>\n",
              "      <td>20</td>\n",
              "      <td>0.0</td>\n",
              "      <td>0.0</td>\n",
              "      <td>0</td>\n",
              "      <td>0</td>\n",
              "      <td>0.0</td>\n",
              "      <td>0.0</td>\n",
              "      <td>0</td>\n",
              "      <td>0</td>\n",
              "      <td>BENIGN</td>\n",
              "    </tr>\n",
              "    <tr>\n",
              "      <th>2</th>\n",
              "      <td>55055</td>\n",
              "      <td>52</td>\n",
              "      <td>1</td>\n",
              "      <td>1</td>\n",
              "      <td>6</td>\n",
              "      <td>6</td>\n",
              "      <td>6</td>\n",
              "      <td>6</td>\n",
              "      <td>6.0</td>\n",
              "      <td>0.0</td>\n",
              "      <td>...</td>\n",
              "      <td>20</td>\n",
              "      <td>0.0</td>\n",
              "      <td>0.0</td>\n",
              "      <td>0</td>\n",
              "      <td>0</td>\n",
              "      <td>0.0</td>\n",
              "      <td>0.0</td>\n",
              "      <td>0</td>\n",
              "      <td>0</td>\n",
              "      <td>BENIGN</td>\n",
              "    </tr>\n",
              "    <tr>\n",
              "      <th>3</th>\n",
              "      <td>46236</td>\n",
              "      <td>34</td>\n",
              "      <td>1</td>\n",
              "      <td>1</td>\n",
              "      <td>6</td>\n",
              "      <td>6</td>\n",
              "      <td>6</td>\n",
              "      <td>6</td>\n",
              "      <td>6.0</td>\n",
              "      <td>0.0</td>\n",
              "      <td>...</td>\n",
              "      <td>20</td>\n",
              "      <td>0.0</td>\n",
              "      <td>0.0</td>\n",
              "      <td>0</td>\n",
              "      <td>0</td>\n",
              "      <td>0.0</td>\n",
              "      <td>0.0</td>\n",
              "      <td>0</td>\n",
              "      <td>0</td>\n",
              "      <td>BENIGN</td>\n",
              "    </tr>\n",
              "    <tr>\n",
              "      <th>4</th>\n",
              "      <td>54863</td>\n",
              "      <td>3</td>\n",
              "      <td>2</td>\n",
              "      <td>0</td>\n",
              "      <td>12</td>\n",
              "      <td>0</td>\n",
              "      <td>6</td>\n",
              "      <td>6</td>\n",
              "      <td>6.0</td>\n",
              "      <td>0.0</td>\n",
              "      <td>...</td>\n",
              "      <td>20</td>\n",
              "      <td>0.0</td>\n",
              "      <td>0.0</td>\n",
              "      <td>0</td>\n",
              "      <td>0</td>\n",
              "      <td>0.0</td>\n",
              "      <td>0.0</td>\n",
              "      <td>0</td>\n",
              "      <td>0</td>\n",
              "      <td>BENIGN</td>\n",
              "    </tr>\n",
              "  </tbody>\n",
              "</table>\n",
              "<p>5 rows × 79 columns</p>\n",
              "</div>\n",
              "      <button class=\"colab-df-convert\" onclick=\"convertToInteractive('df-ca3da2ae-abce-4968-8202-fa52257defbc')\"\n",
              "              title=\"Convert this dataframe to an interactive table.\"\n",
              "              style=\"display:none;\">\n",
              "        \n",
              "  <svg xmlns=\"http://www.w3.org/2000/svg\" height=\"24px\"viewBox=\"0 0 24 24\"\n",
              "       width=\"24px\">\n",
              "    <path d=\"M0 0h24v24H0V0z\" fill=\"none\"/>\n",
              "    <path d=\"M18.56 5.44l.94 2.06.94-2.06 2.06-.94-2.06-.94-.94-2.06-.94 2.06-2.06.94zm-11 1L8.5 8.5l.94-2.06 2.06-.94-2.06-.94L8.5 2.5l-.94 2.06-2.06.94zm10 10l.94 2.06.94-2.06 2.06-.94-2.06-.94-.94-2.06-.94 2.06-2.06.94z\"/><path d=\"M17.41 7.96l-1.37-1.37c-.4-.4-.92-.59-1.43-.59-.52 0-1.04.2-1.43.59L10.3 9.45l-7.72 7.72c-.78.78-.78 2.05 0 2.83L4 21.41c.39.39.9.59 1.41.59.51 0 1.02-.2 1.41-.59l7.78-7.78 2.81-2.81c.8-.78.8-2.07 0-2.86zM5.41 20L4 18.59l7.72-7.72 1.47 1.35L5.41 20z\"/>\n",
              "  </svg>\n",
              "      </button>\n",
              "      \n",
              "  <style>\n",
              "    .colab-df-container {\n",
              "      display:flex;\n",
              "      flex-wrap:wrap;\n",
              "      gap: 12px;\n",
              "    }\n",
              "\n",
              "    .colab-df-convert {\n",
              "      background-color: #E8F0FE;\n",
              "      border: none;\n",
              "      border-radius: 50%;\n",
              "      cursor: pointer;\n",
              "      display: none;\n",
              "      fill: #1967D2;\n",
              "      height: 32px;\n",
              "      padding: 0 0 0 0;\n",
              "      width: 32px;\n",
              "    }\n",
              "\n",
              "    .colab-df-convert:hover {\n",
              "      background-color: #E2EBFA;\n",
              "      box-shadow: 0px 1px 2px rgba(60, 64, 67, 0.3), 0px 1px 3px 1px rgba(60, 64, 67, 0.15);\n",
              "      fill: #174EA6;\n",
              "    }\n",
              "\n",
              "    [theme=dark] .colab-df-convert {\n",
              "      background-color: #3B4455;\n",
              "      fill: #D2E3FC;\n",
              "    }\n",
              "\n",
              "    [theme=dark] .colab-df-convert:hover {\n",
              "      background-color: #434B5C;\n",
              "      box-shadow: 0px 1px 3px 1px rgba(0, 0, 0, 0.15);\n",
              "      filter: drop-shadow(0px 1px 2px rgba(0, 0, 0, 0.3));\n",
              "      fill: #FFFFFF;\n",
              "    }\n",
              "  </style>\n",
              "\n",
              "      <script>\n",
              "        const buttonEl =\n",
              "          document.querySelector('#df-ca3da2ae-abce-4968-8202-fa52257defbc button.colab-df-convert');\n",
              "        buttonEl.style.display =\n",
              "          google.colab.kernel.accessAllowed ? 'block' : 'none';\n",
              "\n",
              "        async function convertToInteractive(key) {\n",
              "          const element = document.querySelector('#df-ca3da2ae-abce-4968-8202-fa52257defbc');\n",
              "          const dataTable =\n",
              "            await google.colab.kernel.invokeFunction('convertToInteractive',\n",
              "                                                     [key], {});\n",
              "          if (!dataTable) return;\n",
              "\n",
              "          const docLinkHtml = 'Like what you see? Visit the ' +\n",
              "            '<a target=\"_blank\" href=https://colab.research.google.com/notebooks/data_table.ipynb>data table notebook</a>'\n",
              "            + ' to learn more about interactive tables.';\n",
              "          element.innerHTML = '';\n",
              "          dataTable['output_type'] = 'display_data';\n",
              "          await google.colab.output.renderOutput(dataTable, element);\n",
              "          const docLink = document.createElement('div');\n",
              "          docLink.innerHTML = docLinkHtml;\n",
              "          element.appendChild(docLink);\n",
              "        }\n",
              "      </script>\n",
              "    </div>\n",
              "  </div>\n",
              "  "
            ],
            "text/plain": [
              "    Destination Port   Flow Duration   Total Fwd Packets  \\\n",
              "0              54865               3                   2   \n",
              "1              55054             109                   1   \n",
              "2              55055              52                   1   \n",
              "3              46236              34                   1   \n",
              "4              54863               3                   2   \n",
              "\n",
              "    Total Backward Packets  Total Length of Fwd Packets  \\\n",
              "0                        0                           12   \n",
              "1                        1                            6   \n",
              "2                        1                            6   \n",
              "3                        1                            6   \n",
              "4                        0                           12   \n",
              "\n",
              "    Total Length of Bwd Packets   Fwd Packet Length Max  \\\n",
              "0                             0                       6   \n",
              "1                             6                       6   \n",
              "2                             6                       6   \n",
              "3                             6                       6   \n",
              "4                             0                       6   \n",
              "\n",
              "    Fwd Packet Length Min   Fwd Packet Length Mean   Fwd Packet Length Std  \\\n",
              "0                       6                      6.0                     0.0   \n",
              "1                       6                      6.0                     0.0   \n",
              "2                       6                      6.0                     0.0   \n",
              "3                       6                      6.0                     0.0   \n",
              "4                       6                      6.0                     0.0   \n",
              "\n",
              "   ...   min_seg_size_forward  Active Mean   Active Std   Active Max  \\\n",
              "0  ...                     20          0.0          0.0            0   \n",
              "1  ...                     20          0.0          0.0            0   \n",
              "2  ...                     20          0.0          0.0            0   \n",
              "3  ...                     20          0.0          0.0            0   \n",
              "4  ...                     20          0.0          0.0            0   \n",
              "\n",
              "    Active Min  Idle Mean   Idle Std   Idle Max   Idle Min   Label  \n",
              "0            0        0.0        0.0          0          0  BENIGN  \n",
              "1            0        0.0        0.0          0          0  BENIGN  \n",
              "2            0        0.0        0.0          0          0  BENIGN  \n",
              "3            0        0.0        0.0          0          0  BENIGN  \n",
              "4            0        0.0        0.0          0          0  BENIGN  \n",
              "\n",
              "[5 rows x 79 columns]"
            ]
          },
          "execution_count": 5,
          "metadata": {},
          "output_type": "execute_result"
        }
      ],
      "source": [
        "\n",
        "ddos_data.head()"
      ]
    },
    {
      "cell_type": "code",
      "execution_count": null,
      "metadata": {
        "id": "t9Oc7k85bxUt"
      },
      "outputs": [],
      "source": [
        ""
      ]
    },
    {
      "cell_type": "code",
      "execution_count": null,
      "metadata": {
        "id": "w1vS1r1bJFTF"
      },
      "outputs": [],
      "source": [
        ""
      ]
    },
    {
      "cell_type": "markdown",
      "metadata": {
        "id": "DW5m8cg4y67y"
      },
      "source": [
        "Preprocess data</br>"
      ]
    },
    {
      "cell_type": "code",
      "execution_count": null,
      "metadata": {
        "id": "913oxdKnvLJD"
      },
      "outputs": [],
      "source": [
        "#data preprocessing\n",
        "# NaN\n",
        "# infinity\n",
        "\n",
        "# Deleted\n",
        "  # Flow ID\n",
        "  # Source IP\n",
        "  # Source Port\n",
        "  # Destination IP\n",
        "  # Timestamp\n",
        "  # Protocol"
      ]
    },
    {
      "cell_type": "markdown",
      "metadata": {
        "id": "vkV3cCBfJ1zI"
      },
      "source": [
        "\n",
        "Replacing missing values"
      ]
    },
    {
      "cell_type": "code",
      "execution_count": null,
      "metadata": {
        "colab": {
          "base_uri": "https://localhost:8080/"
        },
        "id": "yOqt3TSIML4Q",
        "outputId": "aebc673a-e944-433c-b7b8-7d506231c7fa"
      },
      "outputs": [
        {
          "data": {
            "text/plain": [
              "4"
            ]
          },
          "execution_count": 7,
          "metadata": {},
          "output_type": "execute_result"
        }
      ],
      "source": [
        "ddos_data.isnull().sum().sum()"
      ]
    },
    {
      "cell_type": "code",
      "execution_count": null,
      "metadata": {
        "colab": {
          "base_uri": "https://localhost:8080/"
        },
        "id": "Cu8zA3MfJ1gH",
        "outputId": "74d3b900-3c93-4433-f9c0-21a8c259c8d2"
      },
      "outputs": [
        {
          "name": "stderr",
          "output_type": "stream",
          "text": [
            "/usr/local/lib/python3.7/dist-packages/ipykernel_launcher.py:1: FutureWarning: Dropping of nuisance columns in DataFrame reductions (with 'numeric_only=None') is deprecated; in a future version this will raise TypeError.  Select only valid columns before calling the reduction.\n",
            "  \"\"\"Entry point for launching an IPython kernel.\n"
          ]
        }
      ],
      "source": [
        "ddos_data = ddos_data.fillna(ddos_data.median())"
      ]
    },
    {
      "cell_type": "code",
      "execution_count": null,
      "metadata": {
        "colab": {
          "base_uri": "https://localhost:8080/"
        },
        "id": "CUTTpdDqPmRb",
        "outputId": "92453f73-649d-4c78-8fc1-1d720df5dc40"
      },
      "outputs": [
        {
          "data": {
            "text/plain": [
              "0"
            ]
          },
          "execution_count": 9,
          "metadata": {},
          "output_type": "execute_result"
        }
      ],
      "source": [
        "ddos_data.isnull().sum().sum()"
      ]
    },
    {
      "cell_type": "markdown",
      "metadata": {
        "id": "ulki-ZomP0p2"
      },
      "source": [
        "  Replace Infinity values with \"0\"\n"
      ]
    },
    {
      "cell_type": "code",
      "execution_count": null,
      "metadata": {
        "colab": {
          "base_uri": "https://localhost:8080/"
        },
        "id": "LLFEhiruP8zw",
        "outputId": "abefbfcd-4f42-4e97-947b-5c2c67518b27"
      },
      "outputs": [
        {
          "data": {
            "text/plain": [
              "64"
            ]
          },
          "execution_count": 10,
          "metadata": {},
          "output_type": "execute_result"
        }
      ],
      "source": [
        "import numpy as np\n",
        "ddos_data.isin([np.inf, -np.inf]).sum().sum()\n"
      ]
    },
    {
      "cell_type": "code",
      "execution_count": null,
      "metadata": {
        "id": "9pLIEbHnXug9"
      },
      "outputs": [],
      "source": [
        "ddos_data.replace([np.inf, -np.inf], 0, inplace=True)"
      ]
    },
    {
      "cell_type": "code",
      "execution_count": null,
      "metadata": {
        "colab": {
          "base_uri": "https://localhost:8080/"
        },
        "id": "D5xIZTiAYG93",
        "outputId": "b3a54b36-a42c-46f2-acc4-c447cb467c7d"
      },
      "outputs": [
        {
          "data": {
            "text/plain": [
              "0"
            ]
          },
          "execution_count": 12,
          "metadata": {},
          "output_type": "execute_result"
        }
      ],
      "source": [
        "ddos_data.isin([np.inf, -np.inf]).sum().sum()"
      ]
    },
    {
      "cell_type": "code",
      "execution_count": null,
      "metadata": {
        "id": "eMrMg93yadFV"
      },
      "outputs": [],
      "source": [
        "ddos_data = ddos_data.replace(to_replace = \"BENIGN\", value = 0)\n",
        "ddos_data = ddos_data.replace(to_replace = \"DDoS\", value = 1)"
      ]
    },
    {
      "cell_type": "markdown",
      "metadata": {
        "id": "1etULpX31j1S"
      },
      "source": [
        "To make sure all data meaningful,</br>\n",
        "Drop missing value again."
      ]
    },
    {
      "cell_type": "code",
      "execution_count": null,
      "metadata": {
        "colab": {
          "base_uri": "https://localhost:8080/"
        },
        "id": "f6m-_NQ61jgu",
        "outputId": "e29baad5-36a1-41c4-adbf-ca4772352ca4"
      },
      "outputs": [
        {
          "data": {
            "text/plain": [
              "225745"
            ]
          },
          "execution_count": 14,
          "metadata": {},
          "output_type": "execute_result"
        }
      ],
      "source": [
        "#count the total amount of row\n",
        "ddos_data.shape[0]"
      ]
    },
    {
      "cell_type": "code",
      "execution_count": null,
      "metadata": {
        "id": "GPhl6S1T6Crg"
      },
      "outputs": [],
      "source": [
        "# drop missings\n",
        "ddos_data = ddos_data.dropna(axis=0)"
      ]
    },
    {
      "cell_type": "code",
      "execution_count": null,
      "metadata": {
        "colab": {
          "base_uri": "https://localhost:8080/"
        },
        "id": "Auu2wQ-E6XFA",
        "outputId": "d4b261a6-1ebf-4b67-eea0-621c0aaf2b6d"
      },
      "outputs": [
        {
          "data": {
            "text/plain": [
              "225745"
            ]
          },
          "execution_count": 16,
          "metadata": {},
          "output_type": "execute_result"
        }
      ],
      "source": [
        "#count again\n",
        "ddos_data.shape[0]\n",
        "# the number is same, it proves that the data preprocess is efficient."
      ]
    },
    {
      "cell_type": "markdown",
      "metadata": {
        "id": "ru-SAieW3Dmt"
      },
      "source": [
        "Preprocess IP address<br/>\n",
        "To prevent having many features you have to encode IP addresses in your training data and treat new IP as unknown\n",
        "<br/> Hot encoding"
      ]
    },
    {
      "cell_type": "code",
      "execution_count": null,
      "metadata": {
        "id": "zAir8Gw638bR"
      },
      "outputs": [],
      "source": [
        "# Pros:\n",
        "# 1, The model can more easily identify IP's that belong to the same subnet.\n",
        "# 2, The number of features remains small even for a large number of distinct IP addresses in your training data.\n",
        "# Reference: https://www.quora.com/How-can-I-deal-with-IP-addresses-in-machine-learning-algorithms-in-traffic-analysis-and-anomaly-detection"
      ]
    },
    {
      "cell_type": "code",
      "execution_count": null,
      "metadata": {
        "id": "O361q_5j3DKi"
      },
      "outputs": [],
      "source": [
        "# from sklearn import preprocessing\n",
        "# ip_encoder = preprocessing.LabelBinarizer()"
      ]
    },
    {
      "cell_type": "code",
      "execution_count": null,
      "metadata": {
        "id": "3_8X6jhB4Ntl"
      },
      "outputs": [],
      "source": [
        "# ip_encoder.fit_transform(ddos_data.Flow_ID)"
      ]
    },
    {
      "cell_type": "code",
      "execution_count": null,
      "metadata": {
        "colab": {
          "base_uri": "https://localhost:8080/",
          "height": 332
        },
        "id": "jtPXR6xRcMrS",
        "outputId": "6360062b-2b63-4539-c51d-8a2e07a6d490"
      },
      "outputs": [
        {
          "data": {
            "text/html": [
              "\n",
              "  <div id=\"df-92e1f14e-4302-4005-961b-b6c1b7631832\">\n",
              "    <div class=\"colab-df-container\">\n",
              "      <div>\n",
              "<style scoped>\n",
              "    .dataframe tbody tr th:only-of-type {\n",
              "        vertical-align: middle;\n",
              "    }\n",
              "\n",
              "    .dataframe tbody tr th {\n",
              "        vertical-align: top;\n",
              "    }\n",
              "\n",
              "    .dataframe thead th {\n",
              "        text-align: right;\n",
              "    }\n",
              "</style>\n",
              "<table border=\"1\" class=\"dataframe\">\n",
              "  <thead>\n",
              "    <tr style=\"text-align: right;\">\n",
              "      <th></th>\n",
              "      <th>Destination Port</th>\n",
              "      <th>Flow Duration</th>\n",
              "      <th>Total Fwd Packets</th>\n",
              "      <th>Total Backward Packets</th>\n",
              "      <th>Total Length of Fwd Packets</th>\n",
              "      <th>Total Length of Bwd Packets</th>\n",
              "      <th>Fwd Packet Length Max</th>\n",
              "      <th>Fwd Packet Length Min</th>\n",
              "      <th>Fwd Packet Length Mean</th>\n",
              "      <th>Fwd Packet Length Std</th>\n",
              "      <th>...</th>\n",
              "      <th>min_seg_size_forward</th>\n",
              "      <th>Active Mean</th>\n",
              "      <th>Active Std</th>\n",
              "      <th>Active Max</th>\n",
              "      <th>Active Min</th>\n",
              "      <th>Idle Mean</th>\n",
              "      <th>Idle Std</th>\n",
              "      <th>Idle Max</th>\n",
              "      <th>Idle Min</th>\n",
              "      <th>Label</th>\n",
              "    </tr>\n",
              "  </thead>\n",
              "  <tbody>\n",
              "    <tr>\n",
              "      <th>0</th>\n",
              "      <td>54865</td>\n",
              "      <td>3</td>\n",
              "      <td>2</td>\n",
              "      <td>0</td>\n",
              "      <td>12</td>\n",
              "      <td>0</td>\n",
              "      <td>6</td>\n",
              "      <td>6</td>\n",
              "      <td>6.0</td>\n",
              "      <td>0.0</td>\n",
              "      <td>...</td>\n",
              "      <td>20</td>\n",
              "      <td>0.0</td>\n",
              "      <td>0.0</td>\n",
              "      <td>0</td>\n",
              "      <td>0</td>\n",
              "      <td>0.0</td>\n",
              "      <td>0.0</td>\n",
              "      <td>0</td>\n",
              "      <td>0</td>\n",
              "      <td>0</td>\n",
              "    </tr>\n",
              "    <tr>\n",
              "      <th>1</th>\n",
              "      <td>55054</td>\n",
              "      <td>109</td>\n",
              "      <td>1</td>\n",
              "      <td>1</td>\n",
              "      <td>6</td>\n",
              "      <td>6</td>\n",
              "      <td>6</td>\n",
              "      <td>6</td>\n",
              "      <td>6.0</td>\n",
              "      <td>0.0</td>\n",
              "      <td>...</td>\n",
              "      <td>20</td>\n",
              "      <td>0.0</td>\n",
              "      <td>0.0</td>\n",
              "      <td>0</td>\n",
              "      <td>0</td>\n",
              "      <td>0.0</td>\n",
              "      <td>0.0</td>\n",
              "      <td>0</td>\n",
              "      <td>0</td>\n",
              "      <td>0</td>\n",
              "    </tr>\n",
              "    <tr>\n",
              "      <th>2</th>\n",
              "      <td>55055</td>\n",
              "      <td>52</td>\n",
              "      <td>1</td>\n",
              "      <td>1</td>\n",
              "      <td>6</td>\n",
              "      <td>6</td>\n",
              "      <td>6</td>\n",
              "      <td>6</td>\n",
              "      <td>6.0</td>\n",
              "      <td>0.0</td>\n",
              "      <td>...</td>\n",
              "      <td>20</td>\n",
              "      <td>0.0</td>\n",
              "      <td>0.0</td>\n",
              "      <td>0</td>\n",
              "      <td>0</td>\n",
              "      <td>0.0</td>\n",
              "      <td>0.0</td>\n",
              "      <td>0</td>\n",
              "      <td>0</td>\n",
              "      <td>0</td>\n",
              "    </tr>\n",
              "    <tr>\n",
              "      <th>3</th>\n",
              "      <td>46236</td>\n",
              "      <td>34</td>\n",
              "      <td>1</td>\n",
              "      <td>1</td>\n",
              "      <td>6</td>\n",
              "      <td>6</td>\n",
              "      <td>6</td>\n",
              "      <td>6</td>\n",
              "      <td>6.0</td>\n",
              "      <td>0.0</td>\n",
              "      <td>...</td>\n",
              "      <td>20</td>\n",
              "      <td>0.0</td>\n",
              "      <td>0.0</td>\n",
              "      <td>0</td>\n",
              "      <td>0</td>\n",
              "      <td>0.0</td>\n",
              "      <td>0.0</td>\n",
              "      <td>0</td>\n",
              "      <td>0</td>\n",
              "      <td>0</td>\n",
              "    </tr>\n",
              "    <tr>\n",
              "      <th>4</th>\n",
              "      <td>54863</td>\n",
              "      <td>3</td>\n",
              "      <td>2</td>\n",
              "      <td>0</td>\n",
              "      <td>12</td>\n",
              "      <td>0</td>\n",
              "      <td>6</td>\n",
              "      <td>6</td>\n",
              "      <td>6.0</td>\n",
              "      <td>0.0</td>\n",
              "      <td>...</td>\n",
              "      <td>20</td>\n",
              "      <td>0.0</td>\n",
              "      <td>0.0</td>\n",
              "      <td>0</td>\n",
              "      <td>0</td>\n",
              "      <td>0.0</td>\n",
              "      <td>0.0</td>\n",
              "      <td>0</td>\n",
              "      <td>0</td>\n",
              "      <td>0</td>\n",
              "    </tr>\n",
              "  </tbody>\n",
              "</table>\n",
              "<p>5 rows × 79 columns</p>\n",
              "</div>\n",
              "      <button class=\"colab-df-convert\" onclick=\"convertToInteractive('df-92e1f14e-4302-4005-961b-b6c1b7631832')\"\n",
              "              title=\"Convert this dataframe to an interactive table.\"\n",
              "              style=\"display:none;\">\n",
              "        \n",
              "  <svg xmlns=\"http://www.w3.org/2000/svg\" height=\"24px\"viewBox=\"0 0 24 24\"\n",
              "       width=\"24px\">\n",
              "    <path d=\"M0 0h24v24H0V0z\" fill=\"none\"/>\n",
              "    <path d=\"M18.56 5.44l.94 2.06.94-2.06 2.06-.94-2.06-.94-.94-2.06-.94 2.06-2.06.94zm-11 1L8.5 8.5l.94-2.06 2.06-.94-2.06-.94L8.5 2.5l-.94 2.06-2.06.94zm10 10l.94 2.06.94-2.06 2.06-.94-2.06-.94-.94-2.06-.94 2.06-2.06.94z\"/><path d=\"M17.41 7.96l-1.37-1.37c-.4-.4-.92-.59-1.43-.59-.52 0-1.04.2-1.43.59L10.3 9.45l-7.72 7.72c-.78.78-.78 2.05 0 2.83L4 21.41c.39.39.9.59 1.41.59.51 0 1.02-.2 1.41-.59l7.78-7.78 2.81-2.81c.8-.78.8-2.07 0-2.86zM5.41 20L4 18.59l7.72-7.72 1.47 1.35L5.41 20z\"/>\n",
              "  </svg>\n",
              "      </button>\n",
              "      \n",
              "  <style>\n",
              "    .colab-df-container {\n",
              "      display:flex;\n",
              "      flex-wrap:wrap;\n",
              "      gap: 12px;\n",
              "    }\n",
              "\n",
              "    .colab-df-convert {\n",
              "      background-color: #E8F0FE;\n",
              "      border: none;\n",
              "      border-radius: 50%;\n",
              "      cursor: pointer;\n",
              "      display: none;\n",
              "      fill: #1967D2;\n",
              "      height: 32px;\n",
              "      padding: 0 0 0 0;\n",
              "      width: 32px;\n",
              "    }\n",
              "\n",
              "    .colab-df-convert:hover {\n",
              "      background-color: #E2EBFA;\n",
              "      box-shadow: 0px 1px 2px rgba(60, 64, 67, 0.3), 0px 1px 3px 1px rgba(60, 64, 67, 0.15);\n",
              "      fill: #174EA6;\n",
              "    }\n",
              "\n",
              "    [theme=dark] .colab-df-convert {\n",
              "      background-color: #3B4455;\n",
              "      fill: #D2E3FC;\n",
              "    }\n",
              "\n",
              "    [theme=dark] .colab-df-convert:hover {\n",
              "      background-color: #434B5C;\n",
              "      box-shadow: 0px 1px 3px 1px rgba(0, 0, 0, 0.15);\n",
              "      filter: drop-shadow(0px 1px 2px rgba(0, 0, 0, 0.3));\n",
              "      fill: #FFFFFF;\n",
              "    }\n",
              "  </style>\n",
              "\n",
              "      <script>\n",
              "        const buttonEl =\n",
              "          document.querySelector('#df-92e1f14e-4302-4005-961b-b6c1b7631832 button.colab-df-convert');\n",
              "        buttonEl.style.display =\n",
              "          google.colab.kernel.accessAllowed ? 'block' : 'none';\n",
              "\n",
              "        async function convertToInteractive(key) {\n",
              "          const element = document.querySelector('#df-92e1f14e-4302-4005-961b-b6c1b7631832');\n",
              "          const dataTable =\n",
              "            await google.colab.kernel.invokeFunction('convertToInteractive',\n",
              "                                                     [key], {});\n",
              "          if (!dataTable) return;\n",
              "\n",
              "          const docLinkHtml = 'Like what you see? Visit the ' +\n",
              "            '<a target=\"_blank\" href=https://colab.research.google.com/notebooks/data_table.ipynb>data table notebook</a>'\n",
              "            + ' to learn more about interactive tables.';\n",
              "          element.innerHTML = '';\n",
              "          dataTable['output_type'] = 'display_data';\n",
              "          await google.colab.output.renderOutput(dataTable, element);\n",
              "          const docLink = document.createElement('div');\n",
              "          docLink.innerHTML = docLinkHtml;\n",
              "          element.appendChild(docLink);\n",
              "        }\n",
              "      </script>\n",
              "    </div>\n",
              "  </div>\n",
              "  "
            ],
            "text/plain": [
              "    Destination Port   Flow Duration   Total Fwd Packets  \\\n",
              "0              54865               3                   2   \n",
              "1              55054             109                   1   \n",
              "2              55055              52                   1   \n",
              "3              46236              34                   1   \n",
              "4              54863               3                   2   \n",
              "\n",
              "    Total Backward Packets  Total Length of Fwd Packets  \\\n",
              "0                        0                           12   \n",
              "1                        1                            6   \n",
              "2                        1                            6   \n",
              "3                        1                            6   \n",
              "4                        0                           12   \n",
              "\n",
              "    Total Length of Bwd Packets   Fwd Packet Length Max  \\\n",
              "0                             0                       6   \n",
              "1                             6                       6   \n",
              "2                             6                       6   \n",
              "3                             6                       6   \n",
              "4                             0                       6   \n",
              "\n",
              "    Fwd Packet Length Min   Fwd Packet Length Mean   Fwd Packet Length Std  \\\n",
              "0                       6                      6.0                     0.0   \n",
              "1                       6                      6.0                     0.0   \n",
              "2                       6                      6.0                     0.0   \n",
              "3                       6                      6.0                     0.0   \n",
              "4                       6                      6.0                     0.0   \n",
              "\n",
              "   ...   min_seg_size_forward  Active Mean   Active Std   Active Max  \\\n",
              "0  ...                     20          0.0          0.0            0   \n",
              "1  ...                     20          0.0          0.0            0   \n",
              "2  ...                     20          0.0          0.0            0   \n",
              "3  ...                     20          0.0          0.0            0   \n",
              "4  ...                     20          0.0          0.0            0   \n",
              "\n",
              "    Active Min  Idle Mean   Idle Std   Idle Max   Idle Min   Label  \n",
              "0            0        0.0        0.0          0          0       0  \n",
              "1            0        0.0        0.0          0          0       0  \n",
              "2            0        0.0        0.0          0          0       0  \n",
              "3            0        0.0        0.0          0          0       0  \n",
              "4            0        0.0        0.0          0          0       0  \n",
              "\n",
              "[5 rows x 79 columns]"
            ]
          },
          "execution_count": 20,
          "metadata": {},
          "output_type": "execute_result"
        }
      ],
      "source": [
        "ddos_data.head()"
      ]
    },
    {
      "cell_type": "code",
      "execution_count": null,
      "metadata": {
        "colab": {
          "base_uri": "https://localhost:8080/"
        },
        "id": "miDFVjOS-VFP",
        "outputId": "b30ebaa7-197d-4ddb-f5fb-01ea0a9d4eee"
      },
      "outputs": [
        {
          "data": {
            "text/plain": [
              "[' Destination Port',\n",
              " ' Flow Duration',\n",
              " ' Total Fwd Packets',\n",
              " ' Total Backward Packets',\n",
              " 'Total Length of Fwd Packets',\n",
              " ' Total Length of Bwd Packets',\n",
              " ' Fwd Packet Length Max',\n",
              " ' Fwd Packet Length Min',\n",
              " ' Fwd Packet Length Mean',\n",
              " ' Fwd Packet Length Std',\n",
              " 'Bwd Packet Length Max',\n",
              " ' Bwd Packet Length Min',\n",
              " ' Bwd Packet Length Mean',\n",
              " ' Bwd Packet Length Std',\n",
              " 'Flow Bytes/s',\n",
              " ' Flow Packets/s',\n",
              " ' Flow IAT Mean',\n",
              " ' Flow IAT Std',\n",
              " ' Flow IAT Max',\n",
              " ' Flow IAT Min',\n",
              " 'Fwd IAT Total',\n",
              " ' Fwd IAT Mean',\n",
              " ' Fwd IAT Std',\n",
              " ' Fwd IAT Max',\n",
              " ' Fwd IAT Min',\n",
              " 'Bwd IAT Total',\n",
              " ' Bwd IAT Mean',\n",
              " ' Bwd IAT Std',\n",
              " ' Bwd IAT Max',\n",
              " ' Bwd IAT Min',\n",
              " 'Fwd PSH Flags',\n",
              " ' Bwd PSH Flags',\n",
              " ' Fwd URG Flags',\n",
              " ' Bwd URG Flags',\n",
              " ' Fwd Header Length',\n",
              " ' Bwd Header Length',\n",
              " 'Fwd Packets/s',\n",
              " ' Bwd Packets/s',\n",
              " ' Min Packet Length',\n",
              " ' Max Packet Length',\n",
              " ' Packet Length Mean',\n",
              " ' Packet Length Std',\n",
              " ' Packet Length Variance',\n",
              " 'FIN Flag Count',\n",
              " ' SYN Flag Count',\n",
              " ' RST Flag Count',\n",
              " ' PSH Flag Count',\n",
              " ' ACK Flag Count',\n",
              " ' URG Flag Count',\n",
              " ' CWE Flag Count',\n",
              " ' ECE Flag Count',\n",
              " ' Down/Up Ratio',\n",
              " ' Average Packet Size',\n",
              " ' Avg Fwd Segment Size',\n",
              " ' Avg Bwd Segment Size',\n",
              " ' Fwd Header Length.1',\n",
              " 'Fwd Avg Bytes/Bulk',\n",
              " ' Fwd Avg Packets/Bulk',\n",
              " ' Fwd Avg Bulk Rate',\n",
              " ' Bwd Avg Bytes/Bulk',\n",
              " ' Bwd Avg Packets/Bulk',\n",
              " 'Bwd Avg Bulk Rate',\n",
              " 'Subflow Fwd Packets',\n",
              " ' Subflow Fwd Bytes',\n",
              " ' Subflow Bwd Packets',\n",
              " ' Subflow Bwd Bytes',\n",
              " 'Init_Win_bytes_forward',\n",
              " ' Init_Win_bytes_backward',\n",
              " ' act_data_pkt_fwd',\n",
              " ' min_seg_size_forward',\n",
              " 'Active Mean',\n",
              " ' Active Std',\n",
              " ' Active Max',\n",
              " ' Active Min',\n",
              " 'Idle Mean',\n",
              " ' Idle Std',\n",
              " ' Idle Max',\n",
              " ' Idle Min',\n",
              " ' Label']"
            ]
          },
          "execution_count": 21,
          "metadata": {},
          "output_type": "execute_result"
        }
      ],
      "source": [
        "list(ddos_data.columns)"
      ]
    },
    {
      "cell_type": "code",
      "execution_count": null,
      "metadata": {
        "colab": {
          "base_uri": "https://localhost:8080/"
        },
        "id": "SWqINfMpWKIL",
        "outputId": "779fe26e-353e-452d-bcd8-c61f4df565b6"
      },
      "outputs": [
        {
          "name": "stdout",
          "output_type": "stream",
          "text": [
            "0         0\n",
            "1         0\n",
            "2         0\n",
            "3         0\n",
            "4         0\n",
            "         ..\n",
            "225740    0\n",
            "225741    0\n",
            "225742    0\n",
            "225743    0\n",
            "225744    0\n",
            "Name:  Label, Length: 225745, dtype: int64\n"
          ]
        }
      ],
      "source": [
        "y = ddos_data[' Label']\n",
        "print(y)"
      ]
    },
    {
      "cell_type": "markdown",
      "metadata": {
        "id": "p1dSSoLZs-nT"
      },
      "source": [
        "Feature selection"
      ]
    },
    {
      "cell_type": "markdown",
      "metadata": {
        "id": "G1TstDFcZ_rM"
      },
      "source": [
        "# feature selection\n"
      ]
    },
    {
      "cell_type": "code",
      "execution_count": null,
      "metadata": {
        "colab": {
          "base_uri": "https://localhost:8080/"
        },
        "id": "fpKnbadebzwv",
        "outputId": "6fc89ec8-3d13-4821-f64a-6458983d468e"
      },
      "outputs": [
        {
          "name": "stdout",
          "output_type": "stream",
          "text": [
            "[' Destination Port', ' Flow Duration', ' Total Fwd Packets', ' Total Backward Packets', 'Total Length of Fwd Packets', ' Total Length of Bwd Packets', ' Fwd Packet Length Max', ' Fwd Packet Length Min', ' Fwd Packet Length Mean', ' Fwd Packet Length Std', 'Bwd Packet Length Max', ' Bwd Packet Length Min', ' Bwd Packet Length Mean', ' Bwd Packet Length Std', 'Flow Bytes/s', ' Flow Packets/s', ' Flow IAT Mean', ' Flow IAT Std', ' Flow IAT Max', ' Flow IAT Min', 'Fwd IAT Total', ' Fwd IAT Mean', ' Fwd IAT Std', ' Fwd IAT Max', ' Fwd IAT Min', 'Bwd IAT Total', ' Bwd IAT Mean', ' Bwd IAT Std', ' Bwd IAT Max', ' Bwd IAT Min', 'Fwd PSH Flags', ' Bwd PSH Flags', ' Fwd URG Flags', ' Bwd URG Flags', ' Fwd Header Length', ' Bwd Header Length', 'Fwd Packets/s', ' Bwd Packets/s', ' Min Packet Length', ' Max Packet Length', ' Packet Length Mean', ' Packet Length Std', ' Packet Length Variance', 'FIN Flag Count', ' SYN Flag Count', ' RST Flag Count', ' PSH Flag Count', ' ACK Flag Count', ' URG Flag Count', ' CWE Flag Count', ' ECE Flag Count', ' Down/Up Ratio', ' Average Packet Size', ' Avg Fwd Segment Size', ' Avg Bwd Segment Size', ' Fwd Header Length.1', 'Fwd Avg Bytes/Bulk', ' Fwd Avg Packets/Bulk', ' Fwd Avg Bulk Rate', ' Bwd Avg Bytes/Bulk', ' Bwd Avg Packets/Bulk', 'Bwd Avg Bulk Rate', 'Subflow Fwd Packets', ' Subflow Fwd Bytes', ' Subflow Bwd Packets', ' Subflow Bwd Bytes', 'Init_Win_bytes_forward', ' Init_Win_bytes_backward', ' act_data_pkt_fwd', ' min_seg_size_forward', 'Active Mean', ' Active Std', ' Active Max', ' Active Min', 'Idle Mean', ' Idle Std', ' Idle Max', ' Idle Min', ' Label'] \n",
            " 79\n"
          ]
        }
      ],
      "source": [
        "cols = []\n",
        "# for row in ddos_data:\n",
        "#         cols.append(row)\n",
        "        \n",
        "# print(cols)\n",
        "# print(len(cols))\n",
        "cols = list(ddos_data.columns)\n",
        "print(cols,'\\n',len(cols))"
      ]
    },
    {
      "cell_type": "code",
      "execution_count": 56,
      "metadata": {
        "id": "4ZDyPHCPtCa0"
      },
      "outputs": [],
      "source": [
        "# calculate the mutual information score of every feature\n",
        "\n",
        "\n",
        "import matplotlib.pyplot as plt\n",
        "import numpy as np\n",
        "import pandas as pd\n",
        "import seaborn as sns\n",
        "from sklearn.feature_selection import mutual_info_regression\n",
        "\n",
        "# Set Matplotlib defaults\n",
        "plt.style.use(\"seaborn-whitegrid\")\n",
        "plt.rc(\"figure\", autolayout=True)\n",
        "plt.rc(\n",
        "    \"axes\",\n",
        "    labelweight=\"bold\",\n",
        "    labelsize=\"large\",\n",
        "    titleweight=\"bold\",\n",
        "    titlesize=14,\n",
        "    titlepad=10,\n",
        ")\n",
        "\n",
        "\n",
        "\n",
        "# Utility functions from Tutorial\n",
        "def make_mi_scores(X, y):\n",
        "    X = X.copy()\n",
        "    for colname in X.select_dtypes([\"object\", \"category\"]):\n",
        "        X[colname], _ = X[colname].factorize()\n",
        "    # All discrete features should now have integer dtypes\n",
        "    discrete_features = [pd.api.types.is_integer_dtype(t) for t in X.dtypes]\n",
        "    mi_scores = mutual_info_regression(X, y, discrete_features=discrete_features, random_state=0)\n",
        "    mi_scores = pd.Series(mi_scores, name=\"MI Scores\", index=X.columns)\n",
        "    mi_scores = mi_scores.sort_values(ascending=False)\n",
        "    return mi_scores\n",
        "\n",
        "\n",
        "def plot_mi_scores(scores):\n",
        "    scores = scores.sort_values(ascending=True)\n",
        "    width = np.arange(len(scores))\n",
        "    ticks = list(scores.index)\n",
        "    plt.barh(width, scores)\n",
        "    plt.yticks(width, ticks)\n",
        "    plt.title(\"Mutual Information Scores of All Features \")\n",
        "    # plt.annotate(label, # this is the text\n",
        "    #               (x,y), # these are the coordinates to position the label\n",
        "    #               textcoords=\"offset points\", # how to position the text\n",
        "    #               xytext=(0,10), # distance from text to points (x,y)\n",
        "    #               ha='center') # horizontal alignment can be left, right or center\n",
        "\n"
      ]
    },
    {
      "cell_type": "code",
      "execution_count": null,
      "metadata": {
        "colab": {
          "base_uri": "https://localhost:8080/",
          "height": 369
        },
        "id": "wiZPGi3bbceW",
        "outputId": "4aa2aa96-b5a7-4145-ad24-e666d9096479"
      },
      "outputs": [
        {
          "data": {
            "image/png": "[encoded data removed]",
            "text/plain": [
              "<Figure size 1080x360 with 3 Axes>"
            ]
          },
          "metadata": {},
          "output_type": "display_data"
        }
      ],
      "source": [
        "# To start, let's review the meaning of mutual information by looking at a few features from this dataset.\n",
        "features = [' Destination Port','Total Length of Fwd Packets',' Total Length of Bwd Packets']\n",
        "sns.relplot(\n",
        "    x=\"value\", y=\" Label\", col=\"variable\", data=ddos_data.melt(id_vars=\" Label\", value_vars=features), facet_kws=dict(sharex=False),\n",
        ");"
      ]
    },
    {
      "cell_type": "markdown",
      "metadata": {
        "id": "B2YIT_JVdwHM"
      },
      "source": [
        "1. The ddos dataset has seventy-eight features\n",
        "2. Identify the features with the most potential.\n",
        "\n",
        "3. Use the make_mi_scores function (introduced in the tutorial) to compute mutual information scores for the ddos features:"
      ]
    },
    {
      "cell_type": "code",
      "execution_count": null,
      "metadata": {
        "colab": {
          "background_save": true
        },
        "id": "O8oXxcy9dPaG"
      },
      "outputs": [],
      "source": [
        "X_allFeatures = ddos_data\n",
        "\n",
        "mi_scores = make_mi_scores(X_allFeatures, y)"
      ]
    },
    {
      "cell_type": "code",
      "execution_count": null,
      "metadata": {
        "colab": {
          "background_save": true
        },
        "id": "1mLziqk97tyY",
        "outputId": "14348e32-c40f-43e2-a6e8-a4ad39a6ab8d"
      },
      "outputs": [
        {
          "name": "stdout",
          "output_type": "stream",
          "text": [
            "Fwd IAT Total                   1.418770\n",
            " Fwd IAT Max                    1.406533\n",
            " Flow Duration                  1.054842\n",
            " Flow IAT Max                   0.762656\n",
            " Bwd IAT Max                    0.751763\n",
            "Bwd IAT Total                   0.728302\n",
            " Label                          0.725861\n",
            " Subflow Fwd Bytes              0.660043\n",
            "Total Length of Fwd Packets     0.660043\n",
            " Average Packet Size            0.561962\n",
            " Destination Port               0.560211\n",
            " Fwd Header Length              0.549934\n",
            " Fwd Header Length.1            0.549934\n",
            " Total Length of Bwd Packets    0.549766\n",
            " Subflow Bwd Bytes              0.549766\n",
            " Avg Bwd Segment Size           0.543892\n",
            " Bwd Packet Length Mean         0.541197\n",
            "Bwd Packet Length Max           0.534044\n",
            "Init_Win_bytes_forward          0.511645\n",
            " Fwd Packet Length Max          0.506397\n",
            " Fwd Packet Length Mean         0.489626\n",
            " Avg Fwd Segment Size           0.486742\n",
            " Bwd Header Length              0.481922\n",
            " Fwd IAT Mean                   0.448178\n",
            " Active Min                     0.443257\n",
            " Active Max                     0.438722\n",
            " Init_Win_bytes_backward        0.420977\n",
            " Total Fwd Packets              0.417196\n",
            "Subflow Fwd Packets             0.417196\n",
            " act_data_pkt_fwd               0.406938\n",
            " Fwd IAT Std                    0.404124\n",
            " Packet Length Mean             0.394575\n",
            " Packet Length Variance         0.368877\n",
            " Packet Length Std              0.367918\n",
            " Bwd Packet Length Std          0.350168\n",
            " Fwd Packet Length Std          0.349950\n",
            " Bwd Packets/s                  0.342176\n",
            " Total Backward Packets         0.334701\n",
            " Subflow Bwd Packets            0.334701\n",
            " Bwd IAT Mean                   0.330619\n",
            " Bwd Packet Length Min          0.315814\n",
            "Fwd Packets/s                   0.312244\n",
            " Max Packet Length              0.302470\n",
            "Flow Bytes/s                    0.276330\n",
            " Flow IAT Std                   0.250023\n",
            " Flow IAT Mean                  0.242019\n",
            " Bwd IAT Std                    0.239326\n",
            " Flow Packets/s                 0.236759\n",
            " Fwd IAT Min                    0.194920\n",
            " Bwd IAT Min                    0.193494\n",
            "Active Mean                     0.178753\n",
            " Fwd Packet Length Min          0.178090\n",
            " URG Flag Count                 0.174085\n",
            " Min Packet Length              0.160995\n",
            " Down/Up Ratio                  0.156501\n",
            " min_seg_size_forward           0.151758\n",
            " Idle Min                       0.111512\n",
            " Idle Max                       0.087672\n",
            "Fwd PSH Flags                   0.071036\n",
            " SYN Flag Count                 0.071036\n",
            " Flow IAT Min                   0.062931\n",
            "Idle Mean                       0.061611\n",
            " PSH Flag Count                 0.054747\n",
            "FIN Flag Count                  0.043360\n",
            " RST Flag Count                 0.041845\n",
            " ECE Flag Count                 0.041845\n",
            " Bwd Avg Packets/Bulk           0.041752\n",
            " Bwd Avg Bytes/Bulk             0.041752\n",
            " Fwd Avg Bulk Rate              0.041752\n",
            " Fwd Avg Packets/Bulk           0.041752\n",
            "Fwd Avg Bytes/Bulk              0.041752\n",
            " Bwd PSH Flags                  0.041752\n",
            " Fwd URG Flags                  0.041752\n",
            " Bwd URG Flags                  0.041752\n",
            " CWE Flag Count                 0.041752\n",
            "Bwd Avg Bulk Rate               0.041752\n",
            " ACK Flag Count                 0.027938\n",
            " Idle Std                       0.024116\n",
            "Name: MI Scores, dtype: float64\n"
          ]
        }
      ],
      "source": [
        "\n",
        "# print all 78 features\n",
        "print(mi_scores.head(78))\n"
      ]
    },
    {
      "cell_type": "code",
      "execution_count": 57,
      "metadata": {
        "colab": {
          "base_uri": "https://localhost:8080/",
          "height": 1000
        },
        "id": "nfJruCz8eKaL",
        "outputId": "9b8d7430-4c30-4492-bcab-16445a58000b"
      },
      "outputs": [
        {
          "output_type": "display_data",
          "data": {
            "text/plain": [
              "<Figure size 810x1305 with 1 Axes>"
            ],
            "image/png": "[encoded data removed]"
          },
          "metadata": {}
        }
      ],
      "source": [
        "plt.figure(dpi=90, figsize=(9, 14.5))\n",
        "plot_mi_scores(mi_scores.head(78))\n"
      ]
    },
    {
      "cell_type": "code",
      "execution_count": null,
      "metadata": {
        "colab": {
          "background_save": true
        },
        "id": "679Ol3b-wOoa",
        "outputId": "d0907625-7741-48ba-8dd5-a0d1bace2dbd"
      },
      "outputs": [
        {
          "name": "stdout",
          "output_type": "stream",
          "text": [
            "Fwd IAT Total\n",
            " Fwd IAT Max\n",
            " Flow Duration\n",
            " Flow IAT Max\n",
            " Bwd IAT Max\n",
            "Bwd IAT Total\n",
            " Label\n",
            " Subflow Fwd Bytes\n",
            "Total Length of Fwd Packets\n",
            " Average Packet Size\n",
            " Destination Port\n",
            " Fwd Header Length\n",
            " Fwd Header Length.1\n",
            " Total Length of Bwd Packets\n",
            " Subflow Bwd Bytes\n",
            " Avg Bwd Segment Size\n",
            " Bwd Packet Length Mean\n",
            "Bwd Packet Length Max\n",
            "Init_Win_bytes_forward\n",
            " Fwd Packet Length Max\n"
          ]
        }
      ],
      "source": [
        "# print(type(mi_scores)\n",
        "for k,v in mi_scores.items():\n",
        "  if v >= 0.5:\n",
        "    print(k)"
      ]
    },
    {
      "cell_type": "code",
      "execution_count": null,
      "metadata": {
        "colab": {
          "background_save": true
        },
        "id": "aiV4aifI_yYv"
      },
      "outputs": [],
      "source": [
        "# # using 16 features selected in paper \"Proceedings 2020, 63, 51; doi:10.3390/proceedings2020063051\"\n",
        "# target_features_1 = [' Destination Port','Total Length of Fwd Packets',' Total Length of Bwd Packets',' Fwd Packet Length Max',' Fwd Packet Length Mean','Bwd Packet Length Max',\n",
        "#                    ' Bwd Packet Length Mean',\n",
        "#                    ' Fwd Header Length', ' Bwd Header Length',' Average Packet Size',' Avg Fwd Segment Size',' Avg Bwd Segment Size',' Fwd Header Length',' Subflow Fwd Bytes',' Subflow Bwd Bytes',\n",
        "#                    'Init_Win_bytes_forward']"
      ]
    },
    {
      "cell_type": "code",
      "execution_count": null,
      "metadata": {
        "colab": {
          "background_save": true
        },
        "id": "SxA3Rv8v8RDG"
      },
      "outputs": [],
      "source": [
        "target_features_1 = ['Fwd IAT Total',\n",
        " ' Fwd IAT Max',\n",
        " ' Flow Duration',\n",
        " ' Flow IAT Max',\n",
        " ' Bwd IAT Max',\n",
        "'Bwd IAT Total',\n",
        "'Total Length of Fwd Packets',\n",
        " ' Subflow Fwd Bytes',\n",
        " ' Average Packet Size',\n",
        " ' Destination Port',\n",
        " ' Fwd Header Length',\n",
        " ' Fwd Header Length.1',\n",
        " ' Subflow Bwd Bytes',\n",
        " ' Total Length of Bwd Packets',\n",
        " ' Avg Bwd Segment Size',\n",
        " ' Bwd Packet Length Mean',\n",
        "'Bwd Packet Length Max',\n",
        "'Init_Win_bytes_forward',\n",
        " ' Fwd Packet Length Max']"
      ]
    },
    {
      "cell_type": "code",
      "source": [
        "# print(type(mi_scores)\n",
        "target_features_2nd = []\n",
        "for k,v in mi_scores.items():\n",
        "  if v >= 0.2:\n",
        "    target_features_2nd.append(k)\n",
        "\n",
        "print(target_features_2nd)"
      ],
      "metadata": {
        "colab": {
          "base_uri": "https://localhost:8080/"
        },
        "id": "K_bCFmyvczLS",
        "outputId": "906d754a-c556-41a4-c354-f2f5bf494fd6"
      },
      "execution_count": 182,
      "outputs": [
        {
          "output_type": "stream",
          "name": "stdout",
          "text": [
            "['Fwd IAT Total', ' Fwd IAT Max', ' Flow Duration', ' Flow IAT Max', ' Bwd IAT Max', 'Bwd IAT Total', ' Label', ' Subflow Fwd Bytes', 'Total Length of Fwd Packets', ' Average Packet Size', ' Destination Port', ' Fwd Header Length', ' Fwd Header Length.1', ' Total Length of Bwd Packets', ' Subflow Bwd Bytes', ' Avg Bwd Segment Size', ' Bwd Packet Length Mean', 'Bwd Packet Length Max', 'Init_Win_bytes_forward', ' Fwd Packet Length Max', ' Fwd Packet Length Mean', ' Avg Fwd Segment Size', ' Bwd Header Length', ' Fwd IAT Mean', ' Active Min', ' Active Max', ' Init_Win_bytes_backward', ' Total Fwd Packets', 'Subflow Fwd Packets', ' act_data_pkt_fwd', ' Fwd IAT Std', ' Packet Length Mean', ' Packet Length Variance', ' Packet Length Std', ' Bwd Packet Length Std', ' Fwd Packet Length Std', ' Bwd Packets/s', ' Total Backward Packets', ' Subflow Bwd Packets', ' Bwd IAT Mean', ' Bwd Packet Length Min', 'Fwd Packets/s', ' Max Packet Length', 'Flow Bytes/s', ' Flow IAT Std', ' Flow IAT Mean', ' Bwd IAT Std', ' Flow Packets/s']\n"
          ]
        }
      ]
    },
    {
      "cell_type": "code",
      "execution_count": 183,
      "metadata": {
        "colab": {
          "base_uri": "https://localhost:8080/",
          "height": 332
        },
        "id": "VyVzfa2D8Uyn",
        "outputId": "9962f32e-5384-4cd2-a234-8e4af762ce5b"
      },
      "outputs": [
        {
          "output_type": "execute_result",
          "data": {
            "text/plain": [
              "    Destination Port   Flow Duration   Total Fwd Packets  \\\n",
              "0              54865               3                   2   \n",
              "1              55054             109                   1   \n",
              "2              55055              52                   1   \n",
              "3              46236              34                   1   \n",
              "4              54863               3                   2   \n",
              "\n",
              "    Total Backward Packets  Total Length of Fwd Packets  \\\n",
              "0                        0                           12   \n",
              "1                        1                            6   \n",
              "2                        1                            6   \n",
              "3                        1                            6   \n",
              "4                        0                           12   \n",
              "\n",
              "    Total Length of Bwd Packets   Fwd Packet Length Max  \\\n",
              "0                             0                       6   \n",
              "1                             6                       6   \n",
              "2                             6                       6   \n",
              "3                             6                       6   \n",
              "4                             0                       6   \n",
              "\n",
              "    Fwd Packet Length Min   Fwd Packet Length Mean   Fwd Packet Length Std  \\\n",
              "0                       6                      6.0                     0.0   \n",
              "1                       6                      6.0                     0.0   \n",
              "2                       6                      6.0                     0.0   \n",
              "3                       6                      6.0                     0.0   \n",
              "4                       6                      6.0                     0.0   \n",
              "\n",
              "   ...   act_data_pkt_fwd   min_seg_size_forward  Active Mean   Active Std  \\\n",
              "0  ...                  1                     20          0.0          0.0   \n",
              "1  ...                  0                     20          0.0          0.0   \n",
              "2  ...                  0                     20          0.0          0.0   \n",
              "3  ...                  0                     20          0.0          0.0   \n",
              "4  ...                  1                     20          0.0          0.0   \n",
              "\n",
              "    Active Max   Active Min  Idle Mean   Idle Std   Idle Max   Idle Min  \n",
              "0            0            0        0.0        0.0          0          0  \n",
              "1            0            0        0.0        0.0          0          0  \n",
              "2            0            0        0.0        0.0          0          0  \n",
              "3            0            0        0.0        0.0          0          0  \n",
              "4            0            0        0.0        0.0          0          0  \n",
              "\n",
              "[5 rows x 78 columns]"
            ],
            "text/html": [
              "\n",
              "  <div id=\"df-50c35ec0-e9e0-4dfd-973b-63fe6d7be6bb\">\n",
              "    <div class=\"colab-df-container\">\n",
              "      <div>\n",
              "<style scoped>\n",
              "    .dataframe tbody tr th:only-of-type {\n",
              "        vertical-align: middle;\n",
              "    }\n",
              "\n",
              "    .dataframe tbody tr th {\n",
              "        vertical-align: top;\n",
              "    }\n",
              "\n",
              "    .dataframe thead th {\n",
              "        text-align: right;\n",
              "    }\n",
              "</style>\n",
              "<table border=\"1\" class=\"dataframe\">\n",
              "  <thead>\n",
              "    <tr style=\"text-align: right;\">\n",
              "      <th></th>\n",
              "      <th>Destination Port</th>\n",
              "      <th>Flow Duration</th>\n",
              "      <th>Total Fwd Packets</th>\n",
              "      <th>Total Backward Packets</th>\n",
              "      <th>Total Length of Fwd Packets</th>\n",
              "      <th>Total Length of Bwd Packets</th>\n",
              "      <th>Fwd Packet Length Max</th>\n",
              "      <th>Fwd Packet Length Min</th>\n",
              "      <th>Fwd Packet Length Mean</th>\n",
              "      <th>Fwd Packet Length Std</th>\n",
              "      <th>...</th>\n",
              "      <th>act_data_pkt_fwd</th>\n",
              "      <th>min_seg_size_forward</th>\n",
              "      <th>Active Mean</th>\n",
              "      <th>Active Std</th>\n",
              "      <th>Active Max</th>\n",
              "      <th>Active Min</th>\n",
              "      <th>Idle Mean</th>\n",
              "      <th>Idle Std</th>\n",
              "      <th>Idle Max</th>\n",
              "      <th>Idle Min</th>\n",
              "    </tr>\n",
              "  </thead>\n",
              "  <tbody>\n",
              "    <tr>\n",
              "      <th>0</th>\n",
              "      <td>54865</td>\n",
              "      <td>3</td>\n",
              "      <td>2</td>\n",
              "      <td>0</td>\n",
              "      <td>12</td>\n",
              "      <td>0</td>\n",
              "      <td>6</td>\n",
              "      <td>6</td>\n",
              "      <td>6.0</td>\n",
              "      <td>0.0</td>\n",
              "      <td>...</td>\n",
              "      <td>1</td>\n",
              "      <td>20</td>\n",
              "      <td>0.0</td>\n",
              "      <td>0.0</td>\n",
              "      <td>0</td>\n",
              "      <td>0</td>\n",
              "      <td>0.0</td>\n",
              "      <td>0.0</td>\n",
              "      <td>0</td>\n",
              "      <td>0</td>\n",
              "    </tr>\n",
              "    <tr>\n",
              "      <th>1</th>\n",
              "      <td>55054</td>\n",
              "      <td>109</td>\n",
              "      <td>1</td>\n",
              "      <td>1</td>\n",
              "      <td>6</td>\n",
              "      <td>6</td>\n",
              "      <td>6</td>\n",
              "      <td>6</td>\n",
              "      <td>6.0</td>\n",
              "      <td>0.0</td>\n",
              "      <td>...</td>\n",
              "      <td>0</td>\n",
              "      <td>20</td>\n",
              "      <td>0.0</td>\n",
              "      <td>0.0</td>\n",
              "      <td>0</td>\n",
              "      <td>0</td>\n",
              "      <td>0.0</td>\n",
              "      <td>0.0</td>\n",
              "      <td>0</td>\n",
              "      <td>0</td>\n",
              "    </tr>\n",
              "    <tr>\n",
              "      <th>2</th>\n",
              "      <td>55055</td>\n",
              "      <td>52</td>\n",
              "      <td>1</td>\n",
              "      <td>1</td>\n",
              "      <td>6</td>\n",
              "      <td>6</td>\n",
              "      <td>6</td>\n",
              "      <td>6</td>\n",
              "      <td>6.0</td>\n",
              "      <td>0.0</td>\n",
              "      <td>...</td>\n",
              "      <td>0</td>\n",
              "      <td>20</td>\n",
              "      <td>0.0</td>\n",
              "      <td>0.0</td>\n",
              "      <td>0</td>\n",
              "      <td>0</td>\n",
              "      <td>0.0</td>\n",
              "      <td>0.0</td>\n",
              "      <td>0</td>\n",
              "      <td>0</td>\n",
              "    </tr>\n",
              "    <tr>\n",
              "      <th>3</th>\n",
              "      <td>46236</td>\n",
              "      <td>34</td>\n",
              "      <td>1</td>\n",
              "      <td>1</td>\n",
              "      <td>6</td>\n",
              "      <td>6</td>\n",
              "      <td>6</td>\n",
              "      <td>6</td>\n",
              "      <td>6.0</td>\n",
              "      <td>0.0</td>\n",
              "      <td>...</td>\n",
              "      <td>0</td>\n",
              "      <td>20</td>\n",
              "      <td>0.0</td>\n",
              "      <td>0.0</td>\n",
              "      <td>0</td>\n",
              "      <td>0</td>\n",
              "      <td>0.0</td>\n",
              "      <td>0.0</td>\n",
              "      <td>0</td>\n",
              "      <td>0</td>\n",
              "    </tr>\n",
              "    <tr>\n",
              "      <th>4</th>\n",
              "      <td>54863</td>\n",
              "      <td>3</td>\n",
              "      <td>2</td>\n",
              "      <td>0</td>\n",
              "      <td>12</td>\n",
              "      <td>0</td>\n",
              "      <td>6</td>\n",
              "      <td>6</td>\n",
              "      <td>6.0</td>\n",
              "      <td>0.0</td>\n",
              "      <td>...</td>\n",
              "      <td>1</td>\n",
              "      <td>20</td>\n",
              "      <td>0.0</td>\n",
              "      <td>0.0</td>\n",
              "      <td>0</td>\n",
              "      <td>0</td>\n",
              "      <td>0.0</td>\n",
              "      <td>0.0</td>\n",
              "      <td>0</td>\n",
              "      <td>0</td>\n",
              "    </tr>\n",
              "  </tbody>\n",
              "</table>\n",
              "<p>5 rows × 78 columns</p>\n",
              "</div>\n",
              "      <button class=\"colab-df-convert\" onclick=\"convertToInteractive('df-50c35ec0-e9e0-4dfd-973b-63fe6d7be6bb')\"\n",
              "              title=\"Convert this dataframe to an interactive table.\"\n",
              "              style=\"display:none;\">\n",
              "        \n",
              "  <svg xmlns=\"http://www.w3.org/2000/svg\" height=\"24px\"viewBox=\"0 0 24 24\"\n",
              "       width=\"24px\">\n",
              "    <path d=\"M0 0h24v24H0V0z\" fill=\"none\"/>\n",
              "    <path d=\"M18.56 5.44l.94 2.06.94-2.06 2.06-.94-2.06-.94-.94-2.06-.94 2.06-2.06.94zm-11 1L8.5 8.5l.94-2.06 2.06-.94-2.06-.94L8.5 2.5l-.94 2.06-2.06.94zm10 10l.94 2.06.94-2.06 2.06-.94-2.06-.94-.94-2.06-.94 2.06-2.06.94z\"/><path d=\"M17.41 7.96l-1.37-1.37c-.4-.4-.92-.59-1.43-.59-.52 0-1.04.2-1.43.59L10.3 9.45l-7.72 7.72c-.78.78-.78 2.05 0 2.83L4 21.41c.39.39.9.59 1.41.59.51 0 1.02-.2 1.41-.59l7.78-7.78 2.81-2.81c.8-.78.8-2.07 0-2.86zM5.41 20L4 18.59l7.72-7.72 1.47 1.35L5.41 20z\"/>\n",
              "  </svg>\n",
              "      </button>\n",
              "      \n",
              "  <style>\n",
              "    .colab-df-container {\n",
              "      display:flex;\n",
              "      flex-wrap:wrap;\n",
              "      gap: 12px;\n",
              "    }\n",
              "\n",
              "    .colab-df-convert {\n",
              "      background-color: #E8F0FE;\n",
              "      border: none;\n",
              "      border-radius: 50%;\n",
              "      cursor: pointer;\n",
              "      display: none;\n",
              "      fill: #1967D2;\n",
              "      height: 32px;\n",
              "      padding: 0 0 0 0;\n",
              "      width: 32px;\n",
              "    }\n",
              "\n",
              "    .colab-df-convert:hover {\n",
              "      background-color: #E2EBFA;\n",
              "      box-shadow: 0px 1px 2px rgba(60, 64, 67, 0.3), 0px 1px 3px 1px rgba(60, 64, 67, 0.15);\n",
              "      fill: #174EA6;\n",
              "    }\n",
              "\n",
              "    [theme=dark] .colab-df-convert {\n",
              "      background-color: #3B4455;\n",
              "      fill: #D2E3FC;\n",
              "    }\n",
              "\n",
              "    [theme=dark] .colab-df-convert:hover {\n",
              "      background-color: #434B5C;\n",
              "      box-shadow: 0px 1px 3px 1px rgba(0, 0, 0, 0.15);\n",
              "      filter: drop-shadow(0px 1px 2px rgba(0, 0, 0, 0.3));\n",
              "      fill: #FFFFFF;\n",
              "    }\n",
              "  </style>\n",
              "\n",
              "      <script>\n",
              "        const buttonEl =\n",
              "          document.querySelector('#df-50c35ec0-e9e0-4dfd-973b-63fe6d7be6bb button.colab-df-convert');\n",
              "        buttonEl.style.display =\n",
              "          google.colab.kernel.accessAllowed ? 'block' : 'none';\n",
              "\n",
              "        async function convertToInteractive(key) {\n",
              "          const element = document.querySelector('#df-50c35ec0-e9e0-4dfd-973b-63fe6d7be6bb');\n",
              "          const dataTable =\n",
              "            await google.colab.kernel.invokeFunction('convertToInteractive',\n",
              "                                                     [key], {});\n",
              "          if (!dataTable) return;\n",
              "\n",
              "          const docLinkHtml = 'Like what you see? Visit the ' +\n",
              "            '<a target=\"_blank\" href=https://colab.research.google.com/notebooks/data_table.ipynb>data table notebook</a>'\n",
              "            + ' to learn more about interactive tables.';\n",
              "          element.innerHTML = '';\n",
              "          dataTable['output_type'] = 'display_data';\n",
              "          await google.colab.output.renderOutput(dataTable, element);\n",
              "          const docLink = document.createElement('div');\n",
              "          docLink.innerHTML = docLinkHtml;\n",
              "          element.appendChild(docLink);\n",
              "        }\n",
              "      </script>\n",
              "    </div>\n",
              "  </div>\n",
              "  "
            ]
          },
          "metadata": {},
          "execution_count": 183
        }
      ],
      "source": [
        "# features MI greater than 0.5\n",
        "X1 = ddos_data[target_features_1]\n",
        "# features MI greater than 0.2\n",
        "X2 = ddos_data[['Fwd IAT Total', ' Fwd IAT Max', ' Flow Duration', ' Flow IAT Max', ' Bwd IAT Max', 'Bwd IAT Total', ' Label', ' Subflow Fwd Bytes', 'Total Length of Fwd Packets', ' Average Packet Size', ' Destination Port', ' Fwd Header Length', ' Fwd Header Length.1', ' Total Length of Bwd Packets', ' Subflow Bwd Bytes', ' Avg Bwd Segment Size', ' Bwd Packet Length Mean', 'Bwd Packet Length Max', 'Init_Win_bytes_forward', ' Fwd Packet Length Max', ' Fwd Packet Length Mean', ' Avg Fwd Segment Size', ' Bwd Header Length', ' Fwd IAT Mean', ' Active Min', ' Active Max', ' Init_Win_bytes_backward', ' Total Fwd Packets', 'Subflow Fwd Packets', ' act_data_pkt_fwd', ' Fwd IAT Std', ' Packet Length Mean', ' Packet Length Variance', ' Packet Length Std', ' Bwd Packet Length Std', ' Fwd Packet Length Std', ' Bwd Packets/s', ' Total Backward Packets', ' Subflow Bwd Packets', ' Bwd IAT Mean', ' Bwd Packet Length Min', 'Fwd Packets/s', ' Max Packet Length', 'Flow Bytes/s', ' Flow IAT Std', ' Flow IAT Mean', ' Bwd IAT Std', ' Flow Packets/s']\n",
        "]\n",
        "# all features\n",
        "X3 = ddos_data.drop(columns = [' Label'])\n",
        "X3.head()"
      ]
    },
    {
      "cell_type": "code",
      "execution_count": 181,
      "metadata": {
        "colab": {
          "base_uri": "https://localhost:8080/"
        },
        "id": "x1UpEry2lbYg",
        "outputId": "614a199e-ac71-48ef-d575-7d25c2d9d4e8"
      },
      "outputs": [
        {
          "output_type": "stream",
          "name": "stdout",
          "text": [
            "16 225745\n",
            "48 225745\n",
            "78 225745\n"
          ]
        }
      ],
      "source": [
        "print(len(X1.columns), len(X1))\n",
        "print(len(X2.columns), len(X2))\n",
        "print(len(X3.columns), len(X3))"
      ]
    },
    {
      "cell_type": "code",
      "source": [
        "X2.head()"
      ],
      "metadata": {
        "colab": {
          "base_uri": "https://localhost:8080/",
          "height": 332
        },
        "id": "ffQJxSlxhGrr",
        "outputId": "d2298160-34de-4a04-98b1-74f851de6126"
      },
      "execution_count": 174,
      "outputs": [
        {
          "output_type": "execute_result",
          "data": {
            "text/plain": [
              "   Fwd IAT Total   Fwd IAT Max   Flow Duration   Flow IAT Max   Bwd IAT Max  \\\n",
              "0              3             3               3              3             0   \n",
              "1              0             0             109            109             0   \n",
              "2              0             0              52             52             0   \n",
              "3              0             0              34             34             0   \n",
              "4              3             3               3              3             0   \n",
              "\n",
              "   Bwd IAT Total   Label   Subflow Fwd Bytes  Total Length of Fwd Packets  \\\n",
              "0              0       0                  12                           12   \n",
              "1              0       0                   6                            6   \n",
              "2              0       0                   6                            6   \n",
              "3              0       0                   6                            6   \n",
              "4              0       0                  12                           12   \n",
              "\n",
              "    Average Packet Size  ...   Subflow Bwd Packets   Bwd IAT Mean  \\\n",
              "0                   9.0  ...                     0            0.0   \n",
              "1                   9.0  ...                     1            0.0   \n",
              "2                   9.0  ...                     1            0.0   \n",
              "3                   9.0  ...                     1            0.0   \n",
              "4                   9.0  ...                     0            0.0   \n",
              "\n",
              "    Bwd Packet Length Min  Fwd Packets/s   Max Packet Length  Flow Bytes/s  \\\n",
              "0                       0  666666.666700                   6  4.000000e+06   \n",
              "1                       6    9174.311927                   6  1.100917e+05   \n",
              "2                       6   19230.769230                   6  2.307692e+05   \n",
              "3                       6   29411.764710                   6  3.529412e+05   \n",
              "4                       0  666666.666700                   6  4.000000e+06   \n",
              "\n",
              "    Flow IAT Std   Flow IAT Mean   Bwd IAT Std   Flow Packets/s  \n",
              "0            0.0             3.0           0.0     666666.66670  \n",
              "1            0.0           109.0           0.0      18348.62385  \n",
              "2            0.0            52.0           0.0      38461.53846  \n",
              "3            0.0            34.0           0.0      58823.52941  \n",
              "4            0.0             3.0           0.0     666666.66670  \n",
              "\n",
              "[5 rows x 48 columns]"
            ],
            "text/html": [
              "\n",
              "  <div id=\"df-c59b5a7f-9d65-4642-b0d9-85d7a248ac3b\">\n",
              "    <div class=\"colab-df-container\">\n",
              "      <div>\n",
              "<style scoped>\n",
              "    .dataframe tbody tr th:only-of-type {\n",
              "        vertical-align: middle;\n",
              "    }\n",
              "\n",
              "    .dataframe tbody tr th {\n",
              "        vertical-align: top;\n",
              "    }\n",
              "\n",
              "    .dataframe thead th {\n",
              "        text-align: right;\n",
              "    }\n",
              "</style>\n",
              "<table border=\"1\" class=\"dataframe\">\n",
              "  <thead>\n",
              "    <tr style=\"text-align: right;\">\n",
              "      <th></th>\n",
              "      <th>Fwd IAT Total</th>\n",
              "      <th>Fwd IAT Max</th>\n",
              "      <th>Flow Duration</th>\n",
              "      <th>Flow IAT Max</th>\n",
              "      <th>Bwd IAT Max</th>\n",
              "      <th>Bwd IAT Total</th>\n",
              "      <th>Label</th>\n",
              "      <th>Subflow Fwd Bytes</th>\n",
              "      <th>Total Length of Fwd Packets</th>\n",
              "      <th>Average Packet Size</th>\n",
              "      <th>...</th>\n",
              "      <th>Subflow Bwd Packets</th>\n",
              "      <th>Bwd IAT Mean</th>\n",
              "      <th>Bwd Packet Length Min</th>\n",
              "      <th>Fwd Packets/s</th>\n",
              "      <th>Max Packet Length</th>\n",
              "      <th>Flow Bytes/s</th>\n",
              "      <th>Flow IAT Std</th>\n",
              "      <th>Flow IAT Mean</th>\n",
              "      <th>Bwd IAT Std</th>\n",
              "      <th>Flow Packets/s</th>\n",
              "    </tr>\n",
              "  </thead>\n",
              "  <tbody>\n",
              "    <tr>\n",
              "      <th>0</th>\n",
              "      <td>3</td>\n",
              "      <td>3</td>\n",
              "      <td>3</td>\n",
              "      <td>3</td>\n",
              "      <td>0</td>\n",
              "      <td>0</td>\n",
              "      <td>0</td>\n",
              "      <td>12</td>\n",
              "      <td>12</td>\n",
              "      <td>9.0</td>\n",
              "      <td>...</td>\n",
              "      <td>0</td>\n",
              "      <td>0.0</td>\n",
              "      <td>0</td>\n",
              "      <td>666666.666700</td>\n",
              "      <td>6</td>\n",
              "      <td>4.000000e+06</td>\n",
              "      <td>0.0</td>\n",
              "      <td>3.0</td>\n",
              "      <td>0.0</td>\n",
              "      <td>666666.66670</td>\n",
              "    </tr>\n",
              "    <tr>\n",
              "      <th>1</th>\n",
              "      <td>0</td>\n",
              "      <td>0</td>\n",
              "      <td>109</td>\n",
              "      <td>109</td>\n",
              "      <td>0</td>\n",
              "      <td>0</td>\n",
              "      <td>0</td>\n",
              "      <td>6</td>\n",
              "      <td>6</td>\n",
              "      <td>9.0</td>\n",
              "      <td>...</td>\n",
              "      <td>1</td>\n",
              "      <td>0.0</td>\n",
              "      <td>6</td>\n",
              "      <td>9174.311927</td>\n",
              "      <td>6</td>\n",
              "      <td>1.100917e+05</td>\n",
              "      <td>0.0</td>\n",
              "      <td>109.0</td>\n",
              "      <td>0.0</td>\n",
              "      <td>18348.62385</td>\n",
              "    </tr>\n",
              "    <tr>\n",
              "      <th>2</th>\n",
              "      <td>0</td>\n",
              "      <td>0</td>\n",
              "      <td>52</td>\n",
              "      <td>52</td>\n",
              "      <td>0</td>\n",
              "      <td>0</td>\n",
              "      <td>0</td>\n",
              "      <td>6</td>\n",
              "      <td>6</td>\n",
              "      <td>9.0</td>\n",
              "      <td>...</td>\n",
              "      <td>1</td>\n",
              "      <td>0.0</td>\n",
              "      <td>6</td>\n",
              "      <td>19230.769230</td>\n",
              "      <td>6</td>\n",
              "      <td>2.307692e+05</td>\n",
              "      <td>0.0</td>\n",
              "      <td>52.0</td>\n",
              "      <td>0.0</td>\n",
              "      <td>38461.53846</td>\n",
              "    </tr>\n",
              "    <tr>\n",
              "      <th>3</th>\n",
              "      <td>0</td>\n",
              "      <td>0</td>\n",
              "      <td>34</td>\n",
              "      <td>34</td>\n",
              "      <td>0</td>\n",
              "      <td>0</td>\n",
              "      <td>0</td>\n",
              "      <td>6</td>\n",
              "      <td>6</td>\n",
              "      <td>9.0</td>\n",
              "      <td>...</td>\n",
              "      <td>1</td>\n",
              "      <td>0.0</td>\n",
              "      <td>6</td>\n",
              "      <td>29411.764710</td>\n",
              "      <td>6</td>\n",
              "      <td>3.529412e+05</td>\n",
              "      <td>0.0</td>\n",
              "      <td>34.0</td>\n",
              "      <td>0.0</td>\n",
              "      <td>58823.52941</td>\n",
              "    </tr>\n",
              "    <tr>\n",
              "      <th>4</th>\n",
              "      <td>3</td>\n",
              "      <td>3</td>\n",
              "      <td>3</td>\n",
              "      <td>3</td>\n",
              "      <td>0</td>\n",
              "      <td>0</td>\n",
              "      <td>0</td>\n",
              "      <td>12</td>\n",
              "      <td>12</td>\n",
              "      <td>9.0</td>\n",
              "      <td>...</td>\n",
              "      <td>0</td>\n",
              "      <td>0.0</td>\n",
              "      <td>0</td>\n",
              "      <td>666666.666700</td>\n",
              "      <td>6</td>\n",
              "      <td>4.000000e+06</td>\n",
              "      <td>0.0</td>\n",
              "      <td>3.0</td>\n",
              "      <td>0.0</td>\n",
              "      <td>666666.66670</td>\n",
              "    </tr>\n",
              "  </tbody>\n",
              "</table>\n",
              "<p>5 rows × 48 columns</p>\n",
              "</div>\n",
              "      <button class=\"colab-df-convert\" onclick=\"convertToInteractive('df-c59b5a7f-9d65-4642-b0d9-85d7a248ac3b')\"\n",
              "              title=\"Convert this dataframe to an interactive table.\"\n",
              "              style=\"display:none;\">\n",
              "        \n",
              "  <svg xmlns=\"http://www.w3.org/2000/svg\" height=\"24px\"viewBox=\"0 0 24 24\"\n",
              "       width=\"24px\">\n",
              "    <path d=\"M0 0h24v24H0V0z\" fill=\"none\"/>\n",
              "    <path d=\"M18.56 5.44l.94 2.06.94-2.06 2.06-.94-2.06-.94-.94-2.06-.94 2.06-2.06.94zm-11 1L8.5 8.5l.94-2.06 2.06-.94-2.06-.94L8.5 2.5l-.94 2.06-2.06.94zm10 10l.94 2.06.94-2.06 2.06-.94-2.06-.94-.94-2.06-.94 2.06-2.06.94z\"/><path d=\"M17.41 7.96l-1.37-1.37c-.4-.4-.92-.59-1.43-.59-.52 0-1.04.2-1.43.59L10.3 9.45l-7.72 7.72c-.78.78-.78 2.05 0 2.83L4 21.41c.39.39.9.59 1.41.59.51 0 1.02-.2 1.41-.59l7.78-7.78 2.81-2.81c.8-.78.8-2.07 0-2.86zM5.41 20L4 18.59l7.72-7.72 1.47 1.35L5.41 20z\"/>\n",
              "  </svg>\n",
              "      </button>\n",
              "      \n",
              "  <style>\n",
              "    .colab-df-container {\n",
              "      display:flex;\n",
              "      flex-wrap:wrap;\n",
              "      gap: 12px;\n",
              "    }\n",
              "\n",
              "    .colab-df-convert {\n",
              "      background-color: #E8F0FE;\n",
              "      border: none;\n",
              "      border-radius: 50%;\n",
              "      cursor: pointer;\n",
              "      display: none;\n",
              "      fill: #1967D2;\n",
              "      height: 32px;\n",
              "      padding: 0 0 0 0;\n",
              "      width: 32px;\n",
              "    }\n",
              "\n",
              "    .colab-df-convert:hover {\n",
              "      background-color: #E2EBFA;\n",
              "      box-shadow: 0px 1px 2px rgba(60, 64, 67, 0.3), 0px 1px 3px 1px rgba(60, 64, 67, 0.15);\n",
              "      fill: #174EA6;\n",
              "    }\n",
              "\n",
              "    [theme=dark] .colab-df-convert {\n",
              "      background-color: #3B4455;\n",
              "      fill: #D2E3FC;\n",
              "    }\n",
              "\n",
              "    [theme=dark] .colab-df-convert:hover {\n",
              "      background-color: #434B5C;\n",
              "      box-shadow: 0px 1px 3px 1px rgba(0, 0, 0, 0.15);\n",
              "      filter: drop-shadow(0px 1px 2px rgba(0, 0, 0, 0.3));\n",
              "      fill: #FFFFFF;\n",
              "    }\n",
              "  </style>\n",
              "\n",
              "      <script>\n",
              "        const buttonEl =\n",
              "          document.querySelector('#df-c59b5a7f-9d65-4642-b0d9-85d7a248ac3b button.colab-df-convert');\n",
              "        buttonEl.style.display =\n",
              "          google.colab.kernel.accessAllowed ? 'block' : 'none';\n",
              "\n",
              "        async function convertToInteractive(key) {\n",
              "          const element = document.querySelector('#df-c59b5a7f-9d65-4642-b0d9-85d7a248ac3b');\n",
              "          const dataTable =\n",
              "            await google.colab.kernel.invokeFunction('convertToInteractive',\n",
              "                                                     [key], {});\n",
              "          if (!dataTable) return;\n",
              "\n",
              "          const docLinkHtml = 'Like what you see? Visit the ' +\n",
              "            '<a target=\"_blank\" href=https://colab.research.google.com/notebooks/data_table.ipynb>data table notebook</a>'\n",
              "            + ' to learn more about interactive tables.';\n",
              "          element.innerHTML = '';\n",
              "          dataTable['output_type'] = 'display_data';\n",
              "          await google.colab.output.renderOutput(dataTable, element);\n",
              "          const docLink = document.createElement('div');\n",
              "          docLink.innerHTML = docLinkHtml;\n",
              "          element.appendChild(docLink);\n",
              "        }\n",
              "      </script>\n",
              "    </div>\n",
              "  </div>\n",
              "  "
            ]
          },
          "metadata": {},
          "execution_count": 174
        }
      ]
    },
    {
      "cell_type": "markdown",
      "metadata": {
        "id": "yQV9i3Qkmmza"
      },
      "source": [
        "4, Training\n"
      ]
    },
    {
      "cell_type": "markdown",
      "metadata": {
        "id": "RCqNAwx_JQda"
      },
      "source": [
        "Devide data to two part, one for training, one for testing(predicting)"
      ]
    },
    {
      "cell_type": "markdown",
      "metadata": {
        "id": "1fWCFyhwU8C4"
      },
      "source": [
        ""
      ]
    },
    {
      "cell_type": "code",
      "execution_count": 189,
      "metadata": {
        "id": "JQe0szQS8Hep"
      },
      "outputs": [],
      "source": [
        "# split the data into validation data & training data, for both feature and target\n",
        "from sklearn.model_selection import train_test_split\n",
        "train_X, validate_X, train_y, validate_y = train_test_split(X1, y, random_state = 0)"
      ]
    },
    {
      "cell_type": "code",
      "execution_count": 190,
      "metadata": {
        "colab": {
          "base_uri": "https://localhost:8080/"
        },
        "id": "k9gd8k9JmC4G",
        "outputId": "5d095d66-c246-4058-d42c-68ac3259cd86"
      },
      "outputs": [
        {
          "output_type": "execute_result",
          "data": {
            "text/plain": [
              "DecisionTreeRegressor()"
            ]
          },
          "metadata": {},
          "execution_count": 190
        }
      ],
      "source": [
        "# define model\n",
        "from sklearn.tree import DecisionTreeRegressor\n",
        "ddos_model = DecisionTreeRegressor()\n",
        "# fit model\n",
        "ddos_model.fit(train_X, train_y)"
      ]
    },
    {
      "cell_type": "markdown",
      "metadata": {
        "id": "BIHcZ5jLmgdz"
      },
      "source": [
        "4.1 (Experimental) prediction"
      ]
    },
    {
      "cell_type": "code",
      "execution_count": 191,
      "metadata": {
        "id": "mp3WL4gTmajO"
      },
      "outputs": [],
      "source": [
        "# # get predicted Label on validation data\n",
        "ddosLabel_prediction = ddos_model.predict(validate_X)"
      ]
    },
    {
      "cell_type": "code",
      "execution_count": 192,
      "metadata": {
        "colab": {
          "base_uri": "https://localhost:8080/"
        },
        "id": "MX-jwqzbnMO8",
        "outputId": "9bdf434f-b4af-4b48-e1ba-fdfe849a57e6"
      },
      "outputs": [
        {
          "output_type": "stream",
          "name": "stdout",
          "text": [
            "[0.03731343 0.         1.         ... 1.         1.         0.        ]\n"
          ]
        },
        {
          "output_type": "execute_result",
          "data": {
            "text/plain": [
              "56437"
            ]
          },
          "metadata": {},
          "execution_count": 192
        }
      ],
      "source": [
        "print(ddosLabel_prediction)\n",
        "len(ddosLabel_prediction)"
      ]
    },
    {
      "cell_type": "code",
      "execution_count": 193,
      "metadata": {
        "colab": {
          "base_uri": "https://localhost:8080/"
        },
        "id": "XUq-vXpynStf",
        "outputId": "8b939008-070f-488d-9e52-a98368e62eba"
      },
      "outputs": [
        {
          "output_type": "execute_result",
          "data": {
            "text/plain": [
              "0.00039921915569928834"
            ]
          },
          "metadata": {},
          "execution_count": 193
        }
      ],
      "source": [
        "# Evaluate: Determine how accurate the model's predictions are\n",
        "# by using Mean Absolute Error\n",
        "from sklearn.metrics import mean_absolute_error\n",
        "mean_absolute_error(validate_y, ddosLabel_prediction)"
      ]
    }
  ],
  "metadata": {
    "colab": {
      "collapsed_sections": [],
      "name": "Wenjia's 5th ML experiment.ipynb",
      "provenance": [],
      "authorship_tag": "ABX9TyOX/1nho8693EvckwuX8j/y",
      "include_colab_link": true
    },
    "kernelspec": {
      "display_name": "Python 3",
      "name": "python3"
    },
    "language_info": {
      "name": "python"
    }
  },
  "nbformat": 4,
  "nbformat_minor": 0
}